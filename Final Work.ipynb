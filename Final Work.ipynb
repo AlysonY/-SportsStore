{
 "cells": [
  {
   "cell_type": "markdown",
   "id": "49be5285",
   "metadata": {},
   "source": [
    "# 1. Предобработка данных"
   ]
  },
  {
   "cell_type": "code",
   "execution_count": 1,
   "id": "f4d34fd4",
   "metadata": {},
   "outputs": [],
   "source": [
    "import sqlite3\n",
    "import pandas as pd\n",
    "import re\n",
    "from re import search\n",
    "import matplotlib.pyplot as plt\n",
    "import pymorphy3\n",
    "from sklearn.preprocessing import MultiLabelBinarizer, OneHotEncoder, StandardScaler, LabelEncoder\n",
    "from sklearn.preprocessing import FunctionTransformer\n",
    "from sklearn.compose import ColumnTransformer\n",
    "from sklearn.pipeline import Pipeline\n",
    "from sklearn.ensemble import RandomForestClassifier\n",
    "from sklearn.linear_model import LogisticRegression\n",
    "from sklearn.model_selection import train_test_split\n",
    "from sklearn.metrics import classification_report, roc_auc_score, f1_score\n",
    "from scipy import stats\n",
    "import numpy as np\n",
    "from sklearn.cluster import KMeans\n",
    "from sklearn.manifold import TSNE\n",
    "from sklearn.metrics import silhouette_score\n",
    "import seaborn as sns"
   ]
  },
  {
   "cell_type": "code",
   "execution_count": 2,
   "id": "8f4f8a92",
   "metadata": {},
   "outputs": [],
   "source": [
    "dbfile = 'data/shop_database.db'\n",
    "conn = sqlite3.connect(dbfile)\n",
    "cursor = conn.cursor"
   ]
  },
  {
   "cell_type": "code",
   "execution_count": 3,
   "id": "1f4e7d92",
   "metadata": {},
   "outputs": [],
   "source": [
    "conn = sqlite3.connect(dbfile)\n",
    "cursor = conn.cursor\n",
    "personal_data = pd.read_sql_query('SELECT *\\\n",
    "                        FROM personal_data\\\n",
    "                        WHERE country == 32',\n",
    "                       conn)\n",
    "conn.close()"
   ]
  },
  {
   "cell_type": "code",
   "execution_count": 4,
   "id": "9ec445c0",
   "metadata": {},
   "outputs": [
    {
     "data": {
      "text/plain": [
       "0.026963710494897843"
      ]
     },
     "execution_count": 4,
     "metadata": {},
     "output_type": "execute_result"
    }
   ],
   "source": [
    "personal_data[(personal_data['age']<17)&(personal_data['education']=='высшее')].shape[0]/personal_data.shape[0]"
   ]
  },
  {
   "cell_type": "markdown",
   "id": "50668836",
   "metadata": {},
   "source": [
    "Некорректные данные составляют менее 3 %. Удаляю их."
   ]
  },
  {
   "cell_type": "code",
   "execution_count": 5,
   "id": "aee963a6",
   "metadata": {},
   "outputs": [],
   "source": [
    "personal_data = personal_data[~((personal_data['age']<17)&(personal_data['education']=='высшее'))]"
   ]
  },
  {
   "cell_type": "code",
   "execution_count": 6,
   "id": "f6d495a7",
   "metadata": {},
   "outputs": [],
   "source": [
    "personal_data_2 = pd.read_csv('data/personal_data.csv')\n",
    "personal_data_2 = personal_data_2[personal_data_2['country']==32]"
   ]
  },
  {
   "cell_type": "code",
   "execution_count": 7,
   "id": "0ab697ab",
   "metadata": {},
   "outputs": [
    {
     "data": {
      "text/plain": [
       "0.02868826273081592"
      ]
     },
     "execution_count": 7,
     "metadata": {},
     "output_type": "execute_result"
    }
   ],
   "source": [
    "personal_data_2[((personal_data_2['age']<17)&(personal_data_2['education']=='высшее'))].shape[0]/personal_data_2.shape[0]"
   ]
  },
  {
   "cell_type": "markdown",
   "id": "b8168619",
   "metadata": {},
   "source": [
    "Некорректные данные составляют менее 3 %. Удаляю их."
   ]
  },
  {
   "cell_type": "code",
   "execution_count": 8,
   "id": "fbcea6fe",
   "metadata": {},
   "outputs": [],
   "source": [
    "personal_data_2 = personal_data_2[~((personal_data_2['age']<17)&(personal_data_2['education']=='высшее'))]"
   ]
  },
  {
   "cell_type": "code",
   "execution_count": 9,
   "id": "5fdc2863",
   "metadata": {},
   "outputs": [
    {
     "name": "stdout",
     "output_type": "stream",
     "text": [
      "(86392, 6)\n",
      "(15202, 5)\n"
     ]
    }
   ],
   "source": [
    "print(personal_data.shape)\n",
    "print(personal_data_2.shape)"
   ]
  },
  {
   "cell_type": "code",
   "execution_count": 10,
   "id": "6d51a531",
   "metadata": {},
   "outputs": [],
   "source": [
    "personal_data = pd.concat([personal_data, personal_data_2], ignore_index=True)"
   ]
  },
  {
   "cell_type": "code",
   "execution_count": 11,
   "id": "ced7e936",
   "metadata": {},
   "outputs": [],
   "source": [
    "conn = sqlite3.connect(dbfile)\n",
    "cursor = conn.cursor\n",
    "personal_data_coeffs = pd.read_sql_query('SELECT id, personal_coef\\\n",
    "                        FROM personal_data_coeffs',\n",
    "                       conn)\n",
    "conn.close()"
   ]
  },
  {
   "cell_type": "code",
   "execution_count": 12,
   "id": "fffbc09c",
   "metadata": {},
   "outputs": [],
   "source": [
    "df = personal_data.merge(personal_data_coeffs, how='left', on='id')"
   ]
  },
  {
   "cell_type": "code",
   "execution_count": 13,
   "id": "ad84488d",
   "metadata": {},
   "outputs": [],
   "source": [
    "conn = sqlite3.connect(dbfile)\n",
    "cursor = conn.cursor\n",
    "purchases = pd.read_sql_query('SELECT*\\\n",
    "                        FROM purchases',\n",
    "                       conn)\n",
    "conn.close()"
   ]
  },
  {
   "cell_type": "code",
   "execution_count": 14,
   "id": "64357ec6",
   "metadata": {},
   "outputs": [],
   "source": [
    "df = df.merge(purchases, how='left', on='id')"
   ]
  },
  {
   "cell_type": "code",
   "execution_count": 15,
   "id": "71d7ce78",
   "metadata": {},
   "outputs": [],
   "source": [
    "def normalize_colours(colour_string):\n",
    "    \n",
    "    colour_mapping = {\n",
    "        'черный': ['черный', 'карбон'],\n",
    "        'белый': ['белый', 'молочный', 'кость', 'мел', 'перламутровый'],\n",
    "        'синий': ['синий', 'сапфировый', 'петроль', 'черничный', 'ультрамарин',\n",
    "                  'индиго', 'лазурный', 'виноградный', 'кобальтовый', 'сизый',\n",
    "                 'шторм'],\n",
    "        'серый': ['серый', 'графитовый', 'серебряный', 'стальной', 'хромовый',\n",
    "                  'асфальтовый', 'серебристый', 'меланж', 'антрацит', 'металлик',\n",
    "                 'дымчатый', 'графит', 'серебро', 'пепельный', 'хром',\n",
    "                 'вереск', 'обсидиан', 'никель', 'антрацитовый', 'металлический',\n",
    "                  'титаниум', 'гранитный', 'cеребряный', 'платиновый', 'оловянный'],\n",
    "        'зеленый': ['зеленый', 'оливковый', 'салатовый', 'болотный', 'мятный',\n",
    "                    'еловый', 'фисташковый', 'яблочный', 'хвойный', 'изумрудный',\n",
    "                    'малахитовый', 'лаймовый', 'лайм', 'ментол', 'травяной',\n",
    "                   'хамелеон', 'яблоко', 'авокадо', 'кедровый', 'джунгли'],\n",
    "        'бежевый': ['бежевый', 'кремовый', 'нюд', 'пудровый', 'шампань',\n",
    "                   'льняной', 'экрю', 'латте', 'нюдовый'],\n",
    "        'красный': ['красный', 'бордовый', 'малиновый', 'вишневый', 'алый',\n",
    "                    'клубника', 'бордо', 'рубиновый', 'бургунди'],\n",
    "        'голубой': ['голубой', 'бирюзовый', 'морской', 'волна', 'небесный',\n",
    "                    'васильковый', 'аквамарин', 'волны', 'циан'],\n",
    "        'розовый': ['розовый', 'пионовый'],\n",
    "        'желтый': ['желтый', 'золотистый', 'солнечный', 'песочный', 'золотой',\n",
    "                   'персиковый', 'медовый', 'горчичный', 'лимонный', 'золото',\n",
    "                  'персик', 'янтарный', 'латунный', 'кукурузный', 'вольт'],\n",
    "        'мультицвет': ['мультицвет'],\n",
    "        'оранжевый': ['оранжевый', 'коралловый', 'охра', 'лососевый', 'морковный',\n",
    "                     'абрикосовый', 'медный', 'бронзовый', 'манго', 'коралл',\n",
    "                     'глиняный'],\n",
    "        'фиолетовый': ['фиолетовый', 'сиреневый', 'лавандовый', 'фуксия', 'баклажановый',\n",
    "                       'орхидея', 'ирисовый', 'сливовый', 'лиловый', 'винный',\n",
    "                      'пурпурный', 'фиалковый', 'ирис', 'ежевичный', 'ягодный'],\n",
    "        'коричневый': ['коричневый', 'кофейный', 'терракотовый', 'ореховый', 'какао',\n",
    "                      'каштановый', 'кирпичный'],\n",
    "        'милитари': ['милитари', 'хаки', 'камуфляж', 'камуфляжный', 'камо']\n",
    "    }\n",
    "    \n",
    "    if not colour_string or colour_string.strip() == '':\n",
    "        return []\n",
    "    \n",
    "    colours = colour_string.split('/')\n",
    "    \n",
    "    normalized_colours = []\n",
    "    for colour in colours:\n",
    "        colour = colour.strip().lower().replace('ё', 'е').replace('e', 'е')\n",
    "        \n",
    "        if colour == 'сиинй':\n",
    "            colour = 'синий'\n",
    "        \n",
    "        if len(re.split(\"[,.-]\", colour)) > 1:\n",
    "            colour = (re.split(\"[,.-]\", colour))[-1]\n",
    "            \n",
    "        for main_colour, variants in colour_mapping.items():\n",
    "            if colour in variants:\n",
    "                colour = main_colour\n",
    "                break\n",
    "                \n",
    "        if colour not in colour_mapping.keys():\n",
    "            colour = 'другой'\n",
    "                \n",
    "        normalized_colours.append(colour)\n",
    "        \n",
    "    return normalized_colours"
   ]
  },
  {
   "cell_type": "code",
   "execution_count": 16,
   "id": "55c9ab78",
   "metadata": {},
   "outputs": [],
   "source": [
    "df['normalized_colour'] = df['colour'].apply(normalize_colours)"
   ]
  },
  {
   "cell_type": "code",
   "execution_count": 17,
   "id": "51c4eb9c",
   "metadata": {},
   "outputs": [],
   "source": [
    "#Код использовался для создания colour_mapping\n",
    "#exploded_colours = df['normalized_colour'].explode()\n",
    "#\n",
    "#colour_counts = exploded_colours.value_counts()\n",
    "#\n",
    "#print(colour_counts)"
   ]
  },
  {
   "cell_type": "markdown",
   "id": "5e6b004c",
   "metadata": {},
   "source": [
    "Из датафрейма видно, что для женских товаров product_sex = 0, для мужских товаров product_sex = 1."
   ]
  },
  {
   "cell_type": "code",
   "execution_count": 18,
   "id": "5ce29d3f",
   "metadata": {},
   "outputs": [],
   "source": [
    "def search_product_sex(text):\n",
    "    text = text.strip().lower()\n",
    "    if search('жен|берем', text):\n",
    "        return 0\n",
    "    elif search('муж', text):\n",
    "        return 1\n",
    "    elif search('девоч|мальч|детск|подростк', text):\n",
    "        return 2\n",
    "    else:\n",
    "        return 3"
   ]
  },
  {
   "cell_type": "code",
   "execution_count": 19,
   "id": "bffd11ee",
   "metadata": {},
   "outputs": [],
   "source": [
    "df['product_sex_search'] = df['product'].apply(lambda x: search_product_sex(x))"
   ]
  },
  {
   "cell_type": "code",
   "execution_count": 20,
   "id": "7ce7984b",
   "metadata": {},
   "outputs": [
    {
     "data": {
      "text/plain": [
       "array([nan,  0.])"
      ]
     },
     "execution_count": 20,
     "metadata": {},
     "output_type": "execute_result"
    }
   ],
   "source": [
    "df[(df['product_sex']!=df['product_sex_search'])]['product_sex'].unique()"
   ]
  },
  {
   "cell_type": "code",
   "execution_count": 21,
   "id": "eec176a1",
   "metadata": {},
   "outputs": [
    {
     "data": {
      "text/html": [
       "<div>\n",
       "<style scoped>\n",
       "    .dataframe tbody tr th:only-of-type {\n",
       "        vertical-align: middle;\n",
       "    }\n",
       "\n",
       "    .dataframe tbody tr th {\n",
       "        vertical-align: top;\n",
       "    }\n",
       "\n",
       "    .dataframe thead th {\n",
       "        text-align: right;\n",
       "    }\n",
       "</style>\n",
       "<table border=\"1\" class=\"dataframe\">\n",
       "  <thead>\n",
       "    <tr style=\"text-align: right;\">\n",
       "      <th></th>\n",
       "      <th>id</th>\n",
       "      <th>gender</th>\n",
       "      <th>age</th>\n",
       "      <th>education</th>\n",
       "      <th>city</th>\n",
       "      <th>country</th>\n",
       "      <th>personal_coef</th>\n",
       "      <th>product</th>\n",
       "      <th>colour</th>\n",
       "      <th>cost</th>\n",
       "      <th>product_sex</th>\n",
       "      <th>base_sale</th>\n",
       "      <th>dt</th>\n",
       "      <th>normalized_colour</th>\n",
       "      <th>product_sex_search</th>\n",
       "    </tr>\n",
       "  </thead>\n",
       "  <tbody>\n",
       "    <tr>\n",
       "      <th>27808</th>\n",
       "      <td>7554</td>\n",
       "      <td>0.0</td>\n",
       "      <td>43</td>\n",
       "      <td>среднее</td>\n",
       "      <td>1175</td>\n",
       "      <td>32</td>\n",
       "      <td>0.5072</td>\n",
       "      <td>Протеин / Белковый коктейль для похудения / Fi...</td>\n",
       "      <td>белый/маджента</td>\n",
       "      <td>929</td>\n",
       "      <td>0.0</td>\n",
       "      <td>1</td>\n",
       "      <td>57</td>\n",
       "      <td>[белый, другой]</td>\n",
       "      <td>3</td>\n",
       "    </tr>\n",
       "    <tr>\n",
       "      <th>723456</th>\n",
       "      <td>25104</td>\n",
       "      <td>NaN</td>\n",
       "      <td>35</td>\n",
       "      <td>среднее</td>\n",
       "      <td>1203</td>\n",
       "      <td>32</td>\n",
       "      <td>0.4304</td>\n",
       "      <td>Протеин / Белковый коктейль для похудения / Fi...</td>\n",
       "      <td>белый/маджента</td>\n",
       "      <td>929</td>\n",
       "      <td>0.0</td>\n",
       "      <td>1</td>\n",
       "      <td>58</td>\n",
       "      <td>[белый, другой]</td>\n",
       "      <td>3</td>\n",
       "    </tr>\n",
       "  </tbody>\n",
       "</table>\n",
       "</div>"
      ],
      "text/plain": [
       "           id  gender  age education  city  country  personal_coef  \\\n",
       "27808    7554     0.0   43   среднее  1175       32         0.5072   \n",
       "723456  25104     NaN   35   среднее  1203       32         0.4304   \n",
       "\n",
       "                                                  product          colour  \\\n",
       "27808   Протеин / Белковый коктейль для похудения / Fi...  белый/маджента   \n",
       "723456  Протеин / Белковый коктейль для похудения / Fi...  белый/маджента   \n",
       "\n",
       "        cost  product_sex  base_sale  dt normalized_colour  product_sex_search  \n",
       "27808    929          0.0          1  57   [белый, другой]                   3  \n",
       "723456   929          0.0          1  58   [белый, другой]                   3  "
      ]
     },
     "execution_count": 21,
     "metadata": {},
     "output_type": "execute_result"
    }
   ],
   "source": [
    "df[(df['product_sex']!=df['product_sex_search']) & (df['product_sex']==0)]"
   ]
  },
  {
   "cell_type": "markdown",
   "id": "0d74d490",
   "metadata": {},
   "source": [
    "Только 2 значения не совпало с найденными."
   ]
  },
  {
   "cell_type": "code",
   "execution_count": 22,
   "id": "b51bffbb",
   "metadata": {},
   "outputs": [],
   "source": [
    "df['product_sex'] = df['product_sex'].fillna(df['product_sex_search'])"
   ]
  },
  {
   "cell_type": "code",
   "execution_count": 23,
   "id": "89c3f215",
   "metadata": {},
   "outputs": [],
   "source": [
    "df = df.astype({'product_sex': 'int64'})"
   ]
  },
  {
   "cell_type": "code",
   "execution_count": 24,
   "id": "9f18a9f8",
   "metadata": {},
   "outputs": [],
   "source": [
    "df = df.drop(['country', 'product_sex_search'], axis=1)"
   ]
  },
  {
   "cell_type": "code",
   "execution_count": 25,
   "id": "fd7a6bb1",
   "metadata": {},
   "outputs": [],
   "source": [
    "morph = pymorphy3.MorphAnalyzer()\n",
    "\n",
    "def extract_noun(text):\n",
    "    words = text.split()\n",
    "    for word in words:\n",
    "        parsed = morph.parse(word)[0]\n",
    "        if \"NOUN\" in parsed.tag:\n",
    "            return word\n",
    "    return words[0]"
   ]
  },
  {
   "cell_type": "code",
   "execution_count": 26,
   "id": "6aa15ad4",
   "metadata": {},
   "outputs": [],
   "source": [
    "df['product_category'] = df['product'].apply(lambda x: extract_noun(x.strip().lower().replace(',', '')))"
   ]
  },
  {
   "cell_type": "code",
   "execution_count": 27,
   "id": "228512ad",
   "metadata": {},
   "outputs": [
    {
     "data": {
      "text/plain": [
       "843"
      ]
     },
     "execution_count": 27,
     "metadata": {},
     "output_type": "execute_result"
    }
   ],
   "source": [
    "df['product_category'].nunique()"
   ]
  },
  {
   "cell_type": "code",
   "execution_count": 28,
   "id": "1b776db7",
   "metadata": {},
   "outputs": [],
   "source": [
    "def grouping_of_products(product_string, full_product_string):\n",
    "    \n",
    "    product_string = product_string.replace('k', 'к')\n",
    "    \n",
    "    product_mapping = {\n",
    "        'обувь': [\n",
    "            'кроссовки', 'кеды', 'полуботинки', 'сандалии', 'шлепанцы', 'слипоны', 'ботинки', 'сабо', 'бутсы',\n",
    "            'сапоги', 'балетки', 'тапочки', 'эспадрильи', 'туфли', 'велоботинки', 'боксерки', 'мокасины', 'борцовки',\n",
    "            'чешки', 'сороконожки', 'велотуфли', 'шиповки'\n",
    "        ],\n",
    "        'одежда': [\n",
    "            'брюки', 'легинсы', 'тайтсы', 'лосины', 'гамаши', 'леггинсы', 'брюки-самосбросы', 'футболка', 'футболки',\n",
    "            'майка', 'топ', 'туника', 'платье', 'джерси', 'бра', 'шорты', 'велосипедки', 'юбка-шорты', 'бриджи',\n",
    "            'велошорты', 'юбка', 'брюки-шорты', 'куртка', 'ветровка', 'пуховик', 'пальто', 'комбинезон', 'жилет',\n",
    "            'анорак', 'олимпийка', 'дождевик', 'бомбер', 'накидка-дождевик', 'накидка', 'полукомбинезон', 'парка',\n",
    "            'толстовка', 'худи', 'джемпер', 'свитшот', 'лонгслив', 'поло', 'рубашка', 'свитер', 'рашгард', 'термобелье',\n",
    "            'костюм', 'комплект одежды', 'купальник', 'плавки', 'джаммеры', 'плавки-шорты', 'бикини', 'пончо',\n",
    "            'гидрокостюм', 'кимоно', 'комплект мембранной одежды', 'топ-бра', 'куртка-анорак', 'велобриджи', 'боди',\n",
    "            'форма', 'тайсы'\n",
    "        ],\n",
    "        'аксессуары': [\n",
    "            'очки', 'повязка', 'шапка', 'бейсболка', 'бейсболки', 'бандана', 'балаклава', 'козырек', 'панама', 'кепка',\n",
    "            'манишка', 'лиф', 'трусы', 'носки', 'гетры', 'гольфы', 'ремень', 'перчатки', 'варежки', 'гейтор', 'стельки',\n",
    "            'шнурки', 'подпяточники', 'бафф', 'украшение', 'полотенце', 'маска', 'напульсник', 'напульсники',\n",
    "            'наколенники', 'наколенник', 'налокотники', 'брелок', 'подушка', 'сидушка', 'вкладыш', 'плед', 'одеяло',\n",
    "            'стрессбол', 'стрессбол', 'шнурок', 'браслет', 'шарф', 'повязки', 'шапка и перчатки', 'рукава', 'рукав',\n",
    "            'ремень-держатель', 'ремни для рюкзака', 'полотенца', 'корпус', 'флаг', 'снуд', 'наклейки', 'тату-наклейки'\n",
    "        ],\n",
    "        'рюкзаки и сумки': [\n",
    "            'рюкзак', 'рюкзаки', 'герморюкзак', 'рюкзак-жилет', 'сумка', 'мешок', 'гермомешок', 'гермосумка', 'кошелек',\n",
    "            'несессер', 'сумка-шоппер', 'сумка-шопер', 'пакет', 'чехол', 'чехлы', 'пояс', 'чемодан', 'баул', 'сумка-баул',\n",
    "            'защитные чехлы для обуви', 'станок', 'сумка-рюкзак', 'аптечка', 'гермочехол', 'фартук'\n",
    "        ],\n",
    "        'электроника': [\n",
    "            'камера', 'фонарь', 'эхолот', 'фитнес-браслет', 'компьютер', 'велокомпьютер', 'весы', 'аккумулятор', 'часы',\n",
    "            'монитор', 'батарейки', 'станция', 'наушники', 'фитнес', 'фонари', 'панель', 'шагомер', 'секундомер',\n",
    "            'устройство', 'утюг'\n",
    "        ],\n",
    "        'туристические аксессуары': [\n",
    "            'бутылка', 'фляжка', 'фляга', 'кружка', 'термокружка', 'флягодержатель', 'термос', 'термоконтейнер',\n",
    "            'термобутылка', 'термосумка', 'нож', 'мультитул', 'ложка', 'миска', 'чайник', 'система', 'шейкер',\n",
    "            'ремонтный комплект для матраса', 'бинокль', 'гамак', 'веревка', 'грелка', 'палатка', 'тент', 'матрас',\n",
    "            'набор', 'кресло', 'стул', 'стул-табурет', 'кровать-раскладушка', 'плита', 'котел', 'котелок', 'кухня',\n",
    "            'баллон','горелка', 'экран', 'топор', 'насос-помпа', 'карман', 'лопата', 'стол', 'москитная сетка', 'коврик',\n",
    "            'душ-гермомешок', 'дуги', 'карабин', 'пила', 'тренога', 'переходник-адаптер', 'удилище', 'катушка', 'спиннинг',\n",
    "            'воблер', 'леска', 'блесна', 'стул-рюкзак', 'мангал', 'мультиинструмент', 'спички', 'веревки-растяжки',\n",
    "            'огниво', 'комплект радиостанций', 'стропа', 'матраc', 'переходник', 'фильтр', 'тарелка', 'кораблик',\n",
    "            'комплект для питьевых систем', 'вставка', 'кровать', 'дно', 'стакан', 'палатка-тент', 'душ', 'шампуры',\n",
    "            'кофеварка', 'пряжка', 'чашка', 'кастрюля', 'крюк', 'сухое', 'пуллер', 'бутылки', 'виброхвост', 'резак',\n",
    "            'лампа', 'разогреватель', 'клапан', 'указка', 'насадки'\n",
    "        ],\n",
    "        'транспорт': [\n",
    "            'байдарка', 'лодка', 'велосипед', 'самокат', 'электросамокат', 'электровелосипед', 'скейтборд', 'лонгборд',\n",
    "            'коньки', 'круизер', 'мини-круизер', 'ролик', 'беговел', 'cамокат', 'сноуборд', 'лыжи', 'фитнес-коньки',\n",
    "            'sup', 'доска', 'gladiator', 'катамаран', 'пакрафт', 'комплект лыжный', 'каяк', 'ролики'\n",
    "        ],\n",
    "        'спортивное питание, медицина, красота': [\n",
    "            'батончик', 'протеин', 'мюсли', 'изотоник', 'аминокислоты', 'креатин', 'добавка', 'батончики', 'витамины',\n",
    "            'печенье', 'казеин', 'коллаген', 'аминокислота', 'витамин', 'вода', 'напиток', 'комплекс', 'стик',\n",
    "            'аэрозоль', 'аэрозоль-репеллент', 'крем', 'спрей охлаждающий', 'жиросжигатель', 'гейнер', 'суппорт',\n",
    "            'кинезиотейп', 'массажер', 'тейп', 'магнезия', 'глюкозамин', 'л-карнитин', 'капсул', 'цилиндр', 'cуппорт',\n",
    "            'магний', 'кислота/витамин', 'шар', 'мини-ролик', 'мелатонин', 'коктейль', 'лейкопластырь', 'пластырь'\n",
    "        ],\n",
    "        'аксессуары уходовые': [\n",
    "            'сушка', 'краска-ликвид', 'краска', 'антифог', 'очиститель', 'пена', 'дезодорант', 'пропитка', 'средство',\n",
    "            'гель', 'салфетки', 'салфетка', 'щетка', 'растяжитель', 'водоотталкивающий', 'водоотталкивающий спрей',\n",
    "            'нейтрализатор', 'ластик', 'пятновыводитель'\n",
    "        ],\n",
    "        'велозапчасти': [\n",
    "            'покрышка', 'колесо', 'велопедали', 'седло', 'держатель', 'вилка', 'замок', 'подножка', 'крыло',\n",
    "            'звонок', 'смазка', 'мультиключ', 'грипсы', 'багажник', 'ручки', 'колодки', 'корзина',\n",
    "            'переключатель', 'вынос', 'педали', 'втулка', 'каретка', 'тормоз', 'рога', 'штырь', 'зеркало', 'руль',\n",
    "            'подшипник', 'цепь', 'выжимка', 'машинка', 'гудок', 'ключ', 'комборучка', 'щетка-скребок', 'крюк-держатель',\n",
    "            'комборучки', 'трещотка', 'шампунь', 'комплект монтажек', 'защита', 'велокресло', 'велостанок',\n",
    "            'ремонтный комплект', 'колпачки', 'тросики', 'заплатки', 'колеса', 'подставка для транспорта',\n",
    "            'тормозная ручка', 'ручка для самоката', 'адаптер', 'шифтер', 'колодка', 'бушинги', 'сиденье',\n",
    "            'гидролиния', 'самоката'\n",
    "        ],\n",
    "        'тренажеры': [\n",
    "            'тренажер', 'велотренажер', 'дорожка', 'стойка', 'турник', 'скамья', 'мини-степпер', 'центр',\n",
    "            'мини-велотренажер', 'степпер', 'спортивный комплекс', 'стойки', 'мини-тренажер', 'велоэргометр'\n",
    "        ],\n",
    "        'тренировочный инвентарь': [\n",
    "            'мяч', 'мячи', 'ворота', 'бассейн', 'груша', 'кольцо', 'игра', 'ракетка', 'дротики', 'мишень', 'хоккей',\n",
    "            'мини-набор', 'волан', 'воланы', 'дартс', 'фрисби', 'фишки', 'бейсбольная', 'барьер', 'теннисный стол',\n",
    "            'трос', 'гантель', 'лента', 'эспандер', 'скакалка', 'платформа', 'гиря', 'утяжелители', 'гриф', 'диск',\n",
    "            'блин', 'палки', 'мат', 'батут', 'обруч', 'брусья', 'медицинбол', 'баланс', 'петли', 'степ-платформа',\n",
    "            'эспандеры', 'бодибар', 'коврик для фитнеса', 'эспандер-лента', 'колобашка', 'полусфера', 'нунчаки',\n",
    "            'кольца гимнастические', 'тарелки-ловушки', 'шайба', 'гантели', 'канат', 'футбол', 'бассеин', 'насадка',\n",
    "            'бумеранг', 'лестница', 'кольца гимнастические'\n",
    "        ],\n",
    "        'аксессуары для спорта': [\n",
    "            'шапочка', 'ласты', 'шлем', 'клюшка', 'крепления', 'крепление', 'мазь', 'лыжероллеры', 'наконечники',\n",
    "            'бинты', 'капа', 'бинт', 'шингарты', 'лапа', 'макивара', 'зажим','беруши', 'весло', 'трубка', 'лопатки',\n",
    "            'нарукавники', 'матрац', 'насос', 'щитки', 'намотка', 'струна', 'виброгаситель', 'накладка', 'основание',\n",
    "            'щит', 'свисток', 'игла', 'нагрудник', 'сетка', 'упоры', 'костюм-сауна', 'замки', 'блок', 'кардиопояс',\n",
    "            'комплект для плавания', 'туба', 'утяжелитель', 'темляки', 'комплект защиты', 'шлем и маска', 'накладки',\n",
    "            'кольца (аксессуары для спорта)', 'подставка для йоги', 'ручка для силового троса', 'комплект слайдеров',\n",
    "            'ручка затягивания шнурков', 'ручка для лыжных палок', 'ремни для тяги', 'комплект крепежа', 'наконечник',\n",
    "            'расширители', 'манжеты', 'круг', 'веломаска', 'связки', 'мини-ракетка', 'манометр', 'манжета', 'cмазка',\n",
    "            'хвостовики', 'оголовник', 'футляр', 'команда', 'крюки', 'шкурка'\n",
    "        ]\n",
    "    }\n",
    "    \n",
    "    #В product_category == 'мальчиков' попали строки, где product in ['худи', 'лонгслив', 'поло'].\n",
    "    #В product_category == 'девочек' попали строки, где product == 'худи'.\n",
    "    #В product_category == 'оверсайз' попали строки, где product == 'худи'.\n",
    "    \n",
    "    if product_string in ['мальчиков', 'девочек', 'оверсайз']:\n",
    "        product_string = 'худи'\n",
    "    \n",
    "    #В product_category == 'кг' попали строки, где product == 'блин'.\n",
    "    if product_string == 'кг':\n",
    "        product_string = 'блин'\n",
    "    \n",
    "    #В product_category == '335х83х15см' попали строки, где product == 'sup'.\n",
    "    if product_string == '335х83х15см':\n",
    "        product_string = 'sup'\n",
    "        \n",
    "    #В product_category == 'мл' попали строки, где product == 'спрей охлаждающий'.\n",
    "    if product_string == 'мл':\n",
    "        product_string = 'спрей охлаждающий'\n",
    "        \n",
    "    #В product_category == 'обуви' попали строки, где product == 'водоотталкивающий спрей'.\n",
    "    if product_string == 'обуви':\n",
    "        product_string = 'водоотталкивающий спрей'\n",
    "        \n",
    "    if product_string == 'веткровка':\n",
    "        product_string = 'ветровка'\n",
    "    \n",
    "    if product_string == 'фитнеса':\n",
    "        product_string = 'поло'\n",
    "    \n",
    "    if product_string == 'стол':\n",
    "        if search('Теннисный', full_product_string):\n",
    "            product_string = 'теннисный стол'\n",
    "        \n",
    "    if product_string == 'сетка':\n",
    "        if search('Москитная', full_product_string): \n",
    "            product_string = 'москитная сетка'\n",
    "        \n",
    "    if product_string == 'комплекс':\n",
    "        if search('Детский спортивный комплекс', full_product_string):\n",
    "            product_string = 'спортивный комплекс'\n",
    "        \n",
    "    if product_string == 'коврик':\n",
    "        if search('Коврик для фитнеса|Коврик для йоги', full_product_string):\n",
    "            product_string = 'коврик для фитнеса'\n",
    "        \n",
    "    if product_string == 'комплект':\n",
    "        if search('Комплект термобелья', full_product_string):\n",
    "            product_string = 'термобелье'\n",
    "        elif search('Комплект наборных гантелей', full_product_string):\n",
    "            product_string = 'гантель'\n",
    "        elif search('Ремонтный комплект Intex', full_product_string):\n",
    "            product_string = 'ремонтный комплект для матраса'\n",
    "        elif search('формы', full_product_string):\n",
    "            product_string = 'комплект одежды'\n",
    "        elif search('Комплект монтажек', full_product_string):\n",
    "            product_string = 'комплект монтажек'\n",
    "        elif search('Комплект лыжный', full_product_string):\n",
    "            product_string = 'комплект лыжный'\n",
    "        elif search('Комплект для плавания|маска, трубка', full_product_string):\n",
    "            product_string = 'комплект для плавания'\n",
    "        elif search('Комплект мембранной одежды|Комплект одежды', full_product_string):\n",
    "            product_string = 'комплект мембранной одежды'\n",
    "        elif search('Ремонтный комплект|Ремонтный велосипедный комплект', full_product_string):\n",
    "            product_string = 'ремонтный комплект'\n",
    "        elif search('Комплект защиты детский', full_product_string):\n",
    "            product_string = 'комплект защиты'\n",
    "        elif search('радиостанций', full_product_string):\n",
    "            product_string = 'комплект радиостанций'\n",
    "        elif search('Комплект лонгборд', full_product_string):\n",
    "            product_string = 'лонгборд'\n",
    "        elif search('Комплект шайб', full_product_string):\n",
    "            product_string = 'шайба'\n",
    "        elif search('Комплект скейтборд', full_product_string):\n",
    "            product_string = 'скейтборд'\n",
    "        elif search('Комплект детский шлем+маска', full_product_string):\n",
    "            product_string = 'шлем и маска'\n",
    "        elif search('Комплект детский Nike', full_product_string):\n",
    "            product_string = 'шапка и перчатки'\n",
    "        elif search('Комплект винтов и шайб', full_product_string):\n",
    "            product_string = 'комплект крепежа'\n",
    "        elif search('Комплект слайдеров', full_product_string):\n",
    "            product_string = 'комплект слайдеров'\n",
    "        elif search('Комплект Source', full_product_string):\n",
    "            product_string = 'комплект для питьевых систем'\n",
    "        elif search('Комплект датчика и модуля', full_product_string):\n",
    "            product_string = 'электроника'\n",
    "        elif search('Комплект ворот|Комплект мячей для настольного|Комплект запасных игроков', full_product_string):\n",
    "            product_string = 'аксессуары для спорта'\n",
    "        elif search('Комплект защитных чехлов для обуви', full_product_string):\n",
    "            product_string = 'защитные чехлы для обуви'\n",
    "        elif search('Комплект колес', full_product_string):\n",
    "            product_string = 'колеса'\n",
    "            \n",
    "    if product_string == 'кольца':\n",
    "        if search('Кольца гимнастические|Кольца навесные', full_product_string):\n",
    "            product_string = 'кольца гимнастические'\n",
    "        elif search('Кольца для треккинговых палок|Кольца для горнолыжных палок', full_product_string):\n",
    "            product_string = 'кольца (аксессуары для спорта)'\n",
    "            \n",
    "    if product_string == 'подставка':\n",
    "        if search('Подставка для ребенка на самокат|Напольная подставка для велосипеда', full_product_string):\n",
    "            product_string = 'подставка для транспорта'\n",
    "        elif search('Подставка для йоги', full_product_string):\n",
    "            product_string = 'подставка для йоги'\n",
    "            \n",
    "    if product_string == 'ручка':\n",
    "        if search('силового троса', full_product_string):\n",
    "            product_string = 'ручка для силового троса'\n",
    "        elif search('тормозная ручка', full_product_string):\n",
    "            product_string = 'тормозная ручка'\n",
    "        elif search('Ручка затягивания шнурков', full_product_string):\n",
    "            product_string = 'ручка затягивания шнурков'\n",
    "        elif search('Ручка для самоката', full_product_string):\n",
    "            product_string = 'ручка для самоката'\n",
    "        elif search('Ручка для лыжных палок', full_product_string):\n",
    "            product_string = 'ручка для лыжных палок'\n",
    "    \n",
    "    if product_string == 'ремни':\n",
    "        if search('Ремни для тяги', full_product_string):\n",
    "            product_string = 'ремни для тяги'\n",
    "        elif search('Ремни с пряжками', full_product_string):\n",
    "            product_string = 'ремни для рюкзака'\n",
    "            \n",
    "    if product_string == 'стяжка':\n",
    "        if search('Стяжка для крепления грузов', full_product_string):\n",
    "            product_string = 'велозапчасти'\n",
    "        elif search('Грудная стяжка', full_product_string):\n",
    "            product_string = 'аксессуары для спорта'\n",
    "            \n",
    "    for category, variants in product_mapping.items():\n",
    "        if product_string in variants:\n",
    "            product_string = category\n",
    "            break\n",
    "            \n",
    "    if product_string not in product_mapping.keys():\n",
    "            product_string = 'другой'\n",
    "        \n",
    "    return product_string"
   ]
  },
  {
   "cell_type": "code",
   "execution_count": 29,
   "id": "ac30cab7",
   "metadata": {},
   "outputs": [],
   "source": [
    "df['product_category'] = df.apply(lambda x: grouping_of_products(x['product_category'],x['product']), axis=1)"
   ]
  },
  {
   "cell_type": "code",
   "execution_count": 30,
   "id": "216b1d1f",
   "metadata": {},
   "outputs": [
    {
     "data": {
      "text/plain": [
       "product_category\n",
       "одежда                                   293448\n",
       "обувь                                    243895\n",
       "аксессуары                                57154\n",
       "туристические аксессуары                  41049\n",
       "рюкзаки и сумки                           35172\n",
       "транспорт                                 29774\n",
       "тренировочный инвентарь                   20055\n",
       "велозапчасти                              12007\n",
       "аксессуары для спорта                     10646\n",
       "тренажеры                                  4958\n",
       "спортивное питание, медицина, красота      4416\n",
       "электроника                                4406\n",
       "аксессуары уходовые                        2713\n",
       "другой                                     1878\n",
       "Name: count, dtype: int64"
      ]
     },
     "execution_count": 30,
     "metadata": {},
     "output_type": "execute_result"
    }
   ],
   "source": [
    "df.product_category.value_counts()"
   ]
  },
  {
   "cell_type": "code",
   "execution_count": 31,
   "id": "8e6bb6a4",
   "metadata": {},
   "outputs": [
    {
     "name": "stdout",
     "output_type": "stream",
     "text": [
      "<class 'pandas.core.frame.DataFrame'>\n",
      "RangeIndex: 761571 entries, 0 to 761570\n",
      "Data columns (total 14 columns):\n",
      " #   Column             Non-Null Count   Dtype  \n",
      "---  ------             --------------   -----  \n",
      " 0   id                 761571 non-null  int64  \n",
      " 1   gender             649198 non-null  float64\n",
      " 2   age                761571 non-null  int64  \n",
      " 3   education          761571 non-null  object \n",
      " 4   city               761571 non-null  int64  \n",
      " 5   personal_coef      761571 non-null  float64\n",
      " 6   product            761571 non-null  object \n",
      " 7   colour             644436 non-null  object \n",
      " 8   cost               761571 non-null  int64  \n",
      " 9   product_sex        761571 non-null  int64  \n",
      " 10  base_sale          761571 non-null  int64  \n",
      " 11  dt                 761571 non-null  int64  \n",
      " 12  normalized_colour  761571 non-null  object \n",
      " 13  product_category   761571 non-null  object \n",
      "dtypes: float64(2), int64(7), object(5)\n",
      "memory usage: 81.3+ MB\n"
     ]
    }
   ],
   "source": [
    "df.info()"
   ]
  },
  {
   "cell_type": "markdown",
   "id": "361882a7",
   "metadata": {},
   "source": [
    "# 2. Бинарная классификация"
   ]
  },
  {
   "cell_type": "code",
   "execution_count": 32,
   "id": "dcf62903",
   "metadata": {},
   "outputs": [],
   "source": [
    "mlb = MultiLabelBinarizer()\n",
    "colour_encoded = pd.DataFrame(\n",
    "    mlb.fit_transform(df['normalized_colour']),\n",
    "    columns=mlb.classes_,\n",
    "    index=df.index\n",
    ")"
   ]
  },
  {
   "cell_type": "code",
   "execution_count": 33,
   "id": "8b073c86",
   "metadata": {},
   "outputs": [],
   "source": [
    "ohe = OneHotEncoder(sparse_output=False, handle_unknown='ignore')\n",
    "product_category_encoded = pd.DataFrame(\n",
    "    ohe.fit_transform(df[['product_category']]),\n",
    "    columns=ohe.get_feature_names_out(['product_category']),\n",
    "    index=df.index\n",
    ")"
   ]
  },
  {
   "cell_type": "code",
   "execution_count": 34,
   "id": "3e062f70",
   "metadata": {},
   "outputs": [],
   "source": [
    "ohe = OneHotEncoder(sparse_output=False, handle_unknown='ignore')\n",
    "product_sex_encoded = pd.DataFrame(\n",
    "    ohe.fit_transform(df[['product_sex']]),\n",
    "    columns=ohe.get_feature_names_out(['product_sex']),\n",
    "    index=df.index\n",
    ")"
   ]
  },
  {
   "cell_type": "code",
   "execution_count": 35,
   "id": "f0e278cb",
   "metadata": {},
   "outputs": [],
   "source": [
    "education_encoded = df['education'].map({'среднее': 0, 'высшее': 1})"
   ]
  },
  {
   "cell_type": "code",
   "execution_count": 36,
   "id": "e3e4d832",
   "metadata": {},
   "outputs": [],
   "source": [
    "df_processed = pd.concat([\n",
    "    df.drop(columns=['colour', 'normalized_colour', 'product', 'product_category', 'product_sex', 'education']),\n",
    "    colour_encoded,\n",
    "    product_category_encoded,\n",
    "    product_sex_encoded,\n",
    "    education_encoded\n",
    "], axis=1)"
   ]
  },
  {
   "cell_type": "code",
   "execution_count": 37,
   "id": "8c621874",
   "metadata": {},
   "outputs": [],
   "source": [
    "df_known = df_processed[df_processed['gender'].notna()]\n",
    "df_unknown = df_processed[df_processed['gender'].isna()]"
   ]
  },
  {
   "cell_type": "code",
   "execution_count": 38,
   "id": "b716b1aa",
   "metadata": {},
   "outputs": [],
   "source": [
    "X = df_known.drop(columns=['gender', 'id'])\n",
    "y = df_known['gender']\n",
    "X_to_predict = df_unknown.drop(columns=['gender', 'id'])"
   ]
  },
  {
   "cell_type": "code",
   "execution_count": 39,
   "id": "4b85b915",
   "metadata": {},
   "outputs": [],
   "source": [
    "numeric_features = ['age', 'cost']"
   ]
  },
  {
   "cell_type": "code",
   "execution_count": 40,
   "id": "32db83b0",
   "metadata": {},
   "outputs": [],
   "source": [
    "preprocessor = ColumnTransformer(\n",
    "    transformers=[\n",
    "        ('num', StandardScaler(), numeric_features)\n",
    "    ],\n",
    "    remainder='passthrough'\n",
    ")"
   ]
  },
  {
   "cell_type": "code",
   "execution_count": 41,
   "id": "d0bac17a",
   "metadata": {},
   "outputs": [],
   "source": [
    "model = Pipeline([\n",
    "    ('preprocessor', preprocessor),\n",
    "    ('classifier', RandomForestClassifier(\n",
    "        n_estimators=200,\n",
    "        max_depth=20,\n",
    "        random_state=42,\n",
    "        class_weight='balanced'\n",
    "    ))\n",
    "])"
   ]
  },
  {
   "cell_type": "code",
   "execution_count": 42,
   "id": "1402bc7f",
   "metadata": {},
   "outputs": [],
   "source": [
    "X_train, X_test, y_train, y_test = train_test_split(\n",
    "    X, y, test_size=0.2, random_state=42)"
   ]
  },
  {
   "cell_type": "code",
   "execution_count": 43,
   "id": "02696b97",
   "metadata": {},
   "outputs": [
    {
     "data": {
      "text/html": [
       "<style>#sk-container-id-1 {color: black;}#sk-container-id-1 pre{padding: 0;}#sk-container-id-1 div.sk-toggleable {background-color: white;}#sk-container-id-1 label.sk-toggleable__label {cursor: pointer;display: block;width: 100%;margin-bottom: 0;padding: 0.3em;box-sizing: border-box;text-align: center;}#sk-container-id-1 label.sk-toggleable__label-arrow:before {content: \"▸\";float: left;margin-right: 0.25em;color: #696969;}#sk-container-id-1 label.sk-toggleable__label-arrow:hover:before {color: black;}#sk-container-id-1 div.sk-estimator:hover label.sk-toggleable__label-arrow:before {color: black;}#sk-container-id-1 div.sk-toggleable__content {max-height: 0;max-width: 0;overflow: hidden;text-align: left;background-color: #f0f8ff;}#sk-container-id-1 div.sk-toggleable__content pre {margin: 0.2em;color: black;border-radius: 0.25em;background-color: #f0f8ff;}#sk-container-id-1 input.sk-toggleable__control:checked~div.sk-toggleable__content {max-height: 200px;max-width: 100%;overflow: auto;}#sk-container-id-1 input.sk-toggleable__control:checked~label.sk-toggleable__label-arrow:before {content: \"▾\";}#sk-container-id-1 div.sk-estimator input.sk-toggleable__control:checked~label.sk-toggleable__label {background-color: #d4ebff;}#sk-container-id-1 div.sk-label input.sk-toggleable__control:checked~label.sk-toggleable__label {background-color: #d4ebff;}#sk-container-id-1 input.sk-hidden--visually {border: 0;clip: rect(1px 1px 1px 1px);clip: rect(1px, 1px, 1px, 1px);height: 1px;margin: -1px;overflow: hidden;padding: 0;position: absolute;width: 1px;}#sk-container-id-1 div.sk-estimator {font-family: monospace;background-color: #f0f8ff;border: 1px dotted black;border-radius: 0.25em;box-sizing: border-box;margin-bottom: 0.5em;}#sk-container-id-1 div.sk-estimator:hover {background-color: #d4ebff;}#sk-container-id-1 div.sk-parallel-item::after {content: \"\";width: 100%;border-bottom: 1px solid gray;flex-grow: 1;}#sk-container-id-1 div.sk-label:hover label.sk-toggleable__label {background-color: #d4ebff;}#sk-container-id-1 div.sk-serial::before {content: \"\";position: absolute;border-left: 1px solid gray;box-sizing: border-box;top: 0;bottom: 0;left: 50%;z-index: 0;}#sk-container-id-1 div.sk-serial {display: flex;flex-direction: column;align-items: center;background-color: white;padding-right: 0.2em;padding-left: 0.2em;position: relative;}#sk-container-id-1 div.sk-item {position: relative;z-index: 1;}#sk-container-id-1 div.sk-parallel {display: flex;align-items: stretch;justify-content: center;background-color: white;position: relative;}#sk-container-id-1 div.sk-item::before, #sk-container-id-1 div.sk-parallel-item::before {content: \"\";position: absolute;border-left: 1px solid gray;box-sizing: border-box;top: 0;bottom: 0;left: 50%;z-index: -1;}#sk-container-id-1 div.sk-parallel-item {display: flex;flex-direction: column;z-index: 1;position: relative;background-color: white;}#sk-container-id-1 div.sk-parallel-item:first-child::after {align-self: flex-end;width: 50%;}#sk-container-id-1 div.sk-parallel-item:last-child::after {align-self: flex-start;width: 50%;}#sk-container-id-1 div.sk-parallel-item:only-child::after {width: 0;}#sk-container-id-1 div.sk-dashed-wrapped {border: 1px dashed gray;margin: 0 0.4em 0.5em 0.4em;box-sizing: border-box;padding-bottom: 0.4em;background-color: white;}#sk-container-id-1 div.sk-label label {font-family: monospace;font-weight: bold;display: inline-block;line-height: 1.2em;}#sk-container-id-1 div.sk-label-container {text-align: center;}#sk-container-id-1 div.sk-container {/* jupyter's `normalize.less` sets `[hidden] { display: none; }` but bootstrap.min.css set `[hidden] { display: none !important; }` so we also need the `!important` here to be able to override the default hidden behavior on the sphinx rendered scikit-learn.org. See: https://github.com/scikit-learn/scikit-learn/issues/21755 */display: inline-block !important;position: relative;}#sk-container-id-1 div.sk-text-repr-fallback {display: none;}</style><div id=\"sk-container-id-1\" class=\"sk-top-container\"><div class=\"sk-text-repr-fallback\"><pre>Pipeline(steps=[(&#x27;preprocessor&#x27;,\n",
       "                 ColumnTransformer(remainder=&#x27;passthrough&#x27;,\n",
       "                                   transformers=[(&#x27;num&#x27;, StandardScaler(),\n",
       "                                                  [&#x27;age&#x27;, &#x27;cost&#x27;])])),\n",
       "                (&#x27;classifier&#x27;,\n",
       "                 RandomForestClassifier(class_weight=&#x27;balanced&#x27;, max_depth=20,\n",
       "                                        n_estimators=200, random_state=42))])</pre><b>In a Jupyter environment, please rerun this cell to show the HTML representation or trust the notebook. <br />On GitHub, the HTML representation is unable to render, please try loading this page with nbviewer.org.</b></div><div class=\"sk-container\" hidden><div class=\"sk-item sk-dashed-wrapped\"><div class=\"sk-label-container\"><div class=\"sk-label sk-toggleable\"><input class=\"sk-toggleable__control sk-hidden--visually\" id=\"sk-estimator-id-1\" type=\"checkbox\" ><label for=\"sk-estimator-id-1\" class=\"sk-toggleable__label sk-toggleable__label-arrow\">Pipeline</label><div class=\"sk-toggleable__content\"><pre>Pipeline(steps=[(&#x27;preprocessor&#x27;,\n",
       "                 ColumnTransformer(remainder=&#x27;passthrough&#x27;,\n",
       "                                   transformers=[(&#x27;num&#x27;, StandardScaler(),\n",
       "                                                  [&#x27;age&#x27;, &#x27;cost&#x27;])])),\n",
       "                (&#x27;classifier&#x27;,\n",
       "                 RandomForestClassifier(class_weight=&#x27;balanced&#x27;, max_depth=20,\n",
       "                                        n_estimators=200, random_state=42))])</pre></div></div></div><div class=\"sk-serial\"><div class=\"sk-item sk-dashed-wrapped\"><div class=\"sk-label-container\"><div class=\"sk-label sk-toggleable\"><input class=\"sk-toggleable__control sk-hidden--visually\" id=\"sk-estimator-id-2\" type=\"checkbox\" ><label for=\"sk-estimator-id-2\" class=\"sk-toggleable__label sk-toggleable__label-arrow\">preprocessor: ColumnTransformer</label><div class=\"sk-toggleable__content\"><pre>ColumnTransformer(remainder=&#x27;passthrough&#x27;,\n",
       "                  transformers=[(&#x27;num&#x27;, StandardScaler(), [&#x27;age&#x27;, &#x27;cost&#x27;])])</pre></div></div></div><div class=\"sk-parallel\"><div class=\"sk-parallel-item\"><div class=\"sk-item\"><div class=\"sk-label-container\"><div class=\"sk-label sk-toggleable\"><input class=\"sk-toggleable__control sk-hidden--visually\" id=\"sk-estimator-id-3\" type=\"checkbox\" ><label for=\"sk-estimator-id-3\" class=\"sk-toggleable__label sk-toggleable__label-arrow\">num</label><div class=\"sk-toggleable__content\"><pre>[&#x27;age&#x27;, &#x27;cost&#x27;]</pre></div></div></div><div class=\"sk-serial\"><div class=\"sk-item\"><div class=\"sk-estimator sk-toggleable\"><input class=\"sk-toggleable__control sk-hidden--visually\" id=\"sk-estimator-id-4\" type=\"checkbox\" ><label for=\"sk-estimator-id-4\" class=\"sk-toggleable__label sk-toggleable__label-arrow\">StandardScaler</label><div class=\"sk-toggleable__content\"><pre>StandardScaler()</pre></div></div></div></div></div></div><div class=\"sk-parallel-item\"><div class=\"sk-item\"><div class=\"sk-label-container\"><div class=\"sk-label sk-toggleable\"><input class=\"sk-toggleable__control sk-hidden--visually\" id=\"sk-estimator-id-5\" type=\"checkbox\" ><label for=\"sk-estimator-id-5\" class=\"sk-toggleable__label sk-toggleable__label-arrow\">remainder</label><div class=\"sk-toggleable__content\"><pre>[&#x27;city&#x27;, &#x27;personal_coef&#x27;, &#x27;base_sale&#x27;, &#x27;dt&#x27;, &#x27;бежевый&#x27;, &#x27;белый&#x27;, &#x27;голубой&#x27;, &#x27;другой&#x27;, &#x27;желтый&#x27;, &#x27;зеленый&#x27;, &#x27;коричневый&#x27;, &#x27;красный&#x27;, &#x27;милитари&#x27;, &#x27;мультицвет&#x27;, &#x27;оранжевый&#x27;, &#x27;розовый&#x27;, &#x27;серый&#x27;, &#x27;синий&#x27;, &#x27;фиолетовый&#x27;, &#x27;черный&#x27;, &#x27;product_category_аксессуары&#x27;, &#x27;product_category_аксессуары для спорта&#x27;, &#x27;product_category_аксессуары уходовые&#x27;, &#x27;product_category_велозапчасти&#x27;, &#x27;product_category_другой&#x27;, &#x27;product_category_обувь&#x27;, &#x27;product_category_одежда&#x27;, &#x27;product_category_рюкзаки и сумки&#x27;, &#x27;product_category_спортивное питание, медицина, красота&#x27;, &#x27;product_category_транспорт&#x27;, &#x27;product_category_тренажеры&#x27;, &#x27;product_category_тренировочный инвентарь&#x27;, &#x27;product_category_туристические аксессуары&#x27;, &#x27;product_category_электроника&#x27;, &#x27;product_sex_0&#x27;, &#x27;product_sex_1&#x27;, &#x27;product_sex_2&#x27;, &#x27;product_sex_3&#x27;, &#x27;education&#x27;]</pre></div></div></div><div class=\"sk-serial\"><div class=\"sk-item\"><div class=\"sk-estimator sk-toggleable\"><input class=\"sk-toggleable__control sk-hidden--visually\" id=\"sk-estimator-id-6\" type=\"checkbox\" ><label for=\"sk-estimator-id-6\" class=\"sk-toggleable__label sk-toggleable__label-arrow\">passthrough</label><div class=\"sk-toggleable__content\"><pre>passthrough</pre></div></div></div></div></div></div></div></div><div class=\"sk-item\"><div class=\"sk-estimator sk-toggleable\"><input class=\"sk-toggleable__control sk-hidden--visually\" id=\"sk-estimator-id-7\" type=\"checkbox\" ><label for=\"sk-estimator-id-7\" class=\"sk-toggleable__label sk-toggleable__label-arrow\">RandomForestClassifier</label><div class=\"sk-toggleable__content\"><pre>RandomForestClassifier(class_weight=&#x27;balanced&#x27;, max_depth=20, n_estimators=200,\n",
       "                       random_state=42)</pre></div></div></div></div></div></div></div>"
      ],
      "text/plain": [
       "Pipeline(steps=[('preprocessor',\n",
       "                 ColumnTransformer(remainder='passthrough',\n",
       "                                   transformers=[('num', StandardScaler(),\n",
       "                                                  ['age', 'cost'])])),\n",
       "                ('classifier',\n",
       "                 RandomForestClassifier(class_weight='balanced', max_depth=20,\n",
       "                                        n_estimators=200, random_state=42))])"
      ]
     },
     "execution_count": 43,
     "metadata": {},
     "output_type": "execute_result"
    }
   ],
   "source": [
    "model.fit(X_train, y_train)"
   ]
  },
  {
   "cell_type": "code",
   "execution_count": 44,
   "id": "1f5a2453",
   "metadata": {},
   "outputs": [
    {
     "name": "stdout",
     "output_type": "stream",
     "text": [
      "              precision    recall  f1-score   support\n",
      "\n",
      "         0.0       1.00      1.00      1.00     57955\n",
      "         1.0       1.00      1.00      1.00     71885\n",
      "\n",
      "    accuracy                           1.00    129840\n",
      "   macro avg       1.00      1.00      1.00    129840\n",
      "weighted avg       1.00      1.00      1.00    129840\n",
      "\n"
     ]
    }
   ],
   "source": [
    "y_pred = model.predict(X_test)\n",
    "print(classification_report(y_test, y_pred))"
   ]
  },
  {
   "cell_type": "code",
   "execution_count": 45,
   "id": "fdcf446d",
   "metadata": {},
   "outputs": [],
   "source": [
    "#from sklearn.model_selection import GridSearchCV\n",
    "\n",
    "#param_grid = {\n",
    "#    'classifier__n_estimators': [50, 100, 200],\n",
    "#    'classifier__max_depth': [None, 10, 20],\n",
    "#    'classifier__random_state': [42],\n",
    "#    'classifier__class_weight': ['balanced']\n",
    "#}\n",
    "\n",
    "#grid_search = GridSearchCV(model, param_grid, cv=3, scoring = 'f1_weighted')\n",
    "#grid_search.fit(X_train, y_train)\n",
    "#print(f'Лучшие параметры: {grid_search.best_params_}')"
   ]
  },
  {
   "cell_type": "markdown",
   "id": "13f3fd15",
   "metadata": {},
   "source": [
    "Лучшие параметры: {'classifier__class_weight': 'balanced', 'classifier__max_depth': 20, 'classifier__n_estimators': 200, 'classifier__random_state': 42}"
   ]
  },
  {
   "cell_type": "code",
   "execution_count": 46,
   "id": "8be8630c",
   "metadata": {},
   "outputs": [],
   "source": [
    "logistic_pipeline = Pipeline([\n",
    "    ('preprocessor', preprocessor),\n",
    "    ('classifier', LogisticRegression(\n",
    "        C=0.01,\n",
    "        penalty='l1',\n",
    "        random_state=42,\n",
    "        class_weight='balanced',\n",
    "        max_iter=1000,\n",
    "        solver='liblinear'\n",
    "    ))\n",
    "])"
   ]
  },
  {
   "cell_type": "code",
   "execution_count": 47,
   "id": "c2e0fa06",
   "metadata": {},
   "outputs": [
    {
     "data": {
      "text/html": [
       "<style>#sk-container-id-2 {color: black;}#sk-container-id-2 pre{padding: 0;}#sk-container-id-2 div.sk-toggleable {background-color: white;}#sk-container-id-2 label.sk-toggleable__label {cursor: pointer;display: block;width: 100%;margin-bottom: 0;padding: 0.3em;box-sizing: border-box;text-align: center;}#sk-container-id-2 label.sk-toggleable__label-arrow:before {content: \"▸\";float: left;margin-right: 0.25em;color: #696969;}#sk-container-id-2 label.sk-toggleable__label-arrow:hover:before {color: black;}#sk-container-id-2 div.sk-estimator:hover label.sk-toggleable__label-arrow:before {color: black;}#sk-container-id-2 div.sk-toggleable__content {max-height: 0;max-width: 0;overflow: hidden;text-align: left;background-color: #f0f8ff;}#sk-container-id-2 div.sk-toggleable__content pre {margin: 0.2em;color: black;border-radius: 0.25em;background-color: #f0f8ff;}#sk-container-id-2 input.sk-toggleable__control:checked~div.sk-toggleable__content {max-height: 200px;max-width: 100%;overflow: auto;}#sk-container-id-2 input.sk-toggleable__control:checked~label.sk-toggleable__label-arrow:before {content: \"▾\";}#sk-container-id-2 div.sk-estimator input.sk-toggleable__control:checked~label.sk-toggleable__label {background-color: #d4ebff;}#sk-container-id-2 div.sk-label input.sk-toggleable__control:checked~label.sk-toggleable__label {background-color: #d4ebff;}#sk-container-id-2 input.sk-hidden--visually {border: 0;clip: rect(1px 1px 1px 1px);clip: rect(1px, 1px, 1px, 1px);height: 1px;margin: -1px;overflow: hidden;padding: 0;position: absolute;width: 1px;}#sk-container-id-2 div.sk-estimator {font-family: monospace;background-color: #f0f8ff;border: 1px dotted black;border-radius: 0.25em;box-sizing: border-box;margin-bottom: 0.5em;}#sk-container-id-2 div.sk-estimator:hover {background-color: #d4ebff;}#sk-container-id-2 div.sk-parallel-item::after {content: \"\";width: 100%;border-bottom: 1px solid gray;flex-grow: 1;}#sk-container-id-2 div.sk-label:hover label.sk-toggleable__label {background-color: #d4ebff;}#sk-container-id-2 div.sk-serial::before {content: \"\";position: absolute;border-left: 1px solid gray;box-sizing: border-box;top: 0;bottom: 0;left: 50%;z-index: 0;}#sk-container-id-2 div.sk-serial {display: flex;flex-direction: column;align-items: center;background-color: white;padding-right: 0.2em;padding-left: 0.2em;position: relative;}#sk-container-id-2 div.sk-item {position: relative;z-index: 1;}#sk-container-id-2 div.sk-parallel {display: flex;align-items: stretch;justify-content: center;background-color: white;position: relative;}#sk-container-id-2 div.sk-item::before, #sk-container-id-2 div.sk-parallel-item::before {content: \"\";position: absolute;border-left: 1px solid gray;box-sizing: border-box;top: 0;bottom: 0;left: 50%;z-index: -1;}#sk-container-id-2 div.sk-parallel-item {display: flex;flex-direction: column;z-index: 1;position: relative;background-color: white;}#sk-container-id-2 div.sk-parallel-item:first-child::after {align-self: flex-end;width: 50%;}#sk-container-id-2 div.sk-parallel-item:last-child::after {align-self: flex-start;width: 50%;}#sk-container-id-2 div.sk-parallel-item:only-child::after {width: 0;}#sk-container-id-2 div.sk-dashed-wrapped {border: 1px dashed gray;margin: 0 0.4em 0.5em 0.4em;box-sizing: border-box;padding-bottom: 0.4em;background-color: white;}#sk-container-id-2 div.sk-label label {font-family: monospace;font-weight: bold;display: inline-block;line-height: 1.2em;}#sk-container-id-2 div.sk-label-container {text-align: center;}#sk-container-id-2 div.sk-container {/* jupyter's `normalize.less` sets `[hidden] { display: none; }` but bootstrap.min.css set `[hidden] { display: none !important; }` so we also need the `!important` here to be able to override the default hidden behavior on the sphinx rendered scikit-learn.org. See: https://github.com/scikit-learn/scikit-learn/issues/21755 */display: inline-block !important;position: relative;}#sk-container-id-2 div.sk-text-repr-fallback {display: none;}</style><div id=\"sk-container-id-2\" class=\"sk-top-container\"><div class=\"sk-text-repr-fallback\"><pre>Pipeline(steps=[(&#x27;preprocessor&#x27;,\n",
       "                 ColumnTransformer(remainder=&#x27;passthrough&#x27;,\n",
       "                                   transformers=[(&#x27;num&#x27;, StandardScaler(),\n",
       "                                                  [&#x27;age&#x27;, &#x27;cost&#x27;])])),\n",
       "                (&#x27;classifier&#x27;,\n",
       "                 LogisticRegression(C=0.01, class_weight=&#x27;balanced&#x27;,\n",
       "                                    max_iter=1000, penalty=&#x27;l1&#x27;,\n",
       "                                    random_state=42, solver=&#x27;liblinear&#x27;))])</pre><b>In a Jupyter environment, please rerun this cell to show the HTML representation or trust the notebook. <br />On GitHub, the HTML representation is unable to render, please try loading this page with nbviewer.org.</b></div><div class=\"sk-container\" hidden><div class=\"sk-item sk-dashed-wrapped\"><div class=\"sk-label-container\"><div class=\"sk-label sk-toggleable\"><input class=\"sk-toggleable__control sk-hidden--visually\" id=\"sk-estimator-id-8\" type=\"checkbox\" ><label for=\"sk-estimator-id-8\" class=\"sk-toggleable__label sk-toggleable__label-arrow\">Pipeline</label><div class=\"sk-toggleable__content\"><pre>Pipeline(steps=[(&#x27;preprocessor&#x27;,\n",
       "                 ColumnTransformer(remainder=&#x27;passthrough&#x27;,\n",
       "                                   transformers=[(&#x27;num&#x27;, StandardScaler(),\n",
       "                                                  [&#x27;age&#x27;, &#x27;cost&#x27;])])),\n",
       "                (&#x27;classifier&#x27;,\n",
       "                 LogisticRegression(C=0.01, class_weight=&#x27;balanced&#x27;,\n",
       "                                    max_iter=1000, penalty=&#x27;l1&#x27;,\n",
       "                                    random_state=42, solver=&#x27;liblinear&#x27;))])</pre></div></div></div><div class=\"sk-serial\"><div class=\"sk-item sk-dashed-wrapped\"><div class=\"sk-label-container\"><div class=\"sk-label sk-toggleable\"><input class=\"sk-toggleable__control sk-hidden--visually\" id=\"sk-estimator-id-9\" type=\"checkbox\" ><label for=\"sk-estimator-id-9\" class=\"sk-toggleable__label sk-toggleable__label-arrow\">preprocessor: ColumnTransformer</label><div class=\"sk-toggleable__content\"><pre>ColumnTransformer(remainder=&#x27;passthrough&#x27;,\n",
       "                  transformers=[(&#x27;num&#x27;, StandardScaler(), [&#x27;age&#x27;, &#x27;cost&#x27;])])</pre></div></div></div><div class=\"sk-parallel\"><div class=\"sk-parallel-item\"><div class=\"sk-item\"><div class=\"sk-label-container\"><div class=\"sk-label sk-toggleable\"><input class=\"sk-toggleable__control sk-hidden--visually\" id=\"sk-estimator-id-10\" type=\"checkbox\" ><label for=\"sk-estimator-id-10\" class=\"sk-toggleable__label sk-toggleable__label-arrow\">num</label><div class=\"sk-toggleable__content\"><pre>[&#x27;age&#x27;, &#x27;cost&#x27;]</pre></div></div></div><div class=\"sk-serial\"><div class=\"sk-item\"><div class=\"sk-estimator sk-toggleable\"><input class=\"sk-toggleable__control sk-hidden--visually\" id=\"sk-estimator-id-11\" type=\"checkbox\" ><label for=\"sk-estimator-id-11\" class=\"sk-toggleable__label sk-toggleable__label-arrow\">StandardScaler</label><div class=\"sk-toggleable__content\"><pre>StandardScaler()</pre></div></div></div></div></div></div><div class=\"sk-parallel-item\"><div class=\"sk-item\"><div class=\"sk-label-container\"><div class=\"sk-label sk-toggleable\"><input class=\"sk-toggleable__control sk-hidden--visually\" id=\"sk-estimator-id-12\" type=\"checkbox\" ><label for=\"sk-estimator-id-12\" class=\"sk-toggleable__label sk-toggleable__label-arrow\">remainder</label><div class=\"sk-toggleable__content\"><pre>[&#x27;city&#x27;, &#x27;personal_coef&#x27;, &#x27;base_sale&#x27;, &#x27;dt&#x27;, &#x27;бежевый&#x27;, &#x27;белый&#x27;, &#x27;голубой&#x27;, &#x27;другой&#x27;, &#x27;желтый&#x27;, &#x27;зеленый&#x27;, &#x27;коричневый&#x27;, &#x27;красный&#x27;, &#x27;милитари&#x27;, &#x27;мультицвет&#x27;, &#x27;оранжевый&#x27;, &#x27;розовый&#x27;, &#x27;серый&#x27;, &#x27;синий&#x27;, &#x27;фиолетовый&#x27;, &#x27;черный&#x27;, &#x27;product_category_аксессуары&#x27;, &#x27;product_category_аксессуары для спорта&#x27;, &#x27;product_category_аксессуары уходовые&#x27;, &#x27;product_category_велозапчасти&#x27;, &#x27;product_category_другой&#x27;, &#x27;product_category_обувь&#x27;, &#x27;product_category_одежда&#x27;, &#x27;product_category_рюкзаки и сумки&#x27;, &#x27;product_category_спортивное питание, медицина, красота&#x27;, &#x27;product_category_транспорт&#x27;, &#x27;product_category_тренажеры&#x27;, &#x27;product_category_тренировочный инвентарь&#x27;, &#x27;product_category_туристические аксессуары&#x27;, &#x27;product_category_электроника&#x27;, &#x27;product_sex_0&#x27;, &#x27;product_sex_1&#x27;, &#x27;product_sex_2&#x27;, &#x27;product_sex_3&#x27;, &#x27;education&#x27;]</pre></div></div></div><div class=\"sk-serial\"><div class=\"sk-item\"><div class=\"sk-estimator sk-toggleable\"><input class=\"sk-toggleable__control sk-hidden--visually\" id=\"sk-estimator-id-13\" type=\"checkbox\" ><label for=\"sk-estimator-id-13\" class=\"sk-toggleable__label sk-toggleable__label-arrow\">passthrough</label><div class=\"sk-toggleable__content\"><pre>passthrough</pre></div></div></div></div></div></div></div></div><div class=\"sk-item\"><div class=\"sk-estimator sk-toggleable\"><input class=\"sk-toggleable__control sk-hidden--visually\" id=\"sk-estimator-id-14\" type=\"checkbox\" ><label for=\"sk-estimator-id-14\" class=\"sk-toggleable__label sk-toggleable__label-arrow\">LogisticRegression</label><div class=\"sk-toggleable__content\"><pre>LogisticRegression(C=0.01, class_weight=&#x27;balanced&#x27;, max_iter=1000, penalty=&#x27;l1&#x27;,\n",
       "                   random_state=42, solver=&#x27;liblinear&#x27;)</pre></div></div></div></div></div></div></div>"
      ],
      "text/plain": [
       "Pipeline(steps=[('preprocessor',\n",
       "                 ColumnTransformer(remainder='passthrough',\n",
       "                                   transformers=[('num', StandardScaler(),\n",
       "                                                  ['age', 'cost'])])),\n",
       "                ('classifier',\n",
       "                 LogisticRegression(C=0.01, class_weight='balanced',\n",
       "                                    max_iter=1000, penalty='l1',\n",
       "                                    random_state=42, solver='liblinear'))])"
      ]
     },
     "execution_count": 47,
     "metadata": {},
     "output_type": "execute_result"
    }
   ],
   "source": [
    "logistic_pipeline.fit(X_train, y_train)"
   ]
  },
  {
   "cell_type": "code",
   "execution_count": 48,
   "id": "673a6858",
   "metadata": {},
   "outputs": [],
   "source": [
    "y_pred_logistic = logistic_pipeline.predict(X_test)\n",
    "y_proba_logistic = logistic_pipeline.predict_proba(X_test)[:, 1]"
   ]
  },
  {
   "cell_type": "code",
   "execution_count": 49,
   "id": "f1449f83",
   "metadata": {},
   "outputs": [
    {
     "name": "stdout",
     "output_type": "stream",
     "text": [
      "Logistic Regression Classification Report:\n",
      "              precision    recall  f1-score   support\n",
      "\n",
      "         0.0       1.00      0.98      0.99     57955\n",
      "         1.0       0.98      1.00      0.99     71885\n",
      "\n",
      "    accuracy                           0.99    129840\n",
      "   macro avg       0.99      0.99      0.99    129840\n",
      "weighted avg       0.99      0.99      0.99    129840\n",
      "\n",
      "\n",
      "ROC-AUC Score: 0.9776191044411269\n"
     ]
    }
   ],
   "source": [
    "print('Logistic Regression Classification Report:')\n",
    "print(classification_report(y_test, y_pred_logistic))\n",
    "print('\\nROC-AUC Score:', roc_auc_score(y_test, y_proba_logistic))"
   ]
  },
  {
   "cell_type": "code",
   "execution_count": 50,
   "id": "3f0e956b",
   "metadata": {},
   "outputs": [],
   "source": [
    "#param_grid = {\n",
    "#    'classifier__C': [0.01, 0.1, 1, 10],\n",
    "#    'classifier__penalty': ['l1', 'l2'],\n",
    "#    'classifier__random_state': [42],\n",
    "#    'classifier__class_weight': ['balanced'],\n",
    "#    'classifier__max_iter': [1000],\n",
    "#    'classifier__solver': ['liblinear', 'saga']\n",
    "#}\n",
    "\n",
    "#logistic_grid = GridSearchCV(logistic_pipeline, param_grid, cv=3, scoring = 'f1_weighted')\n",
    "#logistic_grid.fit(X_train, y_train)\n",
    "#print(f'Лучшие параметры: {logistic_grid.best_params_}')"
   ]
  },
  {
   "cell_type": "markdown",
   "id": "a37f0abb",
   "metadata": {},
   "source": [
    "Лучшие параметры: {'classifier__C': 0.01, 'classifier__class_weight': 'balanced', 'classifier__max_iter': 1000, 'classifier__penalty': 'l1', 'classifier__random_state': 42, 'classifier__solver': 'liblinear'}"
   ]
  },
  {
   "cell_type": "code",
   "execution_count": 51,
   "id": "a2a77a5f",
   "metadata": {},
   "outputs": [
    {
     "name": "stdout",
     "output_type": "stream",
     "text": [
      "RandomForest F1: 1.0\n",
      "LogisticRegression F1: 0.9896282954656952\n"
     ]
    }
   ],
   "source": [
    "print('RandomForest F1:', f1_score(y_test, y_pred, average='weighted'))\n",
    "print('LogisticRegression F1:', f1_score(y_test, y_pred_logistic, average='weighted'))"
   ]
  },
  {
   "cell_type": "markdown",
   "id": "d149105c",
   "metadata": {},
   "source": [
    "RandomForest показал лучше результат. В качестве модели классификации оставляю его."
   ]
  },
  {
   "cell_type": "code",
   "execution_count": 52,
   "id": "bffca296",
   "metadata": {},
   "outputs": [],
   "source": [
    "predicted_genders = model.predict(X_to_predict)"
   ]
  },
  {
   "cell_type": "code",
   "execution_count": 53,
   "id": "00f66e34",
   "metadata": {},
   "outputs": [],
   "source": [
    "df.loc[df['gender'].isna(), 'gender'] = predicted_genders"
   ]
  },
  {
   "cell_type": "code",
   "execution_count": 54,
   "id": "137f7251",
   "metadata": {},
   "outputs": [
    {
     "name": "stdout",
     "output_type": "stream",
     "text": [
      "Количество пропусков после заполнения: 0\n"
     ]
    }
   ],
   "source": [
    "print(f'Количество пропусков после заполнения: {df.gender.isna().sum()}')"
   ]
  },
  {
   "cell_type": "code",
   "execution_count": 55,
   "id": "448c3324",
   "metadata": {},
   "outputs": [],
   "source": [
    "df.to_csv('data/full_data.csv', index=False) "
   ]
  },
  {
   "cell_type": "markdown",
   "id": "1858dca4",
   "metadata": {},
   "source": [
    "# 3. A/B-тестирование"
   ]
  },
  {
   "cell_type": "code",
   "execution_count": 56,
   "id": "8994dfb6",
   "metadata": {},
   "outputs": [],
   "source": [
    "def load_ids_from_file(filename):\n",
    "    with open(filename, 'r') as file:\n",
    "        lines = file.readlines()[1:]\n",
    "    \n",
    "        all_ids = []\n",
    "        for line in lines:\n",
    "    \n",
    "            line = line.strip()\n",
    "            if not line:\n",
    "                continue\n",
    "        \n",
    "            ids_in_line = line.replace(';', ',').split(',')\n",
    "    \n",
    "            for i in ids_in_line:\n",
    "                i = i.strip()\n",
    "                if i.isdigit():\n",
    "                    all_ids.append(int(i))\n",
    "    \n",
    "    return list(set(all_ids))"
   ]
  },
  {
   "cell_type": "code",
   "execution_count": 57,
   "id": "dbd60136",
   "metadata": {},
   "outputs": [],
   "source": [
    "positive_ids = load_ids_from_file('data/ids_first_company_positive.txt')"
   ]
  },
  {
   "cell_type": "code",
   "execution_count": 58,
   "id": "753b2bae",
   "metadata": {},
   "outputs": [
    {
     "name": "stdout",
     "output_type": "stream",
     "text": [
      "2488\n"
     ]
    }
   ],
   "source": [
    "print(len(positive_ids))"
   ]
  },
  {
   "cell_type": "code",
   "execution_count": 59,
   "id": "7b8075c5",
   "metadata": {},
   "outputs": [],
   "source": [
    "negative_ids = load_ids_from_file('data/ids_first_company_negative.txt')"
   ]
  },
  {
   "cell_type": "code",
   "execution_count": 60,
   "id": "870dc175",
   "metadata": {},
   "outputs": [
    {
     "name": "stdout",
     "output_type": "stream",
     "text": [
      "2660\n"
     ]
    }
   ],
   "source": [
    "print(len(negative_ids))"
   ]
  },
  {
   "cell_type": "code",
   "execution_count": 61,
   "id": "0135e52c",
   "metadata": {},
   "outputs": [],
   "source": [
    "common_ids = list(set(positive_ids)&set(negative_ids))\n",
    "positive_ids = [i for i in positive_ids if i not in common_ids]\n",
    "negative_ids = [i for i in negative_ids if i not in common_ids]"
   ]
  },
  {
   "cell_type": "code",
   "execution_count": 62,
   "id": "e696ede5",
   "metadata": {},
   "outputs": [],
   "source": [
    "df_ab = df[(df['dt']>=5) & (df['dt']<=16)]"
   ]
  },
  {
   "cell_type": "code",
   "execution_count": 63,
   "id": "43ab32f6",
   "metadata": {},
   "outputs": [],
   "source": [
    "def group_definition(id):\n",
    "    if id in positive_ids:\n",
    "        group = 'test'\n",
    "    elif id in negative_ids:\n",
    "        group = 'control'\n",
    "    else:\n",
    "        group = 'not enter'\n",
    "    return group"
   ]
  },
  {
   "cell_type": "code",
   "execution_count": 64,
   "id": "30e1d2f1",
   "metadata": {},
   "outputs": [
    {
     "name": "stderr",
     "output_type": "stream",
     "text": [
      "C:\\Users\\LEGION\\AppData\\Local\\Temp\\ipykernel_31868\\1429475216.py:1: SettingWithCopyWarning: \n",
      "A value is trying to be set on a copy of a slice from a DataFrame.\n",
      "Try using .loc[row_indexer,col_indexer] = value instead\n",
      "\n",
      "See the caveats in the documentation: https://pandas.pydata.org/pandas-docs/stable/user_guide/indexing.html#returning-a-view-versus-a-copy\n",
      "  df_ab['group'] = df_ab['id'].apply(lambda x: group_definition(x))\n"
     ]
    }
   ],
   "source": [
    "df_ab['group'] = df_ab['id'].apply(lambda x: group_definition(x))"
   ]
  },
  {
   "cell_type": "code",
   "execution_count": 65,
   "id": "1def79bf",
   "metadata": {},
   "outputs": [],
   "source": [
    "df_ab = df_ab[df_ab['group']!='not enter']"
   ]
  },
  {
   "cell_type": "markdown",
   "id": "b67131fe",
   "metadata": {},
   "source": [
    "## Конверсия в покупку"
   ]
  },
  {
   "cell_type": "code",
   "execution_count": 66,
   "id": "f5915134",
   "metadata": {},
   "outputs": [],
   "source": [
    "ab_cr = df_ab.groupby('group').id.nunique().reset_index()\n",
    "ab_cr['all_id'] = [len(negative_ids), len(positive_ids)]\n",
    "ab_cr['CR'] = round(ab_cr['id']/ab_cr['all_id']*100, 1)"
   ]
  },
  {
   "cell_type": "code",
   "execution_count": 67,
   "id": "318835ae",
   "metadata": {},
   "outputs": [
    {
     "data": {
      "text/html": [
       "<div>\n",
       "<style scoped>\n",
       "    .dataframe tbody tr th:only-of-type {\n",
       "        vertical-align: middle;\n",
       "    }\n",
       "\n",
       "    .dataframe tbody tr th {\n",
       "        vertical-align: top;\n",
       "    }\n",
       "\n",
       "    .dataframe thead th {\n",
       "        text-align: right;\n",
       "    }\n",
       "</style>\n",
       "<table border=\"1\" class=\"dataframe\">\n",
       "  <thead>\n",
       "    <tr style=\"text-align: right;\">\n",
       "      <th></th>\n",
       "      <th>group</th>\n",
       "      <th>id</th>\n",
       "      <th>all_id</th>\n",
       "      <th>CR</th>\n",
       "    </tr>\n",
       "  </thead>\n",
       "  <tbody>\n",
       "    <tr>\n",
       "      <th>0</th>\n",
       "      <td>control</td>\n",
       "      <td>2555</td>\n",
       "      <td>2657</td>\n",
       "      <td>96.2</td>\n",
       "    </tr>\n",
       "    <tr>\n",
       "      <th>1</th>\n",
       "      <td>test</td>\n",
       "      <td>2300</td>\n",
       "      <td>2485</td>\n",
       "      <td>92.6</td>\n",
       "    </tr>\n",
       "  </tbody>\n",
       "</table>\n",
       "</div>"
      ],
      "text/plain": [
       "     group    id  all_id    CR\n",
       "0  control  2555    2657  96.2\n",
       "1     test  2300    2485  92.6"
      ]
     },
     "execution_count": 67,
     "metadata": {},
     "output_type": "execute_result"
    }
   ],
   "source": [
    "ab_cr"
   ]
  },
  {
   "cell_type": "markdown",
   "id": "23ad8c63",
   "metadata": {},
   "source": [
    "Н0: Конверсия в тестовой и контрольной группах одинакова.\\\n",
    "Н1: Конверсия в тестовой группе ниже, чем в контрольной.\\\n",
    "Для проверки гипотезы использую биномиальный критерий."
   ]
  },
  {
   "cell_type": "code",
   "execution_count": 68,
   "id": "2da63275",
   "metadata": {},
   "outputs": [],
   "source": [
    "def binom_test(n1, m1, n2, m2, alternative, alpha = 0.05):\n",
    "\n",
    "    T = (m1/n1-m2/n2)/((m1+m2)/(n1+n2)*(1-(m1+m2)/(n1+n2))*(1/n1+1/n2))**0.5\n",
    "\n",
    "    if alternative == 'ниже':\n",
    "        P = stats.norm.cdf(T)\n",
    "        print('Критическая область - значения статистики менее ',round(stats.norm.ppf(alpha), 2))\n",
    "    elif alternative == 'выше':\n",
    "        P = 1 - stats.norm.cdf(T)\n",
    "        print('Критическая область - значения статистики выше ',round(stats.norm.ppf(1 - alpha), 2))\n",
    "    else:\n",
    "        P = min(2*stats.norm.cdf(T), 2-2*stats.norm.cdf(T))\n",
    "        print('Критическая область - значения статистики менее ',round(stats.norm.ppf(alpha/2), 2))\n",
    "        print('Критическая область - значения статистики выше ',round(stats.norm.ppf(1 - alpha/2), 2))\n",
    "    \n",
    "    print('Statistic: ', T, ', p-value: ', round(P, 2))"
   ]
  },
  {
   "cell_type": "code",
   "execution_count": 69,
   "id": "2616fc08",
   "metadata": {},
   "outputs": [
    {
     "name": "stdout",
     "output_type": "stream",
     "text": [
      "Критическая область - значения статистики менее  -1.64\n",
      "Statistic:  -5.628404348815373 , p-value:  0.0\n"
     ]
    }
   ],
   "source": [
    "binom_test(n1 = ab_cr.loc[1, 'all_id'],\n",
    "           m1 = ab_cr.loc[1, 'id'],\n",
    "           n2 = ab_cr.loc[0, 'all_id'],\n",
    "           m2  = ab_cr.loc[0, 'id'],\n",
    "           alternative = 'ниже')"
   ]
  },
  {
   "cell_type": "markdown",
   "id": "b3d3d283",
   "metadata": {},
   "source": [
    "Значение статистики находится в критической области. P-value меньше 0.05, соответственно отвергаем нулевую гипотезу в пользу альтернативной - Конверсия в тестовой группе ниже, чем в контрольной."
   ]
  },
  {
   "cell_type": "code",
   "execution_count": 70,
   "id": "bd8e33fd",
   "metadata": {},
   "outputs": [],
   "source": [
    "def category_cost(cost):\n",
    "    if cost < 5000:\n",
    "        return 'низкая'\n",
    "    elif cost < 50000:\n",
    "        return 'средняя'\n",
    "    else:\n",
    "        return 'высокая'\n",
    "\n",
    "df_ab['category_cost'] = df_ab['cost'].apply(category_cost)"
   ]
  },
  {
   "cell_type": "code",
   "execution_count": 71,
   "id": "20c30227",
   "metadata": {},
   "outputs": [],
   "source": [
    "ab_cr_category_cost = df_ab.groupby(['group', 'category_cost']).id.nunique().reset_index()\n",
    "ab_cr_category_cost['all_id'] = ab_cr_category_cost['group'].apply(lambda x: len(negative_ids) if x == 'control'\n",
    "                                                                   else len(positive_ids))"
   ]
  },
  {
   "cell_type": "code",
   "execution_count": 72,
   "id": "61ab2417",
   "metadata": {},
   "outputs": [],
   "source": [
    "ab_cr_category_cost['CR'] = round(ab_cr_category_cost['id']/ab_cr_category_cost['all_id']*100, 1)"
   ]
  },
  {
   "cell_type": "code",
   "execution_count": 73,
   "id": "3ebe1f2c",
   "metadata": {},
   "outputs": [
    {
     "data": {
      "text/html": [
       "<div>\n",
       "<style scoped>\n",
       "    .dataframe tbody tr th:only-of-type {\n",
       "        vertical-align: middle;\n",
       "    }\n",
       "\n",
       "    .dataframe tbody tr th {\n",
       "        vertical-align: top;\n",
       "    }\n",
       "\n",
       "    .dataframe thead th {\n",
       "        text-align: right;\n",
       "    }\n",
       "</style>\n",
       "<table border=\"1\" class=\"dataframe\">\n",
       "  <thead>\n",
       "    <tr style=\"text-align: right;\">\n",
       "      <th></th>\n",
       "      <th>group</th>\n",
       "      <th>category_cost</th>\n",
       "      <th>id</th>\n",
       "      <th>all_id</th>\n",
       "      <th>CR</th>\n",
       "    </tr>\n",
       "  </thead>\n",
       "  <tbody>\n",
       "    <tr>\n",
       "      <th>0</th>\n",
       "      <td>control</td>\n",
       "      <td>высокая</td>\n",
       "      <td>69</td>\n",
       "      <td>2657</td>\n",
       "      <td>2.6</td>\n",
       "    </tr>\n",
       "    <tr>\n",
       "      <th>1</th>\n",
       "      <td>control</td>\n",
       "      <td>низкая</td>\n",
       "      <td>2136</td>\n",
       "      <td>2657</td>\n",
       "      <td>80.4</td>\n",
       "    </tr>\n",
       "    <tr>\n",
       "      <th>2</th>\n",
       "      <td>control</td>\n",
       "      <td>средняя</td>\n",
       "      <td>1383</td>\n",
       "      <td>2657</td>\n",
       "      <td>52.1</td>\n",
       "    </tr>\n",
       "    <tr>\n",
       "      <th>3</th>\n",
       "      <td>test</td>\n",
       "      <td>высокая</td>\n",
       "      <td>55</td>\n",
       "      <td>2485</td>\n",
       "      <td>2.2</td>\n",
       "    </tr>\n",
       "    <tr>\n",
       "      <th>4</th>\n",
       "      <td>test</td>\n",
       "      <td>низкая</td>\n",
       "      <td>2071</td>\n",
       "      <td>2485</td>\n",
       "      <td>83.3</td>\n",
       "    </tr>\n",
       "    <tr>\n",
       "      <th>5</th>\n",
       "      <td>test</td>\n",
       "      <td>средняя</td>\n",
       "      <td>1414</td>\n",
       "      <td>2485</td>\n",
       "      <td>56.9</td>\n",
       "    </tr>\n",
       "  </tbody>\n",
       "</table>\n",
       "</div>"
      ],
      "text/plain": [
       "     group category_cost    id  all_id    CR\n",
       "0  control       высокая    69    2657   2.6\n",
       "1  control        низкая  2136    2657  80.4\n",
       "2  control       средняя  1383    2657  52.1\n",
       "3     test       высокая    55    2485   2.2\n",
       "4     test        низкая  2071    2485  83.3\n",
       "5     test       средняя  1414    2485  56.9"
      ]
     },
     "execution_count": 73,
     "metadata": {},
     "output_type": "execute_result"
    }
   ],
   "source": [
    "ab_cr_category_cost"
   ]
  },
  {
   "cell_type": "markdown",
   "id": "5b3528f3",
   "metadata": {},
   "source": [
    "Н0: Конверсия в тестовой и контрольной группах одинакова (для товаров с низкой стоимостью).\\\n",
    "Н1: Конверсия в тестовой группе выше, чем в контрольной (для товаров с низкой стоимостью).\\\n",
    "Для проверки гипотезы использую биномиальный критерий."
   ]
  },
  {
   "cell_type": "code",
   "execution_count": 74,
   "id": "3627a705",
   "metadata": {},
   "outputs": [
    {
     "name": "stdout",
     "output_type": "stream",
     "text": [
      "Критическая область - значения статистики выше  1.64\n",
      "Statistic:  2.7393779390206285 , p-value:  0.0\n"
     ]
    }
   ],
   "source": [
    "binom_test(n1 = ab_cr_category_cost.loc[4, 'all_id'],\n",
    "           m1 = ab_cr_category_cost.loc[4, 'id'],\n",
    "           n2 = ab_cr_category_cost.loc[1, 'all_id'],\n",
    "           m2  = ab_cr_category_cost.loc[1, 'id'],\n",
    "           alternative = 'выше')"
   ]
  },
  {
   "cell_type": "markdown",
   "id": "e5f7d122",
   "metadata": {},
   "source": [
    "Значение статистики находится в критической области. P-value меньше 0.05, соответственно отвергаем нулевую гипотезу в пользу альтернативной - конверсия в тестовой группе выше, чем в контрольной (для товаров с низкой стоимостью)."
   ]
  },
  {
   "cell_type": "markdown",
   "id": "ea2abc83",
   "metadata": {},
   "source": [
    "Н0: Конверсия в тестовой и контрольной группах одинакова (для товаров со средней стоимостью).\\\n",
    "Н1: Конверсия в тестовой группе выше, чем в контрольной (для товаров со средней стоимостью).\\\n",
    "Для проверки гипотезы использую биномиальный критерий."
   ]
  },
  {
   "cell_type": "code",
   "execution_count": 75,
   "id": "fc466ccd",
   "metadata": {},
   "outputs": [
    {
     "name": "stdout",
     "output_type": "stream",
     "text": [
      "Критическая область - значения статистики выше  1.64\n",
      "Statistic:  3.489546992882526 , p-value:  0.0\n"
     ]
    }
   ],
   "source": [
    "binom_test(n1 = ab_cr_category_cost.loc[5, 'all_id'],\n",
    "           m1 = ab_cr_category_cost.loc[5, 'id'],\n",
    "           n2 = ab_cr_category_cost.loc[2, 'all_id'],\n",
    "           m2  = ab_cr_category_cost.loc[2, 'id'],\n",
    "           alternative = 'выше')"
   ]
  },
  {
   "cell_type": "markdown",
   "id": "6e83ad3f",
   "metadata": {},
   "source": [
    "Значение статистики находится в критической области. P-value меньше 0.05, соответственно отвергаем нулевую гипотезу в пользу альтернативной - конверсия в тестовой группе выше, чем в контрольной (для товаров с низкой стоимостью)."
   ]
  },
  {
   "cell_type": "markdown",
   "id": "d6beb5ba",
   "metadata": {},
   "source": [
    "Н0: Конверсия в тестовой и контрольной группах одинакова (для товаров с высокой стоимостью).\\\n",
    "Н1: Конверсия в тестовой группе ниже, чем в контрольной (для товаров с высокой стоимостью).\\\n",
    "Для проверки гипотезы использую биномиальный критерий."
   ]
  },
  {
   "cell_type": "code",
   "execution_count": 76,
   "id": "b3c50673",
   "metadata": {},
   "outputs": [
    {
     "name": "stdout",
     "output_type": "stream",
     "text": [
      "Критическая область - значения статистики менее  -1.64\n",
      "Statistic:  -0.8961198162067691 , p-value:  0.19\n"
     ]
    }
   ],
   "source": [
    "binom_test(n1 = ab_cr_category_cost.loc[3, 'all_id'],\n",
    "           m1 = ab_cr_category_cost.loc[3, 'id'],\n",
    "           n2 = ab_cr_category_cost.loc[0, 'all_id'],\n",
    "           m2  = ab_cr_category_cost.loc[0, 'id'],\n",
    "           alternative = 'ниже')"
   ]
  },
  {
   "cell_type": "markdown",
   "id": "6f58a36c",
   "metadata": {},
   "source": [
    "Значение статистики находится в доверительной области. P-value больше 0.05, соответственно принимаем нулевую гипотезу конверсия в тестовой и контрольной группах одинакова (для товаров с высокой стоимостью)."
   ]
  },
  {
   "cell_type": "markdown",
   "id": "fff7313f",
   "metadata": {},
   "source": [
    "## Средняя выручка на одного пользователя (ARPU)"
   ]
  },
  {
   "cell_type": "code",
   "execution_count": 77,
   "id": "eafa1580",
   "metadata": {},
   "outputs": [],
   "source": [
    "test = df_ab[df_ab['group'] == 'test'].groupby('id').cost.sum().reset_index()\n",
    "test2 = pd.DataFrame(data = list(set(positive_ids) - set(test['id'])), columns = ['id'])\n",
    "test2['cost'] = 0\n",
    "test = pd.concat([test, test2], ignore_index=True)"
   ]
  },
  {
   "cell_type": "code",
   "execution_count": 78,
   "id": "b1e3f7d6",
   "metadata": {},
   "outputs": [],
   "source": [
    "control = df_ab[df_ab['group'] == 'control'].groupby('id').cost.sum().reset_index()\n",
    "control2 = pd.DataFrame(data = list(set(negative_ids) - set(control['id'])), columns = ['id'])\n",
    "control2['cost'] = 0\n",
    "control = pd.concat([control, control2], ignore_index=True)"
   ]
  },
  {
   "cell_type": "code",
   "execution_count": 79,
   "id": "ed53923b",
   "metadata": {},
   "outputs": [
    {
     "name": "stdout",
     "output_type": "stream",
     "text": [
      "Средняя выручка на одного пользователя (ARPU) в тестовой выборке:  24894\n",
      "Средняя выручка на одного пользователя (ARPU) в контрольной выборке:  21449\n"
     ]
    }
   ],
   "source": [
    "print('Средняя выручка на одного пользователя (ARPU) в тестовой выборке: ', round(test['cost'].mean()))\n",
    "print('Средняя выручка на одного пользователя (ARPU) в контрольной выборке: ', round(control['cost'].mean()))"
   ]
  },
  {
   "cell_type": "markdown",
   "id": "1818cbfd",
   "metadata": {},
   "source": [
    "Н0: Выборка подчиняется нормальному распределению.\\\n",
    "Н1: Выборка не подчиняется нормальному распределению."
   ]
  },
  {
   "cell_type": "code",
   "execution_count": 80,
   "id": "9ccbc45a",
   "metadata": {},
   "outputs": [],
   "source": [
    "def test_for_normality(sample):\n",
    "    shapiro_test = stats.shapiro(sample)\n",
    "    if shapiro_test.pvalue > 0.05:\n",
    "        print('Выборка подчиняется нормальному распределению.')\n",
    "    else:\n",
    "        print('Выборка не подчиняется нормальному распределению.')"
   ]
  },
  {
   "cell_type": "code",
   "execution_count": 81,
   "id": "b058dd23",
   "metadata": {},
   "outputs": [
    {
     "name": "stdout",
     "output_type": "stream",
     "text": [
      "Выборка не подчиняется нормальному распределению.\n"
     ]
    }
   ],
   "source": [
    "test_for_normality(test['cost'])"
   ]
  },
  {
   "cell_type": "code",
   "execution_count": 82,
   "id": "6976c960",
   "metadata": {},
   "outputs": [
    {
     "name": "stdout",
     "output_type": "stream",
     "text": [
      "Выборка не подчиняется нормальному распределению.\n"
     ]
    }
   ],
   "source": [
    "test_for_normality(control['cost'])"
   ]
  },
  {
   "cell_type": "markdown",
   "id": "3f1d121f",
   "metadata": {},
   "source": [
    "Тестовая и контрольные выборки не подчиняются нормальному распределению, значит для проверки гипотезы о равенстве средних для независимых выборок использую критерий Манна-Уитни-Уилкоксона."
   ]
  },
  {
   "cell_type": "markdown",
   "id": "fba3fffe",
   "metadata": {},
   "source": [
    "Н0: Средняя выручка на одного пользователя в тестовой и контрольной группах одинакова.\\\n",
    "Н1: Средняя выручка на одного пользователя в тестовой группе выше, чем в контрольной.\\\n",
    "Для проверки гипотезы использую критерий Манна-Уитни-Уилкоксона."
   ]
  },
  {
   "cell_type": "code",
   "execution_count": 83,
   "id": "5d6ae4f6",
   "metadata": {},
   "outputs": [],
   "source": [
    "def Mann_Whitney_U_test(sample1, sample2, alpha=0.05, alternative = 'greater'):\n",
    "    \n",
    "    n1 = len(sample1)\n",
    "    n2 = len(sample2)\n",
    "    mu_U = n1*n2/2\n",
    "    sigma_U = np.sqrt(n1*n2*(n1+n2+1)/12)\n",
    "    \n",
    "    if alternative == 'greater':\n",
    "        result_count = stats.mannwhitneyu(sample1, sample2, alternative = 'greater')\n",
    "        z_critical = stats.norm.ppf(1-alpha)\n",
    "        U_critical = mu_U + z_critical*sigma_U\n",
    "        print('Критическая область - значения статистики выше ', round(U_critical))\n",
    "        \n",
    "    elif alternative == 'less':\n",
    "        result_count = stats.mannwhitneyu(sample1, sample2, alternative = 'less')\n",
    "        z_critical = stats.norm.ppf(alpha)\n",
    "        U_critical = mu_U + z_critical*sigma_U\n",
    "        print('Критическая область - значения статистики ниже ', round(U_critical))\n",
    "        \n",
    "    else:\n",
    "        result_count = stats.mannwhitneyu(sample1, sample2, alternative = 'two-sided')\n",
    "        z_critical_lower = stats.norm.ppf(alpha/2)\n",
    "        z_critical_upper = stats.norm.ppf(1-alpha/2)\n",
    "        U_critical_lower = mu_U + z_critical_lower*sigma_U\n",
    "        U_critical_upper = mu_U + z_critical_upper*sigma_U\n",
    "        print('Критическая область - значения статистики ниже ', round(U_critical_lower))\n",
    "        print('Критическая область - значения статистики выше ', round(U_critical_upper))\n",
    "    \n",
    "    print('Статистика: ', result_count.statistic)\n",
    "    \n",
    "    if result_count.pvalue < alpha:\n",
    "        print('P-value меньше 0.05 и составляет ', round(result_count.pvalue, 2))\n",
    "    else:\n",
    "        print('P-value больше 0.05 и составляет ', round(result_count.pvalue, 2))"
   ]
  },
  {
   "cell_type": "code",
   "execution_count": 84,
   "id": "124e4a07",
   "metadata": {},
   "outputs": [
    {
     "name": "stdout",
     "output_type": "stream",
     "text": [
      "Критическая область - значения статистики выше  3388822\n",
      "Статистика:  3605962.0\n",
      "P-value меньше 0.05 и составляет  0.0\n"
     ]
    }
   ],
   "source": [
    "Mann_Whitney_U_test(test['cost'], control['cost'])"
   ]
  },
  {
   "cell_type": "markdown",
   "id": "cb9b9496",
   "metadata": {},
   "source": [
    "Значение статистики находится в критической области. P-value меньше 0.05, соответственно отвергаем нулевую гипотезу в пользу альтернативной - Средняя выручка на одного пользователя (ARPU) в тестовой группе выше, чем в контрольной."
   ]
  },
  {
   "cell_type": "markdown",
   "id": "cec2f893",
   "metadata": {},
   "source": [
    "## Средняя выручка на одного покупателя (ARPPU)"
   ]
  },
  {
   "cell_type": "code",
   "execution_count": 85,
   "id": "12cf3c60",
   "metadata": {},
   "outputs": [],
   "source": [
    "test_arppu = df_ab[df_ab['group'] == 'test'].groupby('id').cost.sum().reset_index()"
   ]
  },
  {
   "cell_type": "code",
   "execution_count": 86,
   "id": "155eee2e",
   "metadata": {},
   "outputs": [],
   "source": [
    "control_arppu = df_ab[df_ab['group'] == 'control'].groupby('id').cost.sum().reset_index()"
   ]
  },
  {
   "cell_type": "code",
   "execution_count": 87,
   "id": "3a46707b",
   "metadata": {},
   "outputs": [
    {
     "name": "stdout",
     "output_type": "stream",
     "text": [
      "Средняя выручка на одного покупателя (ARPPU) в тестовой выборке:  26896\n",
      "Средняя выручка на одного покупателя (ARPPU) в контрольной выборке:  22305\n"
     ]
    }
   ],
   "source": [
    "print('Средняя выручка на одного покупателя (ARPPU) в тестовой выборке: ', round(test_arppu['cost'].mean()))\n",
    "print('Средняя выручка на одного покупателя (ARPPU) в контрольной выборке: ', round(control_arppu['cost'].mean()))"
   ]
  },
  {
   "cell_type": "markdown",
   "id": "5762a502",
   "metadata": {},
   "source": [
    "Н0: Выборка подчиняется нормальному распределению.\\\n",
    "Н1: Выборка не подчиняется нормальному распределению."
   ]
  },
  {
   "cell_type": "code",
   "execution_count": 88,
   "id": "5a9f9442",
   "metadata": {},
   "outputs": [
    {
     "name": "stdout",
     "output_type": "stream",
     "text": [
      "Выборка не подчиняется нормальному распределению.\n"
     ]
    }
   ],
   "source": [
    "test_for_normality(test_arppu['cost'])"
   ]
  },
  {
   "cell_type": "code",
   "execution_count": 89,
   "id": "096ad248",
   "metadata": {},
   "outputs": [
    {
     "name": "stdout",
     "output_type": "stream",
     "text": [
      "Выборка не подчиняется нормальному распределению.\n"
     ]
    }
   ],
   "source": [
    "test_for_normality(control_arppu['cost'])"
   ]
  },
  {
   "cell_type": "markdown",
   "id": "4b738e73",
   "metadata": {},
   "source": [
    "Тестовая и контрольные выборки не подчиняются нормальному распределению, значит для проверки гипотезы о равенстве средних для независимых выборок использую критерий Манна-Уитни-Уилкоксона."
   ]
  },
  {
   "cell_type": "markdown",
   "id": "cf892028",
   "metadata": {},
   "source": [
    "Н0: Средняя выручка на одного покупателя в тестовой и контрольной группах одинакова.\\\n",
    "Н1: Средняя выручка на одного покупателя в тестовой группе выше, чем в контрольной.\\\n",
    "Для проверки гипотезы использую критерий Манна-Уитни-Уилкоксона."
   ]
  },
  {
   "cell_type": "code",
   "execution_count": 90,
   "id": "a33a07ae",
   "metadata": {},
   "outputs": [
    {
     "name": "stdout",
     "output_type": "stream",
     "text": [
      "Критическая область - значения статистики выше  3018461\n",
      "Статистика:  3361927.0\n",
      "P-value меньше 0.05 и составляет  0.0\n"
     ]
    }
   ],
   "source": [
    "Mann_Whitney_U_test(test_arppu['cost'], control_arppu['cost'])"
   ]
  },
  {
   "cell_type": "markdown",
   "id": "ddf9c217",
   "metadata": {},
   "source": [
    "Значение статистики находится в критической области. P-value меньше 0.05, соответственно отвергаем нулевую гипотезу в пользу альтернативной - Средняя выручка на одного покупателя (ARPPU) в тестовой группе выше, чем в контрольной."
   ]
  },
  {
   "cell_type": "markdown",
   "id": "be0dca8c",
   "metadata": {},
   "source": [
    "## Средний чек"
   ]
  },
  {
   "cell_type": "code",
   "execution_count": 91,
   "id": "c56564b0",
   "metadata": {},
   "outputs": [],
   "source": [
    "test_cheque = df_ab[df_ab['group'] == 'test'].groupby(by=['id']).agg({'cost':'sum','dt':'nunique'}).reset_index()\n",
    "test_cheque['avg_cheque'] = round(test_cheque['cost']/test_cheque['dt'], 2)\n",
    "control_cheque = df_ab[df_ab['group'] == 'control'].groupby(by=['id']).agg({'cost':'sum','dt':'nunique'}).reset_index()\n",
    "control_cheque['avg_cheque'] = round(control_cheque['cost']/control_cheque['dt'], 2)"
   ]
  },
  {
   "cell_type": "code",
   "execution_count": 92,
   "id": "37e96cf3",
   "metadata": {},
   "outputs": [
    {
     "name": "stdout",
     "output_type": "stream",
     "text": [
      "Средний чек в тестовой выборке:  10069.83\n",
      "Средний чек в контрольной выборке:  9286.9\n"
     ]
    }
   ],
   "source": [
    "print('Средний чек в тестовой выборке: ', round(test_cheque['avg_cheque'].mean(), 2))\n",
    "print('Средний чек в контрольной выборке: ', round(control_cheque['avg_cheque'].mean(), 2))"
   ]
  },
  {
   "cell_type": "code",
   "execution_count": 93,
   "id": "878fcc7d",
   "metadata": {},
   "outputs": [
    {
     "name": "stdout",
     "output_type": "stream",
     "text": [
      "Выборка не подчиняется нормальному распределению.\n"
     ]
    }
   ],
   "source": [
    "test_for_normality(test_cheque['avg_cheque'])"
   ]
  },
  {
   "cell_type": "code",
   "execution_count": 94,
   "id": "58c10476",
   "metadata": {},
   "outputs": [
    {
     "name": "stdout",
     "output_type": "stream",
     "text": [
      "Выборка не подчиняется нормальному распределению.\n"
     ]
    }
   ],
   "source": [
    "test_for_normality(control_cheque['avg_cheque'])"
   ]
  },
  {
   "cell_type": "markdown",
   "id": "5bf8e709",
   "metadata": {},
   "source": [
    "Тестовая и контрольные выборки не подчиняются нормальному распределению, значит для проверки гипотезы о равенстве средних для независимых выборок использую критерий Манна-Уитни-Уилкоксона."
   ]
  },
  {
   "cell_type": "markdown",
   "id": "b2fd061a",
   "metadata": {},
   "source": [
    "Н0: Средний чек в тестовой и контрольной группах одинаков.\\\n",
    "Н1: Средний чек в тестовой группе выше, чем в контрольной.\\\n",
    "Для проверки гипотезы использую критерий Манна-Уитни-Уилкоксона."
   ]
  },
  {
   "cell_type": "code",
   "execution_count": 95,
   "id": "6e915090",
   "metadata": {},
   "outputs": [
    {
     "name": "stdout",
     "output_type": "stream",
     "text": [
      "Критическая область - значения статистики выше  3018461\n",
      "Статистика:  3205376.5\n",
      "P-value меньше 0.05 и составляет  0.0\n"
     ]
    }
   ],
   "source": [
    "Mann_Whitney_U_test(test_cheque['avg_cheque'], control_cheque['avg_cheque'])"
   ]
  },
  {
   "cell_type": "markdown",
   "id": "476ad7e8",
   "metadata": {},
   "source": [
    "Значение статистики находится в критической области. P-value меньше 0.05, соответственно отвергаем нулевую гипотезу в пользу альтернативной - средний чек в тестовой группе выше, чем в контрольной."
   ]
  },
  {
   "cell_type": "markdown",
   "id": "435721b7",
   "metadata": {},
   "source": [
    "## Количество покупок на пользователя"
   ]
  },
  {
   "cell_type": "code",
   "execution_count": 96,
   "id": "be050858",
   "metadata": {},
   "outputs": [],
   "source": [
    "test_count = df_ab[df_ab['group'] == 'test'].groupby('id').product.count().reset_index()\n",
    "test_count_2 = pd.DataFrame(data = list(set(positive_ids) - set(test_count['id'])), columns = ['id'])\n",
    "test_count_2['product'] = 0\n",
    "test_count = pd.concat([test_count, test_count_2], ignore_index=True)\n",
    "\n",
    "control_count = df_ab[df_ab['group'] == 'control'].groupby('id').product.count().reset_index()\n",
    "control_count_2 = pd.DataFrame(data = list(set(negative_ids) - set(control_count['id'])), columns = ['id'])\n",
    "control_count_2['product'] = 0\n",
    "control_count = pd.concat([control_count, control_count_2], ignore_index=True)"
   ]
  },
  {
   "cell_type": "code",
   "execution_count": 97,
   "id": "c6a46526",
   "metadata": {},
   "outputs": [
    {
     "name": "stdout",
     "output_type": "stream",
     "text": [
      "Среднее количество покупок на пользователя в тестовой выборке:  5\n",
      "Среднее количество покупок на пользователя в контрольной выборке:  4\n"
     ]
    }
   ],
   "source": [
    "print('Среднее количество покупок на пользователя в тестовой выборке: ', round(test_count['product'].mean()))\n",
    "print('Среднее количество покупок на пользователя в контрольной выборке: ', round(control_count['product'].mean()))"
   ]
  },
  {
   "cell_type": "markdown",
   "id": "845b5617",
   "metadata": {},
   "source": [
    "Н0: Выборка подчиняется нормальному распределению.\\\n",
    "Н1: Выборка не подчиняется нормальному распределению."
   ]
  },
  {
   "cell_type": "code",
   "execution_count": 98,
   "id": "0a8d14af",
   "metadata": {},
   "outputs": [
    {
     "name": "stdout",
     "output_type": "stream",
     "text": [
      "Выборка не подчиняется нормальному распределению.\n"
     ]
    }
   ],
   "source": [
    "test_for_normality(test_count['product'])"
   ]
  },
  {
   "cell_type": "code",
   "execution_count": 99,
   "id": "c666e3d3",
   "metadata": {},
   "outputs": [
    {
     "name": "stdout",
     "output_type": "stream",
     "text": [
      "Выборка не подчиняется нормальному распределению.\n"
     ]
    }
   ],
   "source": [
    "test_for_normality(control_count['product'])"
   ]
  },
  {
   "cell_type": "markdown",
   "id": "1d413e5e",
   "metadata": {},
   "source": [
    "Тестовая и контрольные выборки не подчиняются нормальному распределению, значит для проверки гипотезы о равенстве средних для независимых выборок использую критерий Манна-Уитни-Уилкоксона."
   ]
  },
  {
   "cell_type": "markdown",
   "id": "7347776e",
   "metadata": {},
   "source": [
    "Н0: Количество покупок на пользователя в тестовой и контрольной группах одинаково.\\\n",
    "Н1: Количество покупок на пользователя в тестовой группе выше, чем в контрольной.\\\n",
    "Для проверки гипотезы использую критерий Манна-Уитни-Уилкоксона."
   ]
  },
  {
   "cell_type": "code",
   "execution_count": 100,
   "id": "627b44d4",
   "metadata": {},
   "outputs": [
    {
     "name": "stdout",
     "output_type": "stream",
     "text": [
      "Критическая область - значения статистики выше  3388822\n",
      "Статистика:  3864842.0\n",
      "P-value меньше 0.05 и составляет  0.0\n"
     ]
    }
   ],
   "source": [
    "Mann_Whitney_U_test(test_count['product'], control_count['product'])"
   ]
  },
  {
   "cell_type": "markdown",
   "id": "f19ff53d",
   "metadata": {},
   "source": [
    "Значение статистики находится в критической области. P-value меньше 0.05, соответственно отвергаем нулевую гипотезу в пользу альтернативной - количество покупок на пользователя в тестовой группе выше, чем в контрольной."
   ]
  },
  {
   "cell_type": "markdown",
   "id": "a446e852",
   "metadata": {},
   "source": [
    "## Количество покупок на покупателя"
   ]
  },
  {
   "cell_type": "code",
   "execution_count": 101,
   "id": "96af2292",
   "metadata": {},
   "outputs": [],
   "source": [
    "test_count = test_count[test_count['product']>0]\n",
    "control_count = control_count[control_count['product']>0]"
   ]
  },
  {
   "cell_type": "code",
   "execution_count": 102,
   "id": "d2ca40b9",
   "metadata": {},
   "outputs": [
    {
     "name": "stdout",
     "output_type": "stream",
     "text": [
      "Среднее количество покупок на покупателя в тестовой выборке:  5\n",
      "Среднее количество покупок на покупателя в контрольной выборке:  4\n"
     ]
    }
   ],
   "source": [
    "print('Среднее количество покупок на покупателя в тестовой выборке: ', round(test_count['product'].mean()))\n",
    "print('Среднее количество покупок на покупателя в контрольной выборке: ', round(control_count['product'].mean()))"
   ]
  },
  {
   "cell_type": "markdown",
   "id": "c7be4667",
   "metadata": {},
   "source": [
    "Н0: Выборка подчиняется нормальному распределению.\\\n",
    "Н1: Выборка не подчиняется нормальному распределению."
   ]
  },
  {
   "cell_type": "code",
   "execution_count": 103,
   "id": "a10563cd",
   "metadata": {},
   "outputs": [
    {
     "name": "stdout",
     "output_type": "stream",
     "text": [
      "Выборка не подчиняется нормальному распределению.\n"
     ]
    }
   ],
   "source": [
    "test_for_normality(test_count['product'])"
   ]
  },
  {
   "cell_type": "code",
   "execution_count": 104,
   "id": "7eee51a1",
   "metadata": {},
   "outputs": [
    {
     "name": "stdout",
     "output_type": "stream",
     "text": [
      "Выборка не подчиняется нормальному распределению.\n"
     ]
    }
   ],
   "source": [
    "test_for_normality(control_count['product'])"
   ]
  },
  {
   "cell_type": "markdown",
   "id": "cdcd52e2",
   "metadata": {},
   "source": [
    "Тестовая и контрольные выборки не подчиняются нормальному распределению, значит для проверки гипотезы о равенстве средних для независимых выборок использую критерий Манна-Уитни-Уилкоксона."
   ]
  },
  {
   "cell_type": "markdown",
   "id": "236b818c",
   "metadata": {},
   "source": [
    "Н0: Количество покупок на покупателя в тестовой и контрольной группах одинаково.\\\n",
    "Н1: Количество покупок на покупателя в тестовой группе выше, чем в контрольной.\\\n",
    "Для проверки гипотезы использую критерий Манна-Уитни-Уилкоксона."
   ]
  },
  {
   "cell_type": "code",
   "execution_count": 105,
   "id": "b5d21f55",
   "metadata": {},
   "outputs": [
    {
     "name": "stdout",
     "output_type": "stream",
     "text": [
      "Критическая область - значения статистики выше  3018461\n",
      "Статистика:  3620807.0\n",
      "P-value меньше 0.05 и составляет  0.0\n"
     ]
    }
   ],
   "source": [
    "Mann_Whitney_U_test(test_count['product'], control_count['product'])"
   ]
  },
  {
   "cell_type": "markdown",
   "id": "2f0a79f4",
   "metadata": {},
   "source": [
    "Значение статистики находится в критической области. P-value меньше 0.05, соответственно отвергаем нулевую гипотезу в пользу альтернативной - количество покупок на покупателя в тестовой группе выше, чем в контрольной."
   ]
  },
  {
   "cell_type": "markdown",
   "id": "1c7e5f5d",
   "metadata": {},
   "source": [
    "## Средняя цена"
   ]
  },
  {
   "cell_type": "code",
   "execution_count": 106,
   "id": "b8764e43",
   "metadata": {},
   "outputs": [],
   "source": [
    "test_cost = df_ab[df_ab['group'] == 'test'].cost\n",
    "control_cost = df_ab[df_ab['group'] == 'control'].cost"
   ]
  },
  {
   "cell_type": "code",
   "execution_count": 107,
   "id": "345d8337",
   "metadata": {},
   "outputs": [
    {
     "name": "stdout",
     "output_type": "stream",
     "text": [
      "Средняя цена в тестовой выборке:  5193.67\n",
      "Средняя цена в контрольной выборке:  5565.86\n"
     ]
    }
   ],
   "source": [
    "print('Средняя цена в тестовой выборке: ', round(test_cost.mean(), 2))\n",
    "print('Средняя цена в контрольной выборке: ', round(control_cost.mean(), 2))"
   ]
  },
  {
   "cell_type": "code",
   "execution_count": 108,
   "id": "3871cf71",
   "metadata": {},
   "outputs": [
    {
     "name": "stdout",
     "output_type": "stream",
     "text": [
      "Выборка не подчиняется нормальному распределению.\n"
     ]
    },
    {
     "name": "stderr",
     "output_type": "stream",
     "text": [
      "C:\\Users\\LEGION\\anaconda3\\Lib\\site-packages\\scipy\\stats\\_morestats.py:1882: UserWarning: p-value may not be accurate for N > 5000.\n",
      "  warnings.warn(\"p-value may not be accurate for N > 5000.\")\n"
     ]
    }
   ],
   "source": [
    "test_for_normality(test_cost)"
   ]
  },
  {
   "cell_type": "code",
   "execution_count": 109,
   "id": "1a19c748",
   "metadata": {},
   "outputs": [
    {
     "name": "stdout",
     "output_type": "stream",
     "text": [
      "Выборка не подчиняется нормальному распределению.\n"
     ]
    }
   ],
   "source": [
    "test_for_normality(control_cost)"
   ]
  },
  {
   "cell_type": "markdown",
   "id": "560ecccb",
   "metadata": {},
   "source": [
    "Тестовая и контрольные выборки не подчиняются нормальному распределению, значит для проверки гипотезы о равенстве средних для независимых выборок использую критерий Манна-Уитни-Уилкоксона."
   ]
  },
  {
   "cell_type": "markdown",
   "id": "2661347f",
   "metadata": {},
   "source": [
    "Н0: Средняя цена в тестовой и контрольной группах одинакова.\\\n",
    "Н1: Средняя цена в тестовой группе ниже, чем в контрольной.\\\n",
    "Для проверки гипотезы использую критерий Манна-Уитни-Уилкоксона."
   ]
  },
  {
   "cell_type": "code",
   "execution_count": 110,
   "id": "7e803d84",
   "metadata": {},
   "outputs": [
    {
     "name": "stdout",
     "output_type": "stream",
     "text": [
      "Критическая область - значения статистики ниже  60197930\n",
      "Статистика:  59501041.0\n",
      "P-value меньше 0.05 и составляет  0.0\n"
     ]
    }
   ],
   "source": [
    "Mann_Whitney_U_test(test_cost, control_cost, alternative = 'less')"
   ]
  },
  {
   "cell_type": "markdown",
   "id": "315a5b02",
   "metadata": {},
   "source": [
    "Значение статистики находится в критической области. P-value меньше 0.05, соответственно отвергаем нулевую гипотезу в пользу альтернативной - средняя цена в тестовой группе ниже, чем в контрольной."
   ]
  },
  {
   "cell_type": "markdown",
   "id": "901274f5",
   "metadata": {},
   "source": [
    "По итогам A/B-тестирования видно, что:\\\n",
    "Общая конверсия в покупку в тестовой группе была ниже, чем в контрольной, но при этом для товаров с низкой и средней стоимостью конверсия в покупку выросла, а для товаров высокой стоимости – статистически значимой разницы не выявлено. То есть, маркетинговая кампания была эффективна для товаров низкой и средней ценовой категории, и не повлияла на товары высокой ценовой категории.\\\n",
    "Средняя выручка на одного пользователя (ARPU) и средняя выручка на одного покупателя (ARPPU) стали выше, то есть покупатели стали тратить больше.\\\n",
    "Средний чек в тестовой группе выше, чем в контрольной. При этом, количество покупок на одного пользователя и количество покупок на одного покупателя стали выше, а средняя цена стала ниже. Соответственно, стоимость товарной корзины в 1 посещение магазина стала выше за счет того, что покупатели стали покупать больше товаров, однако по меньшей цене.\n",
    "В качестве рекомендаций можно предложить следующее:\n",
    "1. В рамках данной маркетинговой кампании сфокусироваться на товарах низкой и средней категории, усиливая маркетинг именно для них.\n",
    "2. Также можно оптимизировать рассылку, сегментировав аудиторию и отправлять скидки только тем, кто чаще покупает недорогие товары.\n",
    "3. Для товаров высокой ценовой категории можно тестировать другие условия, например, бесплатная доставка, подарки или рассрочка. Также может быть эффективно предложение процентной скидки (как в виде фиксированного процента, так и динамические в зависимости от суммы покупки)."
   ]
  },
  {
   "cell_type": "markdown",
   "id": "cb093b42",
   "metadata": {},
   "source": [
    "# Кластеризация"
   ]
  },
  {
   "cell_type": "code",
   "execution_count": 111,
   "id": "ec99f549",
   "metadata": {},
   "outputs": [],
   "source": [
    "df_cluster = df.groupby(by=['id']).agg(\n",
    "    gender = ('gender', lambda x: round(x.mean())),\n",
    "    personal_coef = ('personal_coef', lambda x: round(x.mean(), 4)),\n",
    "    age = ('age', lambda x: round(x.mean())),\n",
    "    education = ('education', lambda x: 0 if (x == 'среднее').any() else 1),\n",
    "    products_count = ('product', 'count'),\n",
    "    total_revenue = ('cost', 'sum'),\n",
    "    purchase_count = ('dt', 'nunique'),\n",
    "    products_count_with_sale = ('base_sale', 'sum')\n",
    ").reset_index()"
   ]
  },
  {
   "cell_type": "code",
   "execution_count": 112,
   "id": "30bc5879",
   "metadata": {},
   "outputs": [],
   "source": [
    "df_cluster['avg_purchase_amount'] = round(df_cluster['total_revenue'] / df_cluster['purchase_count'], 2)\n",
    "df_cluster['discount_sensitivity'] = round(df_cluster['products_count_with_sale'] / df_cluster['products_count'], 2)"
   ]
  },
  {
   "cell_type": "code",
   "execution_count": 113,
   "id": "2deff0e4",
   "metadata": {},
   "outputs": [],
   "source": [
    "for i in sorted(df['product_sex'].unique()):\n",
    "    temp_df = df[df['product_sex'] == i].groupby('id').size().reset_index(name=f'count_product_sex_{i}')\n",
    "    df_cluster = pd.merge(\n",
    "        df_cluster,\n",
    "        temp_df,\n",
    "        on='id',\n",
    "        how='left'\n",
    "    ).fillna(0)\n",
    "    df_cluster[f'product_sex_{i}_ratio'] = round(df_cluster[f'count_product_sex_{i}'] / df_cluster['products_count'], 2)\n",
    "    df_cluster.drop(columns=[f'count_product_sex_{i}'], inplace=True)"
   ]
  },
  {
   "cell_type": "code",
   "execution_count": 114,
   "id": "273a528c",
   "metadata": {},
   "outputs": [],
   "source": [
    "df_exploded = df.explode('normalized_colour')\n",
    "all_colours = df_exploded['normalized_colour'].dropna().unique()\n",
    "for colour in sorted(all_colours):\n",
    "    temp_df = df_exploded[df_exploded['normalized_colour'] == colour].groupby('id').size().reset_index(name=f'count_colour_{colour}')\n",
    "    df_cluster = pd.merge(\n",
    "        df_cluster,\n",
    "        temp_df,\n",
    "        on='id',\n",
    "        how='left'\n",
    "    ).fillna(0)\n",
    "    df_cluster[f'colour_{colour}_ratio'] = round(df_cluster[f'count_colour_{colour}'] / df_cluster['products_count'], 2)\n",
    "    df_cluster.drop(columns=[f'count_colour_{colour}'], inplace=True)"
   ]
  },
  {
   "cell_type": "code",
   "execution_count": 115,
   "id": "35f79383",
   "metadata": {},
   "outputs": [],
   "source": [
    "for category in sorted(df['product_category'].unique()):\n",
    "    temp_df = df[df['product_category'] == category].groupby('id').size().reset_index(name=f'count_product_category_{category}')\n",
    "    df_cluster = pd.merge(\n",
    "        df_cluster,\n",
    "        temp_df,\n",
    "        on='id',\n",
    "        how='left'\n",
    "    ).fillna(0)\n",
    "    df_cluster[f'product_category_{category}_ratio'] = round(df_cluster[f'count_product_category_{category}'] / df_cluster['products_count'], 2)\n",
    "    df_cluster.drop(columns=[f'count_product_category_{category}'], inplace=True)"
   ]
  },
  {
   "cell_type": "code",
   "execution_count": 116,
   "id": "2c5b4a0b",
   "metadata": {},
   "outputs": [
    {
     "data": {
      "text/html": [
       "<div>\n",
       "<style scoped>\n",
       "    .dataframe tbody tr th:only-of-type {\n",
       "        vertical-align: middle;\n",
       "    }\n",
       "\n",
       "    .dataframe tbody tr th {\n",
       "        vertical-align: top;\n",
       "    }\n",
       "\n",
       "    .dataframe thead th {\n",
       "        text-align: right;\n",
       "    }\n",
       "</style>\n",
       "<table border=\"1\" class=\"dataframe\">\n",
       "  <thead>\n",
       "    <tr style=\"text-align: right;\">\n",
       "      <th></th>\n",
       "      <th>gender</th>\n",
       "      <th>personal_coef</th>\n",
       "      <th>education</th>\n",
       "      <th>discount_sensitivity</th>\n",
       "      <th>product_sex_0_ratio</th>\n",
       "      <th>product_sex_1_ratio</th>\n",
       "      <th>product_sex_2_ratio</th>\n",
       "      <th>product_sex_3_ratio</th>\n",
       "      <th>colour_бежевый_ratio</th>\n",
       "      <th>colour_белый_ratio</th>\n",
       "      <th>...</th>\n",
       "      <th>product_category_тренажеры_ratio</th>\n",
       "      <th>product_category_тренировочный инвентарь_ratio</th>\n",
       "      <th>product_category_туристические аксессуары_ratio</th>\n",
       "      <th>product_category_электроника_ratio</th>\n",
       "      <th>age</th>\n",
       "      <th>products_count</th>\n",
       "      <th>total_revenue</th>\n",
       "      <th>purchase_count</th>\n",
       "      <th>products_count_with_sale</th>\n",
       "      <th>avg_purchase_amount</th>\n",
       "    </tr>\n",
       "  </thead>\n",
       "  <tbody>\n",
       "    <tr>\n",
       "      <th>0</th>\n",
       "      <td>0</td>\n",
       "      <td>0.5072</td>\n",
       "      <td>0</td>\n",
       "      <td>0.33</td>\n",
       "      <td>0.33</td>\n",
       "      <td>0.00</td>\n",
       "      <td>0.00</td>\n",
       "      <td>0.67</td>\n",
       "      <td>0.33</td>\n",
       "      <td>0.33</td>\n",
       "      <td>...</td>\n",
       "      <td>0.00</td>\n",
       "      <td>0.00</td>\n",
       "      <td>0.67</td>\n",
       "      <td>0.0</td>\n",
       "      <td>-0.225282</td>\n",
       "      <td>-0.464824</td>\n",
       "      <td>-0.272558</td>\n",
       "      <td>-0.726881</td>\n",
       "      <td>-0.379027</td>\n",
       "      <td>0.182942</td>\n",
       "    </tr>\n",
       "    <tr>\n",
       "      <th>1</th>\n",
       "      <td>1</td>\n",
       "      <td>0.4304</td>\n",
       "      <td>0</td>\n",
       "      <td>0.25</td>\n",
       "      <td>0.00</td>\n",
       "      <td>0.75</td>\n",
       "      <td>0.00</td>\n",
       "      <td>0.25</td>\n",
       "      <td>0.00</td>\n",
       "      <td>0.50</td>\n",
       "      <td>...</td>\n",
       "      <td>0.00</td>\n",
       "      <td>0.25</td>\n",
       "      <td>0.00</td>\n",
       "      <td>0.0</td>\n",
       "      <td>-0.647683</td>\n",
       "      <td>-0.361443</td>\n",
       "      <td>-0.342635</td>\n",
       "      <td>-0.446939</td>\n",
       "      <td>-0.379027</td>\n",
       "      <td>-0.371385</td>\n",
       "    </tr>\n",
       "    <tr>\n",
       "      <th>2</th>\n",
       "      <td>0</td>\n",
       "      <td>0.5072</td>\n",
       "      <td>0</td>\n",
       "      <td>0.00</td>\n",
       "      <td>0.00</td>\n",
       "      <td>0.00</td>\n",
       "      <td>0.86</td>\n",
       "      <td>0.14</td>\n",
       "      <td>0.00</td>\n",
       "      <td>0.29</td>\n",
       "      <td>...</td>\n",
       "      <td>0.00</td>\n",
       "      <td>0.00</td>\n",
       "      <td>0.14</td>\n",
       "      <td>0.0</td>\n",
       "      <td>-0.309762</td>\n",
       "      <td>-0.051300</td>\n",
       "      <td>-0.124550</td>\n",
       "      <td>-0.166997</td>\n",
       "      <td>-0.605848</td>\n",
       "      <td>-0.054272</td>\n",
       "    </tr>\n",
       "    <tr>\n",
       "      <th>3</th>\n",
       "      <td>1</td>\n",
       "      <td>0.4304</td>\n",
       "      <td>0</td>\n",
       "      <td>0.40</td>\n",
       "      <td>0.00</td>\n",
       "      <td>0.60</td>\n",
       "      <td>0.40</td>\n",
       "      <td>0.00</td>\n",
       "      <td>0.00</td>\n",
       "      <td>0.13</td>\n",
       "      <td>...</td>\n",
       "      <td>0.00</td>\n",
       "      <td>0.00</td>\n",
       "      <td>0.00</td>\n",
       "      <td>0.0</td>\n",
       "      <td>1.126401</td>\n",
       "      <td>0.775749</td>\n",
       "      <td>0.575989</td>\n",
       "      <td>1.232714</td>\n",
       "      <td>0.755076</td>\n",
       "      <td>0.116887</td>\n",
       "    </tr>\n",
       "    <tr>\n",
       "      <th>4</th>\n",
       "      <td>0</td>\n",
       "      <td>0.5072</td>\n",
       "      <td>0</td>\n",
       "      <td>0.38</td>\n",
       "      <td>0.38</td>\n",
       "      <td>0.00</td>\n",
       "      <td>0.38</td>\n",
       "      <td>0.23</td>\n",
       "      <td>0.00</td>\n",
       "      <td>0.23</td>\n",
       "      <td>...</td>\n",
       "      <td>0.08</td>\n",
       "      <td>0.08</td>\n",
       "      <td>0.00</td>\n",
       "      <td>0.0</td>\n",
       "      <td>-0.140802</td>\n",
       "      <td>0.568987</td>\n",
       "      <td>0.242086</td>\n",
       "      <td>0.952772</td>\n",
       "      <td>0.528255</td>\n",
       "      <td>-0.100059</td>\n",
       "    </tr>\n",
       "    <tr>\n",
       "      <th>...</th>\n",
       "      <td>...</td>\n",
       "      <td>...</td>\n",
       "      <td>...</td>\n",
       "      <td>...</td>\n",
       "      <td>...</td>\n",
       "      <td>...</td>\n",
       "      <td>...</td>\n",
       "      <td>...</td>\n",
       "      <td>...</td>\n",
       "      <td>...</td>\n",
       "      <td>...</td>\n",
       "      <td>...</td>\n",
       "      <td>...</td>\n",
       "      <td>...</td>\n",
       "      <td>...</td>\n",
       "      <td>...</td>\n",
       "      <td>...</td>\n",
       "      <td>...</td>\n",
       "      <td>...</td>\n",
       "      <td>...</td>\n",
       "      <td>...</td>\n",
       "    </tr>\n",
       "    <tr>\n",
       "      <th>101589</th>\n",
       "      <td>0</td>\n",
       "      <td>0.5072</td>\n",
       "      <td>0</td>\n",
       "      <td>0.75</td>\n",
       "      <td>0.75</td>\n",
       "      <td>0.00</td>\n",
       "      <td>0.25</td>\n",
       "      <td>0.00</td>\n",
       "      <td>0.12</td>\n",
       "      <td>0.62</td>\n",
       "      <td>...</td>\n",
       "      <td>0.00</td>\n",
       "      <td>0.00</td>\n",
       "      <td>0.00</td>\n",
       "      <td>0.0</td>\n",
       "      <td>-0.563203</td>\n",
       "      <td>0.052081</td>\n",
       "      <td>-0.261519</td>\n",
       "      <td>-0.446939</td>\n",
       "      <td>0.755076</td>\n",
       "      <td>-0.148338</td>\n",
       "    </tr>\n",
       "    <tr>\n",
       "      <th>101590</th>\n",
       "      <td>1</td>\n",
       "      <td>0.4304</td>\n",
       "      <td>0</td>\n",
       "      <td>0.18</td>\n",
       "      <td>0.00</td>\n",
       "      <td>0.18</td>\n",
       "      <td>0.09</td>\n",
       "      <td>0.73</td>\n",
       "      <td>0.00</td>\n",
       "      <td>0.09</td>\n",
       "      <td>...</td>\n",
       "      <td>0.00</td>\n",
       "      <td>0.09</td>\n",
       "      <td>0.27</td>\n",
       "      <td>0.0</td>\n",
       "      <td>-0.394242</td>\n",
       "      <td>0.362225</td>\n",
       "      <td>1.424748</td>\n",
       "      <td>-0.166997</td>\n",
       "      <td>-0.152207</td>\n",
       "      <td>3.140825</td>\n",
       "    </tr>\n",
       "    <tr>\n",
       "      <th>101591</th>\n",
       "      <td>1</td>\n",
       "      <td>0.2576</td>\n",
       "      <td>0</td>\n",
       "      <td>0.09</td>\n",
       "      <td>0.00</td>\n",
       "      <td>0.91</td>\n",
       "      <td>0.00</td>\n",
       "      <td>0.09</td>\n",
       "      <td>0.00</td>\n",
       "      <td>0.00</td>\n",
       "      <td>...</td>\n",
       "      <td>0.09</td>\n",
       "      <td>0.00</td>\n",
       "      <td>0.00</td>\n",
       "      <td>0.0</td>\n",
       "      <td>-2.844167</td>\n",
       "      <td>0.362225</td>\n",
       "      <td>0.102776</td>\n",
       "      <td>0.952772</td>\n",
       "      <td>-0.379027</td>\n",
       "      <td>-0.243708</td>\n",
       "    </tr>\n",
       "    <tr>\n",
       "      <th>101592</th>\n",
       "      <td>1</td>\n",
       "      <td>0.4304</td>\n",
       "      <td>0</td>\n",
       "      <td>0.00</td>\n",
       "      <td>0.00</td>\n",
       "      <td>0.67</td>\n",
       "      <td>0.00</td>\n",
       "      <td>0.33</td>\n",
       "      <td>0.00</td>\n",
       "      <td>0.33</td>\n",
       "      <td>...</td>\n",
       "      <td>0.00</td>\n",
       "      <td>0.00</td>\n",
       "      <td>0.00</td>\n",
       "      <td>0.0</td>\n",
       "      <td>0.957441</td>\n",
       "      <td>-0.464824</td>\n",
       "      <td>-0.384925</td>\n",
       "      <td>-0.726881</td>\n",
       "      <td>-0.605848</td>\n",
       "      <td>-0.280526</td>\n",
       "    </tr>\n",
       "    <tr>\n",
       "      <th>101593</th>\n",
       "      <td>1</td>\n",
       "      <td>0.4688</td>\n",
       "      <td>1</td>\n",
       "      <td>0.00</td>\n",
       "      <td>0.00</td>\n",
       "      <td>0.88</td>\n",
       "      <td>0.00</td>\n",
       "      <td>0.12</td>\n",
       "      <td>0.00</td>\n",
       "      <td>0.12</td>\n",
       "      <td>...</td>\n",
       "      <td>0.00</td>\n",
       "      <td>0.00</td>\n",
       "      <td>0.00</td>\n",
       "      <td>0.0</td>\n",
       "      <td>1.126401</td>\n",
       "      <td>0.052081</td>\n",
       "      <td>0.697875</td>\n",
       "      <td>0.112945</td>\n",
       "      <td>-0.605848</td>\n",
       "      <td>1.133052</td>\n",
       "    </tr>\n",
       "  </tbody>\n",
       "</table>\n",
       "<p>101594 rows × 44 columns</p>\n",
       "</div>"
      ],
      "text/plain": [
       "        gender  personal_coef  education  discount_sensitivity  \\\n",
       "0            0         0.5072          0                  0.33   \n",
       "1            1         0.4304          0                  0.25   \n",
       "2            0         0.5072          0                  0.00   \n",
       "3            1         0.4304          0                  0.40   \n",
       "4            0         0.5072          0                  0.38   \n",
       "...        ...            ...        ...                   ...   \n",
       "101589       0         0.5072          0                  0.75   \n",
       "101590       1         0.4304          0                  0.18   \n",
       "101591       1         0.2576          0                  0.09   \n",
       "101592       1         0.4304          0                  0.00   \n",
       "101593       1         0.4688          1                  0.00   \n",
       "\n",
       "        product_sex_0_ratio  product_sex_1_ratio  product_sex_2_ratio  \\\n",
       "0                      0.33                 0.00                 0.00   \n",
       "1                      0.00                 0.75                 0.00   \n",
       "2                      0.00                 0.00                 0.86   \n",
       "3                      0.00                 0.60                 0.40   \n",
       "4                      0.38                 0.00                 0.38   \n",
       "...                     ...                  ...                  ...   \n",
       "101589                 0.75                 0.00                 0.25   \n",
       "101590                 0.00                 0.18                 0.09   \n",
       "101591                 0.00                 0.91                 0.00   \n",
       "101592                 0.00                 0.67                 0.00   \n",
       "101593                 0.00                 0.88                 0.00   \n",
       "\n",
       "        product_sex_3_ratio  colour_бежевый_ratio  colour_белый_ratio  ...  \\\n",
       "0                      0.67                  0.33                0.33  ...   \n",
       "1                      0.25                  0.00                0.50  ...   \n",
       "2                      0.14                  0.00                0.29  ...   \n",
       "3                      0.00                  0.00                0.13  ...   \n",
       "4                      0.23                  0.00                0.23  ...   \n",
       "...                     ...                   ...                 ...  ...   \n",
       "101589                 0.00                  0.12                0.62  ...   \n",
       "101590                 0.73                  0.00                0.09  ...   \n",
       "101591                 0.09                  0.00                0.00  ...   \n",
       "101592                 0.33                  0.00                0.33  ...   \n",
       "101593                 0.12                  0.00                0.12  ...   \n",
       "\n",
       "        product_category_тренажеры_ratio  \\\n",
       "0                                   0.00   \n",
       "1                                   0.00   \n",
       "2                                   0.00   \n",
       "3                                   0.00   \n",
       "4                                   0.08   \n",
       "...                                  ...   \n",
       "101589                              0.00   \n",
       "101590                              0.00   \n",
       "101591                              0.09   \n",
       "101592                              0.00   \n",
       "101593                              0.00   \n",
       "\n",
       "        product_category_тренировочный инвентарь_ratio  \\\n",
       "0                                                 0.00   \n",
       "1                                                 0.25   \n",
       "2                                                 0.00   \n",
       "3                                                 0.00   \n",
       "4                                                 0.08   \n",
       "...                                                ...   \n",
       "101589                                            0.00   \n",
       "101590                                            0.09   \n",
       "101591                                            0.00   \n",
       "101592                                            0.00   \n",
       "101593                                            0.00   \n",
       "\n",
       "        product_category_туристические аксессуары_ratio  \\\n",
       "0                                                  0.67   \n",
       "1                                                  0.00   \n",
       "2                                                  0.14   \n",
       "3                                                  0.00   \n",
       "4                                                  0.00   \n",
       "...                                                 ...   \n",
       "101589                                             0.00   \n",
       "101590                                             0.27   \n",
       "101591                                             0.00   \n",
       "101592                                             0.00   \n",
       "101593                                             0.00   \n",
       "\n",
       "        product_category_электроника_ratio       age  products_count  \\\n",
       "0                                      0.0 -0.225282       -0.464824   \n",
       "1                                      0.0 -0.647683       -0.361443   \n",
       "2                                      0.0 -0.309762       -0.051300   \n",
       "3                                      0.0  1.126401        0.775749   \n",
       "4                                      0.0 -0.140802        0.568987   \n",
       "...                                    ...       ...             ...   \n",
       "101589                                 0.0 -0.563203        0.052081   \n",
       "101590                                 0.0 -0.394242        0.362225   \n",
       "101591                                 0.0 -2.844167        0.362225   \n",
       "101592                                 0.0  0.957441       -0.464824   \n",
       "101593                                 0.0  1.126401        0.052081   \n",
       "\n",
       "        total_revenue  purchase_count  products_count_with_sale  \\\n",
       "0           -0.272558       -0.726881                 -0.379027   \n",
       "1           -0.342635       -0.446939                 -0.379027   \n",
       "2           -0.124550       -0.166997                 -0.605848   \n",
       "3            0.575989        1.232714                  0.755076   \n",
       "4            0.242086        0.952772                  0.528255   \n",
       "...               ...             ...                       ...   \n",
       "101589      -0.261519       -0.446939                  0.755076   \n",
       "101590       1.424748       -0.166997                 -0.152207   \n",
       "101591       0.102776        0.952772                 -0.379027   \n",
       "101592      -0.384925       -0.726881                 -0.605848   \n",
       "101593       0.697875        0.112945                 -0.605848   \n",
       "\n",
       "        avg_purchase_amount  \n",
       "0                  0.182942  \n",
       "1                 -0.371385  \n",
       "2                 -0.054272  \n",
       "3                  0.116887  \n",
       "4                 -0.100059  \n",
       "...                     ...  \n",
       "101589            -0.148338  \n",
       "101590             3.140825  \n",
       "101591            -0.243708  \n",
       "101592            -0.280526  \n",
       "101593             1.133052  \n",
       "\n",
       "[101594 rows x 44 columns]"
      ]
     },
     "execution_count": 116,
     "metadata": {},
     "output_type": "execute_result"
    }
   ],
   "source": [
    "numeric_columns = ['age', 'products_count', 'total_revenue', 'purchase_count', 'products_count_with_sale', 'avg_purchase_amount']\n",
    "\n",
    "scaler = StandardScaler()\n",
    "df_scaler = pd.DataFrame(scaler.fit_transform(df_cluster[numeric_columns]))\n",
    "df_scaler.columns = numeric_columns\n",
    "\n",
    "df_cluster_2 = df_cluster.drop(numeric_columns+['id'], axis=1)\n",
    "df_cluster_2 = df_cluster_2.join(df_scaler)\n",
    "df_cluster_2"
   ]
  },
  {
   "cell_type": "code",
   "execution_count": 117,
   "id": "f79371c5",
   "metadata": {},
   "outputs": [],
   "source": [
    "tsne = TSNE(n_components = 2)\n",
    "df_tsne = tsne.fit_transform(df_cluster_2)"
   ]
  },
  {
   "cell_type": "code",
   "execution_count": 118,
   "id": "e3bf77e6",
   "metadata": {},
   "outputs": [
    {
     "data": {
      "text/plain": [
       "<matplotlib.collections.PathCollection at 0x28f9f0b6250>"
      ]
     },
     "execution_count": 118,
     "metadata": {},
     "output_type": "execute_result"
    },
    {
     "data": {
      "image/png": "[encoded data removed]",
      "text/plain": [
       "<Figure size 640x480 with 1 Axes>"
      ]
     },
     "metadata": {},
     "output_type": "display_data"
    }
   ],
   "source": [
    "plt.scatter(df_tsne[:, 0], df_tsne[:, 1], s = 10)"
   ]
  },
  {
   "cell_type": "code",
   "execution_count": 119,
   "id": "6d663d9b",
   "metadata": {},
   "outputs": [
    {
     "name": "stderr",
     "output_type": "stream",
     "text": [
      "C:\\Users\\LEGION\\anaconda3\\Lib\\site-packages\\sklearn\\cluster\\_kmeans.py:1412: FutureWarning: The default value of `n_init` will change from 10 to 'auto' in 1.4. Set the value of `n_init` explicitly to suppress the warning\n",
      "  super()._check_params_vs_input(X, default_n_init=10)\n",
      "C:\\Users\\LEGION\\anaconda3\\Lib\\site-packages\\sklearn\\cluster\\_kmeans.py:1412: FutureWarning: The default value of `n_init` will change from 10 to 'auto' in 1.4. Set the value of `n_init` explicitly to suppress the warning\n",
      "  super()._check_params_vs_input(X, default_n_init=10)\n",
      "C:\\Users\\LEGION\\anaconda3\\Lib\\site-packages\\sklearn\\cluster\\_kmeans.py:1412: FutureWarning: The default value of `n_init` will change from 10 to 'auto' in 1.4. Set the value of `n_init` explicitly to suppress the warning\n",
      "  super()._check_params_vs_input(X, default_n_init=10)\n",
      "C:\\Users\\LEGION\\anaconda3\\Lib\\site-packages\\sklearn\\cluster\\_kmeans.py:1412: FutureWarning: The default value of `n_init` will change from 10 to 'auto' in 1.4. Set the value of `n_init` explicitly to suppress the warning\n",
      "  super()._check_params_vs_input(X, default_n_init=10)\n",
      "C:\\Users\\LEGION\\anaconda3\\Lib\\site-packages\\sklearn\\cluster\\_kmeans.py:1412: FutureWarning: The default value of `n_init` will change from 10 to 'auto' in 1.4. Set the value of `n_init` explicitly to suppress the warning\n",
      "  super()._check_params_vs_input(X, default_n_init=10)\n",
      "C:\\Users\\LEGION\\anaconda3\\Lib\\site-packages\\sklearn\\cluster\\_kmeans.py:1412: FutureWarning: The default value of `n_init` will change from 10 to 'auto' in 1.4. Set the value of `n_init` explicitly to suppress the warning\n",
      "  super()._check_params_vs_input(X, default_n_init=10)\n",
      "C:\\Users\\LEGION\\anaconda3\\Lib\\site-packages\\sklearn\\cluster\\_kmeans.py:1412: FutureWarning: The default value of `n_init` will change from 10 to 'auto' in 1.4. Set the value of `n_init` explicitly to suppress the warning\n",
      "  super()._check_params_vs_input(X, default_n_init=10)\n",
      "C:\\Users\\LEGION\\anaconda3\\Lib\\site-packages\\sklearn\\cluster\\_kmeans.py:1412: FutureWarning: The default value of `n_init` will change from 10 to 'auto' in 1.4. Set the value of `n_init` explicitly to suppress the warning\n",
      "  super()._check_params_vs_input(X, default_n_init=10)\n",
      "C:\\Users\\LEGION\\anaconda3\\Lib\\site-packages\\sklearn\\cluster\\_kmeans.py:1412: FutureWarning: The default value of `n_init` will change from 10 to 'auto' in 1.4. Set the value of `n_init` explicitly to suppress the warning\n",
      "  super()._check_params_vs_input(X, default_n_init=10)\n",
      "C:\\Users\\LEGION\\anaconda3\\Lib\\site-packages\\sklearn\\cluster\\_kmeans.py:1412: FutureWarning: The default value of `n_init` will change from 10 to 'auto' in 1.4. Set the value of `n_init` explicitly to suppress the warning\n",
      "  super()._check_params_vs_input(X, default_n_init=10)\n",
      "C:\\Users\\LEGION\\anaconda3\\Lib\\site-packages\\sklearn\\cluster\\_kmeans.py:1412: FutureWarning: The default value of `n_init` will change from 10 to 'auto' in 1.4. Set the value of `n_init` explicitly to suppress the warning\n",
      "  super()._check_params_vs_input(X, default_n_init=10)\n",
      "C:\\Users\\LEGION\\anaconda3\\Lib\\site-packages\\sklearn\\cluster\\_kmeans.py:1412: FutureWarning: The default value of `n_init` will change from 10 to 'auto' in 1.4. Set the value of `n_init` explicitly to suppress the warning\n",
      "  super()._check_params_vs_input(X, default_n_init=10)\n",
      "C:\\Users\\LEGION\\anaconda3\\Lib\\site-packages\\sklearn\\cluster\\_kmeans.py:1412: FutureWarning: The default value of `n_init` will change from 10 to 'auto' in 1.4. Set the value of `n_init` explicitly to suppress the warning\n",
      "  super()._check_params_vs_input(X, default_n_init=10)\n"
     ]
    }
   ],
   "source": [
    "inertia = []\n",
    "silhouette = []\n",
    "N = 15\n",
    "for i in range(2, N):\n",
    "    kmeans = KMeans(n_clusters=i, random_state=1).fit(df_cluster_2)\n",
    "    preds = kmeans.predict(df_cluster_2)\n",
    "    inertia.append(np.sqrt(kmeans.inertia_))\n",
    "    silhouette.append(silhouette_score(df_cluster_2, preds))"
   ]
  },
  {
   "cell_type": "code",
   "execution_count": 120,
   "id": "b21e4649",
   "metadata": {},
   "outputs": [
    {
     "data": {
      "image/png": "[encoded data removed]",
      "text/plain": [
       "<Figure size 640x480 with 1 Axes>"
      ]
     },
     "metadata": {},
     "output_type": "display_data"
    }
   ],
   "source": [
    "plt.plot(np.arange(2, N), inertia, marker = 's')\n",
    "plt.grid()\n",
    "plt.show()"
   ]
  },
  {
   "cell_type": "code",
   "execution_count": 121,
   "id": "e33a20f0",
   "metadata": {},
   "outputs": [
    {
     "data": {
      "image/png": "[encoded data removed]",
      "text/plain": [
       "<Figure size 640x480 with 1 Axes>"
      ]
     },
     "metadata": {},
     "output_type": "display_data"
    }
   ],
   "source": [
    "plt.plot(np.arange(2, N), silhouette, marker = 's')\n",
    "plt.grid()\n",
    "plt.show()"
   ]
  },
  {
   "cell_type": "markdown",
   "id": "868a1619",
   "metadata": {},
   "source": [
    "На графике silhouette-score видно, что оптимально разбиение на 4 кластера."
   ]
  },
  {
   "cell_type": "code",
   "execution_count": 122,
   "id": "768f2982",
   "metadata": {},
   "outputs": [
    {
     "name": "stderr",
     "output_type": "stream",
     "text": [
      "C:\\Users\\LEGION\\anaconda3\\Lib\\site-packages\\sklearn\\cluster\\_kmeans.py:1412: FutureWarning: The default value of `n_init` will change from 10 to 'auto' in 1.4. Set the value of `n_init` explicitly to suppress the warning\n",
      "  super()._check_params_vs_input(X, default_n_init=10)\n"
     ]
    },
    {
     "data": {
      "text/plain": [
       "<matplotlib.collections.PathCollection at 0x28f9f3c7250>"
      ]
     },
     "execution_count": 122,
     "metadata": {},
     "output_type": "execute_result"
    },
    {
     "data": {
      "image/png": "[encoded data removed]",
      "text/plain": [
       "<Figure size 640x480 with 1 Axes>"
      ]
     },
     "metadata": {},
     "output_type": "display_data"
    }
   ],
   "source": [
    "kmeans = KMeans(n_clusters=4).fit(df_cluster_2)\n",
    "plt.scatter(df_tsne[:, 0], df_tsne[:, 1], s = 10, c = kmeans.labels_)"
   ]
  },
  {
   "cell_type": "markdown",
   "id": "c2aaab53",
   "metadata": {},
   "source": [
    "На графике видно, что в общем объеме данных преобладают 2 кластера, а 1 кластер имеет значительно меньший объем."
   ]
  },
  {
   "cell_type": "code",
   "execution_count": 123,
   "id": "07e44f63",
   "metadata": {},
   "outputs": [
    {
     "data": {
      "image/png": "[encoded data removed]",
      "text/plain": [
       "<Figure size 640x480 with 1 Axes>"
      ]
     },
     "metadata": {},
     "output_type": "display_data"
    }
   ],
   "source": [
    "plt.plot(range(1, df_cluster_2.shape[1] + 1), np.median(df_cluster_2.values[kmeans.labels_ == 0, :], axis = 0), marker = 's', label = 'Cluster 1')\n",
    "plt.plot(range(1, df_cluster_2.shape[1] + 1), np.median(df_cluster_2.values[kmeans.labels_ == 1, :], axis = 0), marker = 's', label = 'Cluster 2')\n",
    "plt.plot(range(1, df_cluster_2.shape[1] + 1), np.median(df_cluster_2.values[kmeans.labels_ == 2, :], axis = 0), marker = 's', label = 'Cluster 3')\n",
    "plt.plot(range(1, df_cluster_2.shape[1] + 1), np.median(df_cluster_2.values[kmeans.labels_ == 3, :], axis = 0), marker = 's', label = 'Cluster 4')\n",
    "plt.legend()\n",
    "plt.grid()\n",
    "plt.show()"
   ]
  },
  {
   "cell_type": "markdown",
   "id": "09be8bc6",
   "metadata": {},
   "source": [
    "Исходя из графика видно, что 2 кластер отличаются от остальных по гендерному признаку (1 признак). Далее значения признаков в четырех кластерах близки. Затем, начиная с 39-го признака (39 – возраст, 40 – количество купленных товаров, 41 – выручка с покупателя, 42 – количество чеков, 43 – количество купленных товаров со скидкой, 44 – средний чек), видно значительное разделение кластеров. Так 4 кластер имеет очень высокие значения признаков, 3 кластер – умеренные, а 1 и 2 имеют отрицательные значения признаков, что может указывать на их противоположные характеристики относительно кластеров 3 и 4."
   ]
  },
  {
   "cell_type": "code",
   "execution_count": 132,
   "id": "8b08d5dc",
   "metadata": {},
   "outputs": [],
   "source": [
    "df_cluster['cluster'] = kmeans.labels_\n",
    "cluster_stats = df_cluster.groupby('cluster').median()"
   ]
  },
  {
   "cell_type": "code",
   "execution_count": 138,
   "id": "5404af97",
   "metadata": {},
   "outputs": [
    {
     "data": {
      "text/html": [
       "<div>\n",
       "<style scoped>\n",
       "    .dataframe tbody tr th:only-of-type {\n",
       "        vertical-align: middle;\n",
       "    }\n",
       "\n",
       "    .dataframe tbody tr th {\n",
       "        vertical-align: top;\n",
       "    }\n",
       "\n",
       "    .dataframe thead th {\n",
       "        text-align: right;\n",
       "    }\n",
       "</style>\n",
       "<table border=\"1\" class=\"dataframe\">\n",
       "  <thead>\n",
       "    <tr style=\"text-align: right;\">\n",
       "      <th></th>\n",
       "      <th>gender</th>\n",
       "      <th>age</th>\n",
       "      <th>products_count</th>\n",
       "      <th>total_revenue</th>\n",
       "      <th>purchase_count</th>\n",
       "      <th>products_count_with_sale</th>\n",
       "      <th>avg_purchase_amount</th>\n",
       "      <th>discount_sensitivity</th>\n",
       "    </tr>\n",
       "    <tr>\n",
       "      <th>cluster</th>\n",
       "      <th></th>\n",
       "      <th></th>\n",
       "      <th></th>\n",
       "      <th></th>\n",
       "      <th></th>\n",
       "      <th></th>\n",
       "      <th></th>\n",
       "      <th></th>\n",
       "    </tr>\n",
       "  </thead>\n",
       "  <tbody>\n",
       "    <tr>\n",
       "      <th>0</th>\n",
       "      <td>1.0</td>\n",
       "      <td>30.0</td>\n",
       "      <td>4.0</td>\n",
       "      <td>19958.0</td>\n",
       "      <td>3.0</td>\n",
       "      <td>1.0</td>\n",
       "      <td>5851.60</td>\n",
       "      <td>0.290</td>\n",
       "    </tr>\n",
       "    <tr>\n",
       "      <th>1</th>\n",
       "      <td>0.0</td>\n",
       "      <td>46.0</td>\n",
       "      <td>5.0</td>\n",
       "      <td>17597.0</td>\n",
       "      <td>4.0</td>\n",
       "      <td>1.0</td>\n",
       "      <td>4893.50</td>\n",
       "      <td>0.330</td>\n",
       "    </tr>\n",
       "    <tr>\n",
       "      <th>2</th>\n",
       "      <td>1.0</td>\n",
       "      <td>38.0</td>\n",
       "      <td>17.0</td>\n",
       "      <td>95097.0</td>\n",
       "      <td>9.0</td>\n",
       "      <td>6.0</td>\n",
       "      <td>10033.78</td>\n",
       "      <td>0.360</td>\n",
       "    </tr>\n",
       "    <tr>\n",
       "      <th>3</th>\n",
       "      <td>1.0</td>\n",
       "      <td>39.0</td>\n",
       "      <td>58.0</td>\n",
       "      <td>289701.0</td>\n",
       "      <td>24.0</td>\n",
       "      <td>26.0</td>\n",
       "      <td>12213.36</td>\n",
       "      <td>0.415</td>\n",
       "    </tr>\n",
       "  </tbody>\n",
       "</table>\n",
       "</div>"
      ],
      "text/plain": [
       "         gender   age  products_count  total_revenue  purchase_count  \\\n",
       "cluster                                                                \n",
       "0           1.0  30.0             4.0        19958.0             3.0   \n",
       "1           0.0  46.0             5.0        17597.0             4.0   \n",
       "2           1.0  38.0            17.0        95097.0             9.0   \n",
       "3           1.0  39.0            58.0       289701.0            24.0   \n",
       "\n",
       "         products_count_with_sale  avg_purchase_amount  discount_sensitivity  \n",
       "cluster                                                                       \n",
       "0                             1.0              5851.60                 0.290  \n",
       "1                             1.0              4893.50                 0.330  \n",
       "2                             6.0             10033.78                 0.360  \n",
       "3                            26.0             12213.36                 0.415  "
      ]
     },
     "execution_count": 138,
     "metadata": {},
     "output_type": "execute_result"
    }
   ],
   "source": [
    "cluster_stats[['gender', 'age', 'products_count', 'total_revenue', 'purchase_count', 'products_count_with_sale', 'avg_purchase_amount', 'discount_sensitivity']]"
   ]
  },
  {
   "cell_type": "code",
   "execution_count": 141,
   "id": "38237255",
   "metadata": {},
   "outputs": [
    {
     "data": {
      "text/plain": [
       "cluster\n",
       "0    41602\n",
       "1    45709\n",
       "2    13403\n",
       "3      880\n",
       "Name: id, dtype: int64"
      ]
     },
     "execution_count": 141,
     "metadata": {},
     "output_type": "execute_result"
    }
   ],
   "source": [
    "df_cluster.groupby('cluster').id.nunique()"
   ]
  },
  {
   "cell_type": "markdown",
   "id": "e2013aa5",
   "metadata": {},
   "source": [
    "Видно, что к первому кластеру относятся преимущественно мужчины. Возраст этого кластера молодой. В этом кластере минимальное количество купленных товаров, в том числе и со скидкой, минимальное количество чеков и низкий средний чек. Соответственно, это малоактивные покупатели, имеющие слабую вовлеченность.\\\n",
    "Ко второму кластеру относятся преимущественно женщины старшего возраста. Количество покупок этого кластера немного выше, чем у первого, однако средний чек и выручка самые низкие. Этот кластер более чувствителен к скидке, чем первый. Соответственно, для данного кластера характерны экономные покупатели.\\\n",
    "К третьему кластеру относятся преимущественно мужчины. Для этого кластера характерны стабильные покупатели среднего возраста с хорошей частотой покупок и умеренным использованием акций. Они приносят значительную выручку, но не являются максимально прибыльными.\\\n",
    "К четвертому кластеру относятся преимущественно мужчины. Возраст данного кластера средний. Для этого кластера характерна высокая частота покупок, высокий средний чек и активное использование акций. Вероятно, к данному кластеру относятся лояльные покупатели и корпоративные клиенты."
   ]
  },
  {
   "cell_type": "code",
   "execution_count": 142,
   "id": "d581a330",
   "metadata": {},
   "outputs": [],
   "source": [
    "df = pd.merge(df, df_cluster[['id', 'cluster']], on = 'id', how = 'left')"
   ]
  },
  {
   "cell_type": "code",
   "execution_count": 143,
   "id": "e6bcbd87",
   "metadata": {},
   "outputs": [
    {
     "data": {
      "text/html": [
       "<div>\n",
       "<style scoped>\n",
       "    .dataframe tbody tr th:only-of-type {\n",
       "        vertical-align: middle;\n",
       "    }\n",
       "\n",
       "    .dataframe tbody tr th {\n",
       "        vertical-align: top;\n",
       "    }\n",
       "\n",
       "    .dataframe thead th {\n",
       "        text-align: right;\n",
       "    }\n",
       "</style>\n",
       "<table border=\"1\" class=\"dataframe\">\n",
       "  <thead>\n",
       "    <tr style=\"text-align: right;\">\n",
       "      <th></th>\n",
       "      <th>id</th>\n",
       "      <th>gender</th>\n",
       "      <th>age</th>\n",
       "      <th>education</th>\n",
       "      <th>city</th>\n",
       "      <th>personal_coef</th>\n",
       "      <th>product</th>\n",
       "      <th>colour</th>\n",
       "      <th>cost</th>\n",
       "      <th>product_sex</th>\n",
       "      <th>base_sale</th>\n",
       "      <th>dt</th>\n",
       "      <th>normalized_colour</th>\n",
       "      <th>product_category</th>\n",
       "      <th>cluster</th>\n",
       "    </tr>\n",
       "  </thead>\n",
       "  <tbody>\n",
       "    <tr>\n",
       "      <th>0</th>\n",
       "      <td>0</td>\n",
       "      <td>0.0</td>\n",
       "      <td>36</td>\n",
       "      <td>среднее</td>\n",
       "      <td>1201</td>\n",
       "      <td>0.5072</td>\n",
       "      <td>Велосипед горный женский Stern Mira 2.0 26\"</td>\n",
       "      <td>белый/синий</td>\n",
       "      <td>13599</td>\n",
       "      <td>0</td>\n",
       "      <td>1</td>\n",
       "      <td>7</td>\n",
       "      <td>[белый, синий]</td>\n",
       "      <td>транспорт</td>\n",
       "      <td>0</td>\n",
       "    </tr>\n",
       "    <tr>\n",
       "      <th>1</th>\n",
       "      <td>0</td>\n",
       "      <td>0.0</td>\n",
       "      <td>36</td>\n",
       "      <td>среднее</td>\n",
       "      <td>1201</td>\n",
       "      <td>0.5072</td>\n",
       "      <td>Стол Outventure</td>\n",
       "      <td>зелёный</td>\n",
       "      <td>1499</td>\n",
       "      <td>3</td>\n",
       "      <td>0</td>\n",
       "      <td>37</td>\n",
       "      <td>[зеленый]</td>\n",
       "      <td>туристические аксессуары</td>\n",
       "      <td>0</td>\n",
       "    </tr>\n",
       "    <tr>\n",
       "      <th>2</th>\n",
       "      <td>0</td>\n",
       "      <td>0.0</td>\n",
       "      <td>36</td>\n",
       "      <td>среднее</td>\n",
       "      <td>1201</td>\n",
       "      <td>0.5072</td>\n",
       "      <td>Набор Outventure: стол + 4 стула</td>\n",
       "      <td>бежевый</td>\n",
       "      <td>4799</td>\n",
       "      <td>3</td>\n",
       "      <td>0</td>\n",
       "      <td>37</td>\n",
       "      <td>[бежевый]</td>\n",
       "      <td>туристические аксессуары</td>\n",
       "      <td>0</td>\n",
       "    </tr>\n",
       "    <tr>\n",
       "      <th>3</th>\n",
       "      <td>4</td>\n",
       "      <td>0.0</td>\n",
       "      <td>35</td>\n",
       "      <td>среднее</td>\n",
       "      <td>1134</td>\n",
       "      <td>0.5072</td>\n",
       "      <td>Роликовые коньки детские Roces Orlando III</td>\n",
       "      <td>черный/розовый</td>\n",
       "      <td>9199</td>\n",
       "      <td>2</td>\n",
       "      <td>0</td>\n",
       "      <td>0</td>\n",
       "      <td>[черный, розовый]</td>\n",
       "      <td>транспорт</td>\n",
       "      <td>0</td>\n",
       "    </tr>\n",
       "    <tr>\n",
       "      <th>4</th>\n",
       "      <td>4</td>\n",
       "      <td>0.0</td>\n",
       "      <td>35</td>\n",
       "      <td>среднее</td>\n",
       "      <td>1134</td>\n",
       "      <td>0.5072</td>\n",
       "      <td>Шлем FILA NRK FUN</td>\n",
       "      <td>белый</td>\n",
       "      <td>4999</td>\n",
       "      <td>3</td>\n",
       "      <td>0</td>\n",
       "      <td>0</td>\n",
       "      <td>[белый]</td>\n",
       "      <td>аксессуары для спорта</td>\n",
       "      <td>0</td>\n",
       "    </tr>\n",
       "    <tr>\n",
       "      <th>...</th>\n",
       "      <td>...</td>\n",
       "      <td>...</td>\n",
       "      <td>...</td>\n",
       "      <td>...</td>\n",
       "      <td>...</td>\n",
       "      <td>...</td>\n",
       "      <td>...</td>\n",
       "      <td>...</td>\n",
       "      <td>...</td>\n",
       "      <td>...</td>\n",
       "      <td>...</td>\n",
       "      <td>...</td>\n",
       "      <td>...</td>\n",
       "      <td>...</td>\n",
       "      <td>...</td>\n",
       "    </tr>\n",
       "    <tr>\n",
       "      <th>761566</th>\n",
       "      <td>15885</td>\n",
       "      <td>1.0</td>\n",
       "      <td>33</td>\n",
       "      <td>среднее</td>\n",
       "      <td>1190</td>\n",
       "      <td>0.4304</td>\n",
       "      <td>Поло мужское Outventure</td>\n",
       "      <td>синий</td>\n",
       "      <td>1599</td>\n",
       "      <td>1</td>\n",
       "      <td>0</td>\n",
       "      <td>24</td>\n",
       "      <td>[синий]</td>\n",
       "      <td>одежда</td>\n",
       "      <td>0</td>\n",
       "    </tr>\n",
       "    <tr>\n",
       "      <th>761567</th>\n",
       "      <td>15885</td>\n",
       "      <td>1.0</td>\n",
       "      <td>33</td>\n",
       "      <td>среднее</td>\n",
       "      <td>1190</td>\n",
       "      <td>0.4304</td>\n",
       "      <td>Майка мужская Babolat Complete Muscle</td>\n",
       "      <td>оранжевый/синий</td>\n",
       "      <td>3899</td>\n",
       "      <td>1</td>\n",
       "      <td>0</td>\n",
       "      <td>24</td>\n",
       "      <td>[оранжевый, синий]</td>\n",
       "      <td>одежда</td>\n",
       "      <td>0</td>\n",
       "    </tr>\n",
       "    <tr>\n",
       "      <th>761568</th>\n",
       "      <td>15885</td>\n",
       "      <td>1.0</td>\n",
       "      <td>33</td>\n",
       "      <td>среднее</td>\n",
       "      <td>1190</td>\n",
       "      <td>0.4304</td>\n",
       "      <td>Майка мужская Protest Prtihiaka</td>\n",
       "      <td>белый/принт</td>\n",
       "      <td>1679</td>\n",
       "      <td>1</td>\n",
       "      <td>1</td>\n",
       "      <td>49</td>\n",
       "      <td>[белый, другой]</td>\n",
       "      <td>одежда</td>\n",
       "      <td>0</td>\n",
       "    </tr>\n",
       "    <tr>\n",
       "      <th>761569</th>\n",
       "      <td>15885</td>\n",
       "      <td>1.0</td>\n",
       "      <td>33</td>\n",
       "      <td>среднее</td>\n",
       "      <td>1190</td>\n",
       "      <td>0.4304</td>\n",
       "      <td>Массажер Demix</td>\n",
       "      <td>темно-зелёный</td>\n",
       "      <td>399</td>\n",
       "      <td>3</td>\n",
       "      <td>0</td>\n",
       "      <td>52</td>\n",
       "      <td>[зеленый]</td>\n",
       "      <td>спортивное питание, медицина, красота</td>\n",
       "      <td>0</td>\n",
       "    </tr>\n",
       "    <tr>\n",
       "      <th>761570</th>\n",
       "      <td>15885</td>\n",
       "      <td>1.0</td>\n",
       "      <td>33</td>\n",
       "      <td>среднее</td>\n",
       "      <td>1190</td>\n",
       "      <td>0.4304</td>\n",
       "      <td>Тренажер гироскопический KETTLER</td>\n",
       "      <td>голубой</td>\n",
       "      <td>1799</td>\n",
       "      <td>3</td>\n",
       "      <td>0</td>\n",
       "      <td>52</td>\n",
       "      <td>[голубой]</td>\n",
       "      <td>тренажеры</td>\n",
       "      <td>0</td>\n",
       "    </tr>\n",
       "  </tbody>\n",
       "</table>\n",
       "<p>761571 rows × 15 columns</p>\n",
       "</div>"
      ],
      "text/plain": [
       "           id  gender  age education  city  personal_coef  \\\n",
       "0           0     0.0   36   среднее  1201         0.5072   \n",
       "1           0     0.0   36   среднее  1201         0.5072   \n",
       "2           0     0.0   36   среднее  1201         0.5072   \n",
       "3           4     0.0   35   среднее  1134         0.5072   \n",
       "4           4     0.0   35   среднее  1134         0.5072   \n",
       "...       ...     ...  ...       ...   ...            ...   \n",
       "761566  15885     1.0   33   среднее  1190         0.4304   \n",
       "761567  15885     1.0   33   среднее  1190         0.4304   \n",
       "761568  15885     1.0   33   среднее  1190         0.4304   \n",
       "761569  15885     1.0   33   среднее  1190         0.4304   \n",
       "761570  15885     1.0   33   среднее  1190         0.4304   \n",
       "\n",
       "                                            product           colour   cost  \\\n",
       "0       Велосипед горный женский Stern Mira 2.0 26\"      белый/синий  13599   \n",
       "1                                   Стол Outventure          зелёный   1499   \n",
       "2                  Набор Outventure: стол + 4 стула          бежевый   4799   \n",
       "3        Роликовые коньки детские Roces Orlando III   черный/розовый   9199   \n",
       "4                                 Шлем FILA NRK FUN            белый   4999   \n",
       "...                                             ...              ...    ...   \n",
       "761566                      Поло мужское Outventure            синий   1599   \n",
       "761567        Майка мужская Babolat Complete Muscle  оранжевый/синий   3899   \n",
       "761568              Майка мужская Protest Prtihiaka      белый/принт   1679   \n",
       "761569                               Массажер Demix    темно-зелёный    399   \n",
       "761570             Тренажер гироскопический KETTLER          голубой   1799   \n",
       "\n",
       "        product_sex  base_sale  dt   normalized_colour  \\\n",
       "0                 0          1   7      [белый, синий]   \n",
       "1                 3          0  37           [зеленый]   \n",
       "2                 3          0  37           [бежевый]   \n",
       "3                 2          0   0   [черный, розовый]   \n",
       "4                 3          0   0             [белый]   \n",
       "...             ...        ...  ..                 ...   \n",
       "761566            1          0  24             [синий]   \n",
       "761567            1          0  24  [оранжевый, синий]   \n",
       "761568            1          1  49     [белый, другой]   \n",
       "761569            3          0  52           [зеленый]   \n",
       "761570            3          0  52           [голубой]   \n",
       "\n",
       "                             product_category  cluster  \n",
       "0                                   транспорт        0  \n",
       "1                    туристические аксессуары        0  \n",
       "2                    туристические аксессуары        0  \n",
       "3                                   транспорт        0  \n",
       "4                       аксессуары для спорта        0  \n",
       "...                                       ...      ...  \n",
       "761566                                 одежда        0  \n",
       "761567                                 одежда        0  \n",
       "761568                                 одежда        0  \n",
       "761569  спортивное питание, медицина, красота        0  \n",
       "761570                              тренажеры        0  \n",
       "\n",
       "[761571 rows x 15 columns]"
      ]
     },
     "execution_count": 143,
     "metadata": {},
     "output_type": "execute_result"
    }
   ],
   "source": [
    "df"
   ]
  },
  {
   "cell_type": "code",
   "execution_count": 144,
   "id": "c1113095",
   "metadata": {},
   "outputs": [],
   "source": [
    "top_categories = df.groupby(['cluster', 'product_category']).size().groupby(level=0).nlargest(5).reset_index(level=0, drop=True).reset_index(name='count')"
   ]
  },
  {
   "cell_type": "code",
   "execution_count": 145,
   "id": "5795cd2d",
   "metadata": {},
   "outputs": [
    {
     "data": {
      "text/html": [
       "<div>\n",
       "<style scoped>\n",
       "    .dataframe tbody tr th:only-of-type {\n",
       "        vertical-align: middle;\n",
       "    }\n",
       "\n",
       "    .dataframe tbody tr th {\n",
       "        vertical-align: top;\n",
       "    }\n",
       "\n",
       "    .dataframe thead th {\n",
       "        text-align: right;\n",
       "    }\n",
       "</style>\n",
       "<table border=\"1\" class=\"dataframe\">\n",
       "  <thead>\n",
       "    <tr style=\"text-align: right;\">\n",
       "      <th></th>\n",
       "      <th>cluster</th>\n",
       "      <th>product_category</th>\n",
       "      <th>count</th>\n",
       "    </tr>\n",
       "  </thead>\n",
       "  <tbody>\n",
       "    <tr>\n",
       "      <th>0</th>\n",
       "      <td>0</td>\n",
       "      <td>обувь</td>\n",
       "      <td>71282</td>\n",
       "    </tr>\n",
       "    <tr>\n",
       "      <th>1</th>\n",
       "      <td>0</td>\n",
       "      <td>одежда</td>\n",
       "      <td>66284</td>\n",
       "    </tr>\n",
       "    <tr>\n",
       "      <th>2</th>\n",
       "      <td>0</td>\n",
       "      <td>аксессуары</td>\n",
       "      <td>15376</td>\n",
       "    </tr>\n",
       "    <tr>\n",
       "      <th>3</th>\n",
       "      <td>0</td>\n",
       "      <td>туристические аксессуары</td>\n",
       "      <td>13322</td>\n",
       "    </tr>\n",
       "    <tr>\n",
       "      <th>4</th>\n",
       "      <td>0</td>\n",
       "      <td>рюкзаки и сумки</td>\n",
       "      <td>10407</td>\n",
       "    </tr>\n",
       "    <tr>\n",
       "      <th>5</th>\n",
       "      <td>1</td>\n",
       "      <td>одежда</td>\n",
       "      <td>94007</td>\n",
       "    </tr>\n",
       "    <tr>\n",
       "      <th>6</th>\n",
       "      <td>1</td>\n",
       "      <td>обувь</td>\n",
       "      <td>88028</td>\n",
       "    </tr>\n",
       "    <tr>\n",
       "      <th>7</th>\n",
       "      <td>1</td>\n",
       "      <td>аксессуары</td>\n",
       "      <td>17460</td>\n",
       "    </tr>\n",
       "    <tr>\n",
       "      <th>8</th>\n",
       "      <td>1</td>\n",
       "      <td>туристические аксессуары</td>\n",
       "      <td>11222</td>\n",
       "    </tr>\n",
       "    <tr>\n",
       "      <th>9</th>\n",
       "      <td>1</td>\n",
       "      <td>рюкзаки и сумки</td>\n",
       "      <td>10248</td>\n",
       "    </tr>\n",
       "    <tr>\n",
       "      <th>10</th>\n",
       "      <td>2</td>\n",
       "      <td>одежда</td>\n",
       "      <td>104167</td>\n",
       "    </tr>\n",
       "    <tr>\n",
       "      <th>11</th>\n",
       "      <td>2</td>\n",
       "      <td>обувь</td>\n",
       "      <td>69441</td>\n",
       "    </tr>\n",
       "    <tr>\n",
       "      <th>12</th>\n",
       "      <td>2</td>\n",
       "      <td>аксессуары</td>\n",
       "      <td>19195</td>\n",
       "    </tr>\n",
       "    <tr>\n",
       "      <th>13</th>\n",
       "      <td>2</td>\n",
       "      <td>туристические аксессуары</td>\n",
       "      <td>13429</td>\n",
       "    </tr>\n",
       "    <tr>\n",
       "      <th>14</th>\n",
       "      <td>2</td>\n",
       "      <td>рюкзаки и сумки</td>\n",
       "      <td>11746</td>\n",
       "    </tr>\n",
       "    <tr>\n",
       "      <th>15</th>\n",
       "      <td>3</td>\n",
       "      <td>одежда</td>\n",
       "      <td>28990</td>\n",
       "    </tr>\n",
       "    <tr>\n",
       "      <th>16</th>\n",
       "      <td>3</td>\n",
       "      <td>обувь</td>\n",
       "      <td>15144</td>\n",
       "    </tr>\n",
       "    <tr>\n",
       "      <th>17</th>\n",
       "      <td>3</td>\n",
       "      <td>аксессуары</td>\n",
       "      <td>5123</td>\n",
       "    </tr>\n",
       "    <tr>\n",
       "      <th>18</th>\n",
       "      <td>3</td>\n",
       "      <td>туристические аксессуары</td>\n",
       "      <td>3076</td>\n",
       "    </tr>\n",
       "    <tr>\n",
       "      <th>19</th>\n",
       "      <td>3</td>\n",
       "      <td>транспорт</td>\n",
       "      <td>2791</td>\n",
       "    </tr>\n",
       "  </tbody>\n",
       "</table>\n",
       "</div>"
      ],
      "text/plain": [
       "    cluster          product_category   count\n",
       "0         0                     обувь   71282\n",
       "1         0                    одежда   66284\n",
       "2         0                аксессуары   15376\n",
       "3         0  туристические аксессуары   13322\n",
       "4         0           рюкзаки и сумки   10407\n",
       "5         1                    одежда   94007\n",
       "6         1                     обувь   88028\n",
       "7         1                аксессуары   17460\n",
       "8         1  туристические аксессуары   11222\n",
       "9         1           рюкзаки и сумки   10248\n",
       "10        2                    одежда  104167\n",
       "11        2                     обувь   69441\n",
       "12        2                аксессуары   19195\n",
       "13        2  туристические аксессуары   13429\n",
       "14        2           рюкзаки и сумки   11746\n",
       "15        3                    одежда   28990\n",
       "16        3                     обувь   15144\n",
       "17        3                аксессуары    5123\n",
       "18        3  туристические аксессуары    3076\n",
       "19        3                 транспорт    2791"
      ]
     },
     "execution_count": 145,
     "metadata": {},
     "output_type": "execute_result"
    }
   ],
   "source": [
    "top_categories"
   ]
  },
  {
   "cell_type": "code",
   "execution_count": 150,
   "id": "a2a926a5",
   "metadata": {},
   "outputs": [
    {
     "data": {
      "image/png": "[encoded data removed]",
      "text/plain": [
       "<Figure size 1000x600 with 1 Axes>"
      ]
     },
     "metadata": {},
     "output_type": "display_data"
    }
   ],
   "source": [
    "plt.figure(figsize=(10, 6))\n",
    "sns.countplot(data=df, x='product_category', hue='cluster',\n",
    "             order=df['product_category'].value_counts().index)\n",
    "plt.title('Распределение категорий товаров по кластерам')\n",
    "plt.xticks(rotation=45)\n",
    "plt.tight_layout()\n",
    "plt.show()"
   ]
  },
  {
   "cell_type": "markdown",
   "id": "8ae157a3",
   "metadata": {},
   "source": [
    "В качестве рекомендаций можно предложить:\\\n",
    "Для 1 кластера: скидки на вторую пару обуви, комплекты «обувь и уходовые аксессуары», акцент на мужские коллекции обуви.\\\n",
    "Для 2 кластера: скидки на базовый гардероб, наборы «платье и сумка», рассылка о новых коллекциях одежды.\\\n",
    "Для 3 кластера: бонусы за частые покупки, рекомендации «полный образ» (одежда, обувь и аксессуары), ранний доступ к новинкам.\\\n",
    "Для 4 кластера: скидки на крупные заказы, доступ к эксклюзивным коллекциям, подарки из категории велозапчасти при покупке транспорта."
   ]
  },
  {
   "cell_type": "markdown",
   "id": "d06e1235",
   "metadata": {},
   "source": [
    "# Построение модели склонности клиента к покупке"
   ]
  },
  {
   "cell_type": "code",
   "execution_count": 151,
   "id": "723fcb2f",
   "metadata": {},
   "outputs": [],
   "source": [
    "df_city = df[df['city'] == 1188]\n",
    "df_city = pd.merge(df_city, df_cluster[['id', 'avg_purchase_amount', 'discount_sensitivity']], on = 'id', how = 'left')"
   ]
  },
  {
   "cell_type": "markdown",
   "id": "197ec51b",
   "metadata": {},
   "source": [
    "## Модель склонности клиента к покупке аксессуаров для спорта"
   ]
  },
  {
   "cell_type": "code",
   "execution_count": 153,
   "id": "2196fee0",
   "metadata": {},
   "outputs": [],
   "source": [
    "target_category = 'аксессуары для спорта'\n",
    "df_city['target'] = (df_city['product_category'] == target_category).astype(int)"
   ]
  },
  {
   "cell_type": "code",
   "execution_count": 154,
   "id": "0fc97909",
   "metadata": {},
   "outputs": [
    {
     "data": {
      "text/plain": [
       "(1247, 18)"
      ]
     },
     "execution_count": 154,
     "metadata": {},
     "output_type": "execute_result"
    }
   ],
   "source": [
    "df_city[df_city['target'] == 1].shape"
   ]
  },
  {
   "cell_type": "code",
   "execution_count": 155,
   "id": "ac5e8f14",
   "metadata": {},
   "outputs": [],
   "source": [
    "mlb = MultiLabelBinarizer()\n",
    "colour_encoded = pd.DataFrame(\n",
    "    mlb.fit_transform(df_city['normalized_colour']),\n",
    "    columns=mlb.classes_,\n",
    "    index=df_city.index\n",
    ")"
   ]
  },
  {
   "cell_type": "code",
   "execution_count": 156,
   "id": "c8829254",
   "metadata": {},
   "outputs": [],
   "source": [
    "education_encoded = df_city['education'].map({'среднее': 0, 'высшее': 1})"
   ]
  },
  {
   "cell_type": "code",
   "execution_count": 157,
   "id": "112eea88",
   "metadata": {},
   "outputs": [],
   "source": [
    "df_processed = pd.concat([\n",
    "    df_city.drop(columns=['colour', 'normalized_colour', 'product', 'product_category', 'education', 'city', 'dt']),\n",
    "    colour_encoded,\n",
    "    education_encoded\n",
    "], axis=1)"
   ]
  },
  {
   "cell_type": "code",
   "execution_count": 158,
   "id": "8adc4809",
   "metadata": {},
   "outputs": [],
   "source": [
    "X = df_processed.drop(columns=['target', 'id'])\n",
    "y = df_processed['target']"
   ]
  },
  {
   "cell_type": "code",
   "execution_count": 159,
   "id": "1be649fc",
   "metadata": {},
   "outputs": [],
   "source": [
    "numeric_features = ['age', 'cost', 'avg_purchase_amount']\n",
    "categorical_features = ['gender', 'product_sex', 'base_sale', 'cluster']"
   ]
  },
  {
   "cell_type": "code",
   "execution_count": 160,
   "id": "b071f429",
   "metadata": {},
   "outputs": [],
   "source": [
    "preprocessor = ColumnTransformer(\n",
    "    transformers=[\n",
    "        ('num', StandardScaler(), numeric_features),\n",
    "        ('cat', OneHotEncoder(sparse_output=False, handle_unknown='ignore'), categorical_features)\n",
    "    ],\n",
    "    remainder='passthrough'\n",
    ")"
   ]
  },
  {
   "cell_type": "code",
   "execution_count": 161,
   "id": "2c6762a0",
   "metadata": {},
   "outputs": [],
   "source": [
    "model = Pipeline([\n",
    "    ('preprocessor', preprocessor),\n",
    "    ('classifier', RandomForestClassifier(\n",
    "        n_estimators=200,\n",
    "        max_depth=10,\n",
    "        min_samples_split=15,\n",
    "        random_state=42,\n",
    "        class_weight='balanced'\n",
    "    ))\n",
    "])"
   ]
  },
  {
   "cell_type": "code",
   "execution_count": 162,
   "id": "b74bd071",
   "metadata": {},
   "outputs": [],
   "source": [
    "X_train, X_test, y_train, y_test = train_test_split(\n",
    "    X, y, test_size=0.2, random_state=42)"
   ]
  },
  {
   "cell_type": "code",
   "execution_count": 163,
   "id": "9c8f485e",
   "metadata": {},
   "outputs": [
    {
     "data": {
      "text/html": [
       "<style>#sk-container-id-3 {color: black;}#sk-container-id-3 pre{padding: 0;}#sk-container-id-3 div.sk-toggleable {background-color: white;}#sk-container-id-3 label.sk-toggleable__label {cursor: pointer;display: block;width: 100%;margin-bottom: 0;padding: 0.3em;box-sizing: border-box;text-align: center;}#sk-container-id-3 label.sk-toggleable__label-arrow:before {content: \"▸\";float: left;margin-right: 0.25em;color: #696969;}#sk-container-id-3 label.sk-toggleable__label-arrow:hover:before {color: black;}#sk-container-id-3 div.sk-estimator:hover label.sk-toggleable__label-arrow:before {color: black;}#sk-container-id-3 div.sk-toggleable__content {max-height: 0;max-width: 0;overflow: hidden;text-align: left;background-color: #f0f8ff;}#sk-container-id-3 div.sk-toggleable__content pre {margin: 0.2em;color: black;border-radius: 0.25em;background-color: #f0f8ff;}#sk-container-id-3 input.sk-toggleable__control:checked~div.sk-toggleable__content {max-height: 200px;max-width: 100%;overflow: auto;}#sk-container-id-3 input.sk-toggleable__control:checked~label.sk-toggleable__label-arrow:before {content: \"▾\";}#sk-container-id-3 div.sk-estimator input.sk-toggleable__control:checked~label.sk-toggleable__label {background-color: #d4ebff;}#sk-container-id-3 div.sk-label input.sk-toggleable__control:checked~label.sk-toggleable__label {background-color: #d4ebff;}#sk-container-id-3 input.sk-hidden--visually {border: 0;clip: rect(1px 1px 1px 1px);clip: rect(1px, 1px, 1px, 1px);height: 1px;margin: -1px;overflow: hidden;padding: 0;position: absolute;width: 1px;}#sk-container-id-3 div.sk-estimator {font-family: monospace;background-color: #f0f8ff;border: 1px dotted black;border-radius: 0.25em;box-sizing: border-box;margin-bottom: 0.5em;}#sk-container-id-3 div.sk-estimator:hover {background-color: #d4ebff;}#sk-container-id-3 div.sk-parallel-item::after {content: \"\";width: 100%;border-bottom: 1px solid gray;flex-grow: 1;}#sk-container-id-3 div.sk-label:hover label.sk-toggleable__label {background-color: #d4ebff;}#sk-container-id-3 div.sk-serial::before {content: \"\";position: absolute;border-left: 1px solid gray;box-sizing: border-box;top: 0;bottom: 0;left: 50%;z-index: 0;}#sk-container-id-3 div.sk-serial {display: flex;flex-direction: column;align-items: center;background-color: white;padding-right: 0.2em;padding-left: 0.2em;position: relative;}#sk-container-id-3 div.sk-item {position: relative;z-index: 1;}#sk-container-id-3 div.sk-parallel {display: flex;align-items: stretch;justify-content: center;background-color: white;position: relative;}#sk-container-id-3 div.sk-item::before, #sk-container-id-3 div.sk-parallel-item::before {content: \"\";position: absolute;border-left: 1px solid gray;box-sizing: border-box;top: 0;bottom: 0;left: 50%;z-index: -1;}#sk-container-id-3 div.sk-parallel-item {display: flex;flex-direction: column;z-index: 1;position: relative;background-color: white;}#sk-container-id-3 div.sk-parallel-item:first-child::after {align-self: flex-end;width: 50%;}#sk-container-id-3 div.sk-parallel-item:last-child::after {align-self: flex-start;width: 50%;}#sk-container-id-3 div.sk-parallel-item:only-child::after {width: 0;}#sk-container-id-3 div.sk-dashed-wrapped {border: 1px dashed gray;margin: 0 0.4em 0.5em 0.4em;box-sizing: border-box;padding-bottom: 0.4em;background-color: white;}#sk-container-id-3 div.sk-label label {font-family: monospace;font-weight: bold;display: inline-block;line-height: 1.2em;}#sk-container-id-3 div.sk-label-container {text-align: center;}#sk-container-id-3 div.sk-container {/* jupyter's `normalize.less` sets `[hidden] { display: none; }` but bootstrap.min.css set `[hidden] { display: none !important; }` so we also need the `!important` here to be able to override the default hidden behavior on the sphinx rendered scikit-learn.org. See: https://github.com/scikit-learn/scikit-learn/issues/21755 */display: inline-block !important;position: relative;}#sk-container-id-3 div.sk-text-repr-fallback {display: none;}</style><div id=\"sk-container-id-3\" class=\"sk-top-container\"><div class=\"sk-text-repr-fallback\"><pre>Pipeline(steps=[(&#x27;preprocessor&#x27;,\n",
       "                 ColumnTransformer(remainder=&#x27;passthrough&#x27;,\n",
       "                                   transformers=[(&#x27;num&#x27;, StandardScaler(),\n",
       "                                                  [&#x27;age&#x27;, &#x27;cost&#x27;,\n",
       "                                                   &#x27;avg_purchase_amount&#x27;]),\n",
       "                                                 (&#x27;cat&#x27;,\n",
       "                                                  OneHotEncoder(handle_unknown=&#x27;ignore&#x27;,\n",
       "                                                                sparse_output=False),\n",
       "                                                  [&#x27;gender&#x27;, &#x27;product_sex&#x27;,\n",
       "                                                   &#x27;base_sale&#x27;, &#x27;cluster&#x27;])])),\n",
       "                (&#x27;classifier&#x27;,\n",
       "                 RandomForestClassifier(class_weight=&#x27;balanced&#x27;, max_depth=10,\n",
       "                                        min_samples_split=15, n_estimators=200,\n",
       "                                        random_state=42))])</pre><b>In a Jupyter environment, please rerun this cell to show the HTML representation or trust the notebook. <br />On GitHub, the HTML representation is unable to render, please try loading this page with nbviewer.org.</b></div><div class=\"sk-container\" hidden><div class=\"sk-item sk-dashed-wrapped\"><div class=\"sk-label-container\"><div class=\"sk-label sk-toggleable\"><input class=\"sk-toggleable__control sk-hidden--visually\" id=\"sk-estimator-id-15\" type=\"checkbox\" ><label for=\"sk-estimator-id-15\" class=\"sk-toggleable__label sk-toggleable__label-arrow\">Pipeline</label><div class=\"sk-toggleable__content\"><pre>Pipeline(steps=[(&#x27;preprocessor&#x27;,\n",
       "                 ColumnTransformer(remainder=&#x27;passthrough&#x27;,\n",
       "                                   transformers=[(&#x27;num&#x27;, StandardScaler(),\n",
       "                                                  [&#x27;age&#x27;, &#x27;cost&#x27;,\n",
       "                                                   &#x27;avg_purchase_amount&#x27;]),\n",
       "                                                 (&#x27;cat&#x27;,\n",
       "                                                  OneHotEncoder(handle_unknown=&#x27;ignore&#x27;,\n",
       "                                                                sparse_output=False),\n",
       "                                                  [&#x27;gender&#x27;, &#x27;product_sex&#x27;,\n",
       "                                                   &#x27;base_sale&#x27;, &#x27;cluster&#x27;])])),\n",
       "                (&#x27;classifier&#x27;,\n",
       "                 RandomForestClassifier(class_weight=&#x27;balanced&#x27;, max_depth=10,\n",
       "                                        min_samples_split=15, n_estimators=200,\n",
       "                                        random_state=42))])</pre></div></div></div><div class=\"sk-serial\"><div class=\"sk-item sk-dashed-wrapped\"><div class=\"sk-label-container\"><div class=\"sk-label sk-toggleable\"><input class=\"sk-toggleable__control sk-hidden--visually\" id=\"sk-estimator-id-16\" type=\"checkbox\" ><label for=\"sk-estimator-id-16\" class=\"sk-toggleable__label sk-toggleable__label-arrow\">preprocessor: ColumnTransformer</label><div class=\"sk-toggleable__content\"><pre>ColumnTransformer(remainder=&#x27;passthrough&#x27;,\n",
       "                  transformers=[(&#x27;num&#x27;, StandardScaler(),\n",
       "                                 [&#x27;age&#x27;, &#x27;cost&#x27;, &#x27;avg_purchase_amount&#x27;]),\n",
       "                                (&#x27;cat&#x27;,\n",
       "                                 OneHotEncoder(handle_unknown=&#x27;ignore&#x27;,\n",
       "                                               sparse_output=False),\n",
       "                                 [&#x27;gender&#x27;, &#x27;product_sex&#x27;, &#x27;base_sale&#x27;,\n",
       "                                  &#x27;cluster&#x27;])])</pre></div></div></div><div class=\"sk-parallel\"><div class=\"sk-parallel-item\"><div class=\"sk-item\"><div class=\"sk-label-container\"><div class=\"sk-label sk-toggleable\"><input class=\"sk-toggleable__control sk-hidden--visually\" id=\"sk-estimator-id-17\" type=\"checkbox\" ><label for=\"sk-estimator-id-17\" class=\"sk-toggleable__label sk-toggleable__label-arrow\">num</label><div class=\"sk-toggleable__content\"><pre>[&#x27;age&#x27;, &#x27;cost&#x27;, &#x27;avg_purchase_amount&#x27;]</pre></div></div></div><div class=\"sk-serial\"><div class=\"sk-item\"><div class=\"sk-estimator sk-toggleable\"><input class=\"sk-toggleable__control sk-hidden--visually\" id=\"sk-estimator-id-18\" type=\"checkbox\" ><label for=\"sk-estimator-id-18\" class=\"sk-toggleable__label sk-toggleable__label-arrow\">StandardScaler</label><div class=\"sk-toggleable__content\"><pre>StandardScaler()</pre></div></div></div></div></div></div><div class=\"sk-parallel-item\"><div class=\"sk-item\"><div class=\"sk-label-container\"><div class=\"sk-label sk-toggleable\"><input class=\"sk-toggleable__control sk-hidden--visually\" id=\"sk-estimator-id-19\" type=\"checkbox\" ><label for=\"sk-estimator-id-19\" class=\"sk-toggleable__label sk-toggleable__label-arrow\">cat</label><div class=\"sk-toggleable__content\"><pre>[&#x27;gender&#x27;, &#x27;product_sex&#x27;, &#x27;base_sale&#x27;, &#x27;cluster&#x27;]</pre></div></div></div><div class=\"sk-serial\"><div class=\"sk-item\"><div class=\"sk-estimator sk-toggleable\"><input class=\"sk-toggleable__control sk-hidden--visually\" id=\"sk-estimator-id-20\" type=\"checkbox\" ><label for=\"sk-estimator-id-20\" class=\"sk-toggleable__label sk-toggleable__label-arrow\">OneHotEncoder</label><div class=\"sk-toggleable__content\"><pre>OneHotEncoder(handle_unknown=&#x27;ignore&#x27;, sparse_output=False)</pre></div></div></div></div></div></div><div class=\"sk-parallel-item\"><div class=\"sk-item\"><div class=\"sk-label-container\"><div class=\"sk-label sk-toggleable\"><input class=\"sk-toggleable__control sk-hidden--visually\" id=\"sk-estimator-id-21\" type=\"checkbox\" ><label for=\"sk-estimator-id-21\" class=\"sk-toggleable__label sk-toggleable__label-arrow\">remainder</label><div class=\"sk-toggleable__content\"><pre>[&#x27;personal_coef&#x27;, &#x27;discount_sensitivity&#x27;, &#x27;бежевый&#x27;, &#x27;белый&#x27;, &#x27;голубой&#x27;, &#x27;другой&#x27;, &#x27;желтый&#x27;, &#x27;зеленый&#x27;, &#x27;коричневый&#x27;, &#x27;красный&#x27;, &#x27;милитари&#x27;, &#x27;мультицвет&#x27;, &#x27;оранжевый&#x27;, &#x27;розовый&#x27;, &#x27;серый&#x27;, &#x27;синий&#x27;, &#x27;фиолетовый&#x27;, &#x27;черный&#x27;, &#x27;education&#x27;]</pre></div></div></div><div class=\"sk-serial\"><div class=\"sk-item\"><div class=\"sk-estimator sk-toggleable\"><input class=\"sk-toggleable__control sk-hidden--visually\" id=\"sk-estimator-id-22\" type=\"checkbox\" ><label for=\"sk-estimator-id-22\" class=\"sk-toggleable__label sk-toggleable__label-arrow\">passthrough</label><div class=\"sk-toggleable__content\"><pre>passthrough</pre></div></div></div></div></div></div></div></div><div class=\"sk-item\"><div class=\"sk-estimator sk-toggleable\"><input class=\"sk-toggleable__control sk-hidden--visually\" id=\"sk-estimator-id-23\" type=\"checkbox\" ><label for=\"sk-estimator-id-23\" class=\"sk-toggleable__label sk-toggleable__label-arrow\">RandomForestClassifier</label><div class=\"sk-toggleable__content\"><pre>RandomForestClassifier(class_weight=&#x27;balanced&#x27;, max_depth=10,\n",
       "                       min_samples_split=15, n_estimators=200, random_state=42)</pre></div></div></div></div></div></div></div>"
      ],
      "text/plain": [
       "Pipeline(steps=[('preprocessor',\n",
       "                 ColumnTransformer(remainder='passthrough',\n",
       "                                   transformers=[('num', StandardScaler(),\n",
       "                                                  ['age', 'cost',\n",
       "                                                   'avg_purchase_amount']),\n",
       "                                                 ('cat',\n",
       "                                                  OneHotEncoder(handle_unknown='ignore',\n",
       "                                                                sparse_output=False),\n",
       "                                                  ['gender', 'product_sex',\n",
       "                                                   'base_sale', 'cluster'])])),\n",
       "                ('classifier',\n",
       "                 RandomForestClassifier(class_weight='balanced', max_depth=10,\n",
       "                                        min_samples_split=15, n_estimators=200,\n",
       "                                        random_state=42))])"
      ]
     },
     "execution_count": 163,
     "metadata": {},
     "output_type": "execute_result"
    }
   ],
   "source": [
    "model.fit(X_train, y_train)"
   ]
  },
  {
   "cell_type": "code",
   "execution_count": 164,
   "id": "dfaa5e26",
   "metadata": {},
   "outputs": [
    {
     "name": "stdout",
     "output_type": "stream",
     "text": [
      "              precision    recall  f1-score   support\n",
      "\n",
      "           0       1.00      0.81      0.89     17194\n",
      "           1       0.06      0.91      0.12       244\n",
      "\n",
      "    accuracy                           0.81     17438\n",
      "   macro avg       0.53      0.86      0.51     17438\n",
      "weighted avg       0.99      0.81      0.88     17438\n",
      "\n",
      "\n",
      "ROC-AUC Score: 0.8582137402105575\n"
     ]
    }
   ],
   "source": [
    "y_pred = model.predict(X_test)\n",
    "print(classification_report(y_test, y_pred))\n",
    "print('\\nROC-AUC Score:', roc_auc_score(y_test, y_pred))"
   ]
  },
  {
   "cell_type": "code",
   "execution_count": 165,
   "id": "f255dec1",
   "metadata": {},
   "outputs": [],
   "source": [
    "#from sklearn.model_selection import GridSearchCV\n",
    "#\n",
    "#param_grid = {\n",
    "#    'classifier__n_estimators': [50, 100, 200],\n",
    "#    'classifier__max_depth': [None, 10, 20],\n",
    "#    'classifier__min_samples_split': [2, 5, 10, 15],\n",
    "#    'classifier__random_state': [42],\n",
    "#    'classifier__class_weight': ['balanced']\n",
    "#}\n",
    "#\n",
    "#grid_search = GridSearchCV(model, param_grid, cv=3, scoring = 'recall')\n",
    "#grid_search.fit(X_train, y_train)\n",
    "#print(f'Лучшие параметры: {grid_search.best_params_}')"
   ]
  },
  {
   "cell_type": "markdown",
   "id": "34b68de5",
   "metadata": {},
   "source": [
    "Лучшие параметры: {'classifier__class_weight': 'balanced', 'classifier__max_depth': 10, 'classifier__min_samples_split': 15, 'classifier__n_estimators': 200, 'classifier__random_state': 42}"
   ]
  },
  {
   "cell_type": "code",
   "execution_count": 166,
   "id": "006d4510",
   "metadata": {},
   "outputs": [],
   "source": [
    "logistic_pipeline = Pipeline([\n",
    "    ('preprocessor', preprocessor),\n",
    "    ('classifier', LogisticRegression(\n",
    "        C=0.01,\n",
    "        penalty='l2',\n",
    "        random_state=42,\n",
    "        class_weight='balanced',\n",
    "        max_iter=1000,\n",
    "        solver='liblinear'\n",
    "    ))\n",
    "])"
   ]
  },
  {
   "cell_type": "code",
   "execution_count": 167,
   "id": "58972e84",
   "metadata": {},
   "outputs": [
    {
     "data": {
      "text/html": [
       "<style>#sk-container-id-4 {color: black;}#sk-container-id-4 pre{padding: 0;}#sk-container-id-4 div.sk-toggleable {background-color: white;}#sk-container-id-4 label.sk-toggleable__label {cursor: pointer;display: block;width: 100%;margin-bottom: 0;padding: 0.3em;box-sizing: border-box;text-align: center;}#sk-container-id-4 label.sk-toggleable__label-arrow:before {content: \"▸\";float: left;margin-right: 0.25em;color: #696969;}#sk-container-id-4 label.sk-toggleable__label-arrow:hover:before {color: black;}#sk-container-id-4 div.sk-estimator:hover label.sk-toggleable__label-arrow:before {color: black;}#sk-container-id-4 div.sk-toggleable__content {max-height: 0;max-width: 0;overflow: hidden;text-align: left;background-color: #f0f8ff;}#sk-container-id-4 div.sk-toggleable__content pre {margin: 0.2em;color: black;border-radius: 0.25em;background-color: #f0f8ff;}#sk-container-id-4 input.sk-toggleable__control:checked~div.sk-toggleable__content {max-height: 200px;max-width: 100%;overflow: auto;}#sk-container-id-4 input.sk-toggleable__control:checked~label.sk-toggleable__label-arrow:before {content: \"▾\";}#sk-container-id-4 div.sk-estimator input.sk-toggleable__control:checked~label.sk-toggleable__label {background-color: #d4ebff;}#sk-container-id-4 div.sk-label input.sk-toggleable__control:checked~label.sk-toggleable__label {background-color: #d4ebff;}#sk-container-id-4 input.sk-hidden--visually {border: 0;clip: rect(1px 1px 1px 1px);clip: rect(1px, 1px, 1px, 1px);height: 1px;margin: -1px;overflow: hidden;padding: 0;position: absolute;width: 1px;}#sk-container-id-4 div.sk-estimator {font-family: monospace;background-color: #f0f8ff;border: 1px dotted black;border-radius: 0.25em;box-sizing: border-box;margin-bottom: 0.5em;}#sk-container-id-4 div.sk-estimator:hover {background-color: #d4ebff;}#sk-container-id-4 div.sk-parallel-item::after {content: \"\";width: 100%;border-bottom: 1px solid gray;flex-grow: 1;}#sk-container-id-4 div.sk-label:hover label.sk-toggleable__label {background-color: #d4ebff;}#sk-container-id-4 div.sk-serial::before {content: \"\";position: absolute;border-left: 1px solid gray;box-sizing: border-box;top: 0;bottom: 0;left: 50%;z-index: 0;}#sk-container-id-4 div.sk-serial {display: flex;flex-direction: column;align-items: center;background-color: white;padding-right: 0.2em;padding-left: 0.2em;position: relative;}#sk-container-id-4 div.sk-item {position: relative;z-index: 1;}#sk-container-id-4 div.sk-parallel {display: flex;align-items: stretch;justify-content: center;background-color: white;position: relative;}#sk-container-id-4 div.sk-item::before, #sk-container-id-4 div.sk-parallel-item::before {content: \"\";position: absolute;border-left: 1px solid gray;box-sizing: border-box;top: 0;bottom: 0;left: 50%;z-index: -1;}#sk-container-id-4 div.sk-parallel-item {display: flex;flex-direction: column;z-index: 1;position: relative;background-color: white;}#sk-container-id-4 div.sk-parallel-item:first-child::after {align-self: flex-end;width: 50%;}#sk-container-id-4 div.sk-parallel-item:last-child::after {align-self: flex-start;width: 50%;}#sk-container-id-4 div.sk-parallel-item:only-child::after {width: 0;}#sk-container-id-4 div.sk-dashed-wrapped {border: 1px dashed gray;margin: 0 0.4em 0.5em 0.4em;box-sizing: border-box;padding-bottom: 0.4em;background-color: white;}#sk-container-id-4 div.sk-label label {font-family: monospace;font-weight: bold;display: inline-block;line-height: 1.2em;}#sk-container-id-4 div.sk-label-container {text-align: center;}#sk-container-id-4 div.sk-container {/* jupyter's `normalize.less` sets `[hidden] { display: none; }` but bootstrap.min.css set `[hidden] { display: none !important; }` so we also need the `!important` here to be able to override the default hidden behavior on the sphinx rendered scikit-learn.org. See: https://github.com/scikit-learn/scikit-learn/issues/21755 */display: inline-block !important;position: relative;}#sk-container-id-4 div.sk-text-repr-fallback {display: none;}</style><div id=\"sk-container-id-4\" class=\"sk-top-container\"><div class=\"sk-text-repr-fallback\"><pre>Pipeline(steps=[(&#x27;preprocessor&#x27;,\n",
       "                 ColumnTransformer(remainder=&#x27;passthrough&#x27;,\n",
       "                                   transformers=[(&#x27;num&#x27;, StandardScaler(),\n",
       "                                                  [&#x27;age&#x27;, &#x27;cost&#x27;,\n",
       "                                                   &#x27;avg_purchase_amount&#x27;]),\n",
       "                                                 (&#x27;cat&#x27;,\n",
       "                                                  OneHotEncoder(handle_unknown=&#x27;ignore&#x27;,\n",
       "                                                                sparse_output=False),\n",
       "                                                  [&#x27;gender&#x27;, &#x27;product_sex&#x27;,\n",
       "                                                   &#x27;base_sale&#x27;, &#x27;cluster&#x27;])])),\n",
       "                (&#x27;classifier&#x27;,\n",
       "                 LogisticRegression(C=0.01, class_weight=&#x27;balanced&#x27;,\n",
       "                                    max_iter=1000, random_state=42,\n",
       "                                    solver=&#x27;liblinear&#x27;))])</pre><b>In a Jupyter environment, please rerun this cell to show the HTML representation or trust the notebook. <br />On GitHub, the HTML representation is unable to render, please try loading this page with nbviewer.org.</b></div><div class=\"sk-container\" hidden><div class=\"sk-item sk-dashed-wrapped\"><div class=\"sk-label-container\"><div class=\"sk-label sk-toggleable\"><input class=\"sk-toggleable__control sk-hidden--visually\" id=\"sk-estimator-id-24\" type=\"checkbox\" ><label for=\"sk-estimator-id-24\" class=\"sk-toggleable__label sk-toggleable__label-arrow\">Pipeline</label><div class=\"sk-toggleable__content\"><pre>Pipeline(steps=[(&#x27;preprocessor&#x27;,\n",
       "                 ColumnTransformer(remainder=&#x27;passthrough&#x27;,\n",
       "                                   transformers=[(&#x27;num&#x27;, StandardScaler(),\n",
       "                                                  [&#x27;age&#x27;, &#x27;cost&#x27;,\n",
       "                                                   &#x27;avg_purchase_amount&#x27;]),\n",
       "                                                 (&#x27;cat&#x27;,\n",
       "                                                  OneHotEncoder(handle_unknown=&#x27;ignore&#x27;,\n",
       "                                                                sparse_output=False),\n",
       "                                                  [&#x27;gender&#x27;, &#x27;product_sex&#x27;,\n",
       "                                                   &#x27;base_sale&#x27;, &#x27;cluster&#x27;])])),\n",
       "                (&#x27;classifier&#x27;,\n",
       "                 LogisticRegression(C=0.01, class_weight=&#x27;balanced&#x27;,\n",
       "                                    max_iter=1000, random_state=42,\n",
       "                                    solver=&#x27;liblinear&#x27;))])</pre></div></div></div><div class=\"sk-serial\"><div class=\"sk-item sk-dashed-wrapped\"><div class=\"sk-label-container\"><div class=\"sk-label sk-toggleable\"><input class=\"sk-toggleable__control sk-hidden--visually\" id=\"sk-estimator-id-25\" type=\"checkbox\" ><label for=\"sk-estimator-id-25\" class=\"sk-toggleable__label sk-toggleable__label-arrow\">preprocessor: ColumnTransformer</label><div class=\"sk-toggleable__content\"><pre>ColumnTransformer(remainder=&#x27;passthrough&#x27;,\n",
       "                  transformers=[(&#x27;num&#x27;, StandardScaler(),\n",
       "                                 [&#x27;age&#x27;, &#x27;cost&#x27;, &#x27;avg_purchase_amount&#x27;]),\n",
       "                                (&#x27;cat&#x27;,\n",
       "                                 OneHotEncoder(handle_unknown=&#x27;ignore&#x27;,\n",
       "                                               sparse_output=False),\n",
       "                                 [&#x27;gender&#x27;, &#x27;product_sex&#x27;, &#x27;base_sale&#x27;,\n",
       "                                  &#x27;cluster&#x27;])])</pre></div></div></div><div class=\"sk-parallel\"><div class=\"sk-parallel-item\"><div class=\"sk-item\"><div class=\"sk-label-container\"><div class=\"sk-label sk-toggleable\"><input class=\"sk-toggleable__control sk-hidden--visually\" id=\"sk-estimator-id-26\" type=\"checkbox\" ><label for=\"sk-estimator-id-26\" class=\"sk-toggleable__label sk-toggleable__label-arrow\">num</label><div class=\"sk-toggleable__content\"><pre>[&#x27;age&#x27;, &#x27;cost&#x27;, &#x27;avg_purchase_amount&#x27;]</pre></div></div></div><div class=\"sk-serial\"><div class=\"sk-item\"><div class=\"sk-estimator sk-toggleable\"><input class=\"sk-toggleable__control sk-hidden--visually\" id=\"sk-estimator-id-27\" type=\"checkbox\" ><label for=\"sk-estimator-id-27\" class=\"sk-toggleable__label sk-toggleable__label-arrow\">StandardScaler</label><div class=\"sk-toggleable__content\"><pre>StandardScaler()</pre></div></div></div></div></div></div><div class=\"sk-parallel-item\"><div class=\"sk-item\"><div class=\"sk-label-container\"><div class=\"sk-label sk-toggleable\"><input class=\"sk-toggleable__control sk-hidden--visually\" id=\"sk-estimator-id-28\" type=\"checkbox\" ><label for=\"sk-estimator-id-28\" class=\"sk-toggleable__label sk-toggleable__label-arrow\">cat</label><div class=\"sk-toggleable__content\"><pre>[&#x27;gender&#x27;, &#x27;product_sex&#x27;, &#x27;base_sale&#x27;, &#x27;cluster&#x27;]</pre></div></div></div><div class=\"sk-serial\"><div class=\"sk-item\"><div class=\"sk-estimator sk-toggleable\"><input class=\"sk-toggleable__control sk-hidden--visually\" id=\"sk-estimator-id-29\" type=\"checkbox\" ><label for=\"sk-estimator-id-29\" class=\"sk-toggleable__label sk-toggleable__label-arrow\">OneHotEncoder</label><div class=\"sk-toggleable__content\"><pre>OneHotEncoder(handle_unknown=&#x27;ignore&#x27;, sparse_output=False)</pre></div></div></div></div></div></div><div class=\"sk-parallel-item\"><div class=\"sk-item\"><div class=\"sk-label-container\"><div class=\"sk-label sk-toggleable\"><input class=\"sk-toggleable__control sk-hidden--visually\" id=\"sk-estimator-id-30\" type=\"checkbox\" ><label for=\"sk-estimator-id-30\" class=\"sk-toggleable__label sk-toggleable__label-arrow\">remainder</label><div class=\"sk-toggleable__content\"><pre>[&#x27;personal_coef&#x27;, &#x27;discount_sensitivity&#x27;, &#x27;бежевый&#x27;, &#x27;белый&#x27;, &#x27;голубой&#x27;, &#x27;другой&#x27;, &#x27;желтый&#x27;, &#x27;зеленый&#x27;, &#x27;коричневый&#x27;, &#x27;красный&#x27;, &#x27;милитари&#x27;, &#x27;мультицвет&#x27;, &#x27;оранжевый&#x27;, &#x27;розовый&#x27;, &#x27;серый&#x27;, &#x27;синий&#x27;, &#x27;фиолетовый&#x27;, &#x27;черный&#x27;, &#x27;education&#x27;]</pre></div></div></div><div class=\"sk-serial\"><div class=\"sk-item\"><div class=\"sk-estimator sk-toggleable\"><input class=\"sk-toggleable__control sk-hidden--visually\" id=\"sk-estimator-id-31\" type=\"checkbox\" ><label for=\"sk-estimator-id-31\" class=\"sk-toggleable__label sk-toggleable__label-arrow\">passthrough</label><div class=\"sk-toggleable__content\"><pre>passthrough</pre></div></div></div></div></div></div></div></div><div class=\"sk-item\"><div class=\"sk-estimator sk-toggleable\"><input class=\"sk-toggleable__control sk-hidden--visually\" id=\"sk-estimator-id-32\" type=\"checkbox\" ><label for=\"sk-estimator-id-32\" class=\"sk-toggleable__label sk-toggleable__label-arrow\">LogisticRegression</label><div class=\"sk-toggleable__content\"><pre>LogisticRegression(C=0.01, class_weight=&#x27;balanced&#x27;, max_iter=1000,\n",
       "                   random_state=42, solver=&#x27;liblinear&#x27;)</pre></div></div></div></div></div></div></div>"
      ],
      "text/plain": [
       "Pipeline(steps=[('preprocessor',\n",
       "                 ColumnTransformer(remainder='passthrough',\n",
       "                                   transformers=[('num', StandardScaler(),\n",
       "                                                  ['age', 'cost',\n",
       "                                                   'avg_purchase_amount']),\n",
       "                                                 ('cat',\n",
       "                                                  OneHotEncoder(handle_unknown='ignore',\n",
       "                                                                sparse_output=False),\n",
       "                                                  ['gender', 'product_sex',\n",
       "                                                   'base_sale', 'cluster'])])),\n",
       "                ('classifier',\n",
       "                 LogisticRegression(C=0.01, class_weight='balanced',\n",
       "                                    max_iter=1000, random_state=42,\n",
       "                                    solver='liblinear'))])"
      ]
     },
     "execution_count": 167,
     "metadata": {},
     "output_type": "execute_result"
    }
   ],
   "source": [
    "logistic_pipeline.fit(X_train, y_train)"
   ]
  },
  {
   "cell_type": "code",
   "execution_count": 168,
   "id": "266b5389",
   "metadata": {},
   "outputs": [],
   "source": [
    "y_pred_logistic = logistic_pipeline.predict(X_test)\n",
    "y_proba_logistic = logistic_pipeline.predict_proba(X_test)[:, 1]"
   ]
  },
  {
   "cell_type": "code",
   "execution_count": 169,
   "id": "33ee2994",
   "metadata": {},
   "outputs": [
    {
     "name": "stdout",
     "output_type": "stream",
     "text": [
      "Logistic Regression Classification Report:\n",
      "              precision    recall  f1-score   support\n",
      "\n",
      "           0       1.00      0.75      0.86     17194\n",
      "           1       0.05      0.93      0.10       244\n",
      "\n",
      "    accuracy                           0.75     17438\n",
      "   macro avg       0.52      0.84      0.48     17438\n",
      "weighted avg       0.99      0.75      0.85     17438\n",
      "\n",
      "\n",
      "ROC-AUC Score: 0.8908056470328002\n"
     ]
    }
   ],
   "source": [
    "print('Logistic Regression Classification Report:')\n",
    "print(classification_report(y_test, y_pred_logistic))\n",
    "print('\\nROC-AUC Score:', roc_auc_score(y_test, y_proba_logistic))"
   ]
  },
  {
   "cell_type": "code",
   "execution_count": 170,
   "id": "6881a77e",
   "metadata": {},
   "outputs": [],
   "source": [
    "#param_grid = {\n",
    "#    'classifier__C': [0.01, 0.1, 1, 10],\n",
    "#    'classifier__penalty': ['l1', 'l2'],\n",
    "#    'classifier__random_state': [42],\n",
    "#    'classifier__class_weight': ['balanced'],\n",
    "#    'classifier__max_iter': [1000],\n",
    "#    'classifier__solver': ['liblinear', 'saga']\n",
    "#}\n",
    "\n",
    "#logistic_grid = GridSearchCV(logistic_pipeline, param_grid, cv=3, scoring = 'recall')\n",
    "#logistic_grid.fit(X_train, y_train)\n",
    "#print(f'Лучшие параметры: {logistic_grid.best_params_}')"
   ]
  },
  {
   "cell_type": "markdown",
   "id": "8db26bfb",
   "metadata": {},
   "source": [
    "Лучшие параметры: {'classifier__C': 10, 'classifier__class_weight': 'balanced', 'classifier__max_iter': 1000, 'classifier__penalty': 'l1', 'classifier__random_state': 42, 'classifier__solver': 'liblinear'}"
   ]
  },
  {
   "cell_type": "markdown",
   "id": "dc530615",
   "metadata": {},
   "source": [
    "Модель LogisticRegression верно предсказала класс 1 с большей долей, чем модель RandomForestClassifier, однако и было больше ошибочных предсказаний этого класса. То есть модель чаще прогнозирует класс «купит»."
   ]
  },
  {
   "cell_type": "markdown",
   "id": "74876dfe",
   "metadata": {},
   "source": [
    "## Модель склонности клиента к покупке аксессуаров"
   ]
  },
  {
   "cell_type": "code",
   "execution_count": 171,
   "id": "69b44031",
   "metadata": {},
   "outputs": [
    {
     "name": "stdout",
     "output_type": "stream",
     "text": [
      "(6674, 18)\n",
      "Logistic Regression Classification Report:\n",
      "              precision    recall  f1-score   support\n",
      "\n",
      "           0       0.98      0.79      0.88     16127\n",
      "           1       0.24      0.82      0.37      1311\n",
      "\n",
      "    accuracy                           0.79     17438\n",
      "   macro avg       0.61      0.81      0.63     17438\n",
      "weighted avg       0.93      0.79      0.84     17438\n",
      "\n",
      "\n",
      "ROC-AUC Score: 0.8662517487882344\n"
     ]
    }
   ],
   "source": [
    "target_category = 'аксессуары'\n",
    "df_city['target'] = (df_city['product_category'] == target_category).astype(int)\n",
    "\n",
    "print(df_city[df_city['target'] == 1].shape)\n",
    "\n",
    "df_processed = pd.concat([\n",
    "    df_city.drop(columns=['colour', 'normalized_colour', 'product', 'product_category', 'education', 'city']),\n",
    "    colour_encoded,\n",
    "    education_encoded\n",
    "], axis=1)\n",
    "\n",
    "X = df_processed.drop(columns=['target', 'id'])\n",
    "y = df_processed['target']\n",
    "\n",
    "X_train, X_test, y_train, y_test = train_test_split(\n",
    "    X, y, test_size=0.2, random_state=42)\n",
    "\n",
    "logistic_pipeline.fit(X_train, y_train)\n",
    "\n",
    "y_pred_logistic = logistic_pipeline.predict(X_test)\n",
    "y_proba_logistic = logistic_pipeline.predict_proba(X_test)[:, 1]\n",
    "\n",
    "print('Logistic Regression Classification Report:')\n",
    "print(classification_report(y_test, y_pred_logistic))\n",
    "print('\\nROC-AUC Score:', roc_auc_score(y_test, y_proba_logistic))"
   ]
  },
  {
   "cell_type": "code",
   "execution_count": 172,
   "id": "4dfdac22",
   "metadata": {},
   "outputs": [
    {
     "name": "stdout",
     "output_type": "stream",
     "text": [
      "              precision    recall  f1-score   support\n",
      "\n",
      "           0       0.99      0.79      0.88     16127\n",
      "           1       0.26      0.91      0.41      1311\n",
      "\n",
      "    accuracy                           0.80     17438\n",
      "   macro avg       0.63      0.85      0.65     17438\n",
      "weighted avg       0.94      0.80      0.85     17438\n",
      "\n",
      "\n",
      "ROC-AUC Score: 0.8502182831100793\n"
     ]
    }
   ],
   "source": [
    "model.fit(X_train, y_train)\n",
    "\n",
    "y_pred = model.predict(X_test)\n",
    "print(classification_report(y_test, y_pred))\n",
    "print('\\nROC-AUC Score:', roc_auc_score(y_test, y_pred))"
   ]
  },
  {
   "cell_type": "markdown",
   "id": "f0e8776a",
   "metadata": {},
   "source": [
    "## Модель склонности клиента к покупке туристических аксессуаров"
   ]
  },
  {
   "cell_type": "code",
   "execution_count": 173,
   "id": "266aafdb",
   "metadata": {},
   "outputs": [
    {
     "name": "stdout",
     "output_type": "stream",
     "text": [
      "(4803, 18)\n",
      "Logistic Regression Classification Report:\n",
      "              precision    recall  f1-score   support\n",
      "\n",
      "           0       1.00      0.76      0.87     16485\n",
      "           1       0.19      0.97      0.32       953\n",
      "\n",
      "    accuracy                           0.78     17438\n",
      "   macro avg       0.59      0.87      0.59     17438\n",
      "weighted avg       0.95      0.78      0.84     17438\n",
      "\n",
      "\n",
      "ROC-AUC Score: 0.9307804067483524\n"
     ]
    }
   ],
   "source": [
    "target_category = 'туристические аксессуары'\n",
    "df_city['target'] = (df_city['product_category'] == target_category).astype(int)\n",
    "\n",
    "print(df_city[df_city['target'] == 1].shape)\n",
    "\n",
    "df_processed = pd.concat([\n",
    "    df_city.drop(columns=['colour', 'normalized_colour', 'product', 'product_category', 'education', 'city']),\n",
    "    colour_encoded,\n",
    "    education_encoded\n",
    "], axis=1)\n",
    "\n",
    "X = df_processed.drop(columns=['target', 'id'])\n",
    "y = df_processed['target']\n",
    "\n",
    "X_train, X_test, y_train, y_test = train_test_split(\n",
    "    X, y, test_size=0.2, random_state=42)\n",
    "\n",
    "logistic_pipeline.fit(X_train, y_train)\n",
    "\n",
    "y_pred_logistic = logistic_pipeline.predict(X_test)\n",
    "y_proba_logistic = logistic_pipeline.predict_proba(X_test)[:, 1]\n",
    "\n",
    "print('Logistic Regression Classification Report:')\n",
    "print(classification_report(y_test, y_pred_logistic))\n",
    "print('\\nROC-AUC Score:', roc_auc_score(y_test, y_proba_logistic))"
   ]
  },
  {
   "cell_type": "code",
   "execution_count": 174,
   "id": "45005b29",
   "metadata": {},
   "outputs": [
    {
     "name": "stdout",
     "output_type": "stream",
     "text": [
      "              precision    recall  f1-score   support\n",
      "\n",
      "           0       1.00      0.79      0.88     16485\n",
      "           1       0.21      0.98      0.35       953\n",
      "\n",
      "    accuracy                           0.80     17438\n",
      "   macro avg       0.60      0.88      0.61     17438\n",
      "weighted avg       0.96      0.80      0.85     17438\n",
      "\n",
      "\n",
      "ROC-AUC Score: 0.8840047281369022\n"
     ]
    }
   ],
   "source": [
    "model.fit(X_train, y_train)\n",
    "\n",
    "y_pred = model.predict(X_test)\n",
    "print(classification_report(y_test, y_pred))\n",
    "print('\\nROC-AUC Score:', roc_auc_score(y_test, y_pred))"
   ]
  },
  {
   "cell_type": "markdown",
   "id": "7c276574",
   "metadata": {},
   "source": [
    "## Модель склонности клиента к покупке рюкзаков и сумок"
   ]
  },
  {
   "cell_type": "code",
   "execution_count": 175,
   "id": "556f24ca",
   "metadata": {},
   "outputs": [
    {
     "name": "stdout",
     "output_type": "stream",
     "text": [
      "(4113, 18)\n",
      "Logistic Regression Classification Report:\n",
      "              precision    recall  f1-score   support\n",
      "\n",
      "           0       1.00      0.78      0.87     16569\n",
      "           1       0.18      0.94      0.31       869\n",
      "\n",
      "    accuracy                           0.79     17438\n",
      "   macro avg       0.59      0.86      0.59     17438\n",
      "weighted avg       0.96      0.79      0.85     17438\n",
      "\n",
      "\n",
      "ROC-AUC Score: 0.9020254664717291\n"
     ]
    }
   ],
   "source": [
    "target_category = 'рюкзаки и сумки'\n",
    "df_city['target'] = (df_city['product_category'] == target_category).astype(int)\n",
    "\n",
    "print(df_city[df_city['target'] == 1].shape)\n",
    "\n",
    "df_processed = pd.concat([\n",
    "    df_city.drop(columns=['colour', 'normalized_colour', 'product', 'product_category', 'education', 'city']),\n",
    "    colour_encoded,\n",
    "    education_encoded\n",
    "], axis=1)\n",
    "\n",
    "X = df_processed.drop(columns=['target', 'id'])\n",
    "y = df_processed['target']\n",
    "\n",
    "X_train, X_test, y_train, y_test = train_test_split(\n",
    "    X, y, test_size=0.2, random_state=42)\n",
    "\n",
    "logistic_pipeline.fit(X_train, y_train)\n",
    "\n",
    "y_pred_logistic = logistic_pipeline.predict(X_test)\n",
    "y_proba_logistic = logistic_pipeline.predict_proba(X_test)[:, 1]\n",
    "\n",
    "print('Logistic Regression Classification Report:')\n",
    "print(classification_report(y_test, y_pred_logistic))\n",
    "print('\\nROC-AUC Score:', roc_auc_score(y_test, y_proba_logistic))"
   ]
  },
  {
   "cell_type": "code",
   "execution_count": 176,
   "id": "a040aecb",
   "metadata": {},
   "outputs": [
    {
     "name": "stdout",
     "output_type": "stream",
     "text": [
      "              precision    recall  f1-score   support\n",
      "\n",
      "           0       1.00      0.80      0.89     16569\n",
      "           1       0.20      0.94      0.33       869\n",
      "\n",
      "    accuracy                           0.81     17438\n",
      "   macro avg       0.60      0.87      0.61     17438\n",
      "weighted avg       0.96      0.81      0.86     17438\n",
      "\n",
      "\n",
      "ROC-AUC Score: 0.8700423260513745\n"
     ]
    }
   ],
   "source": [
    "model.fit(X_train, y_train)\n",
    "\n",
    "y_pred = model.predict(X_test)\n",
    "print(classification_report(y_test, y_pred))\n",
    "print('\\nROC-AUC Score:', roc_auc_score(y_test, y_pred))"
   ]
  },
  {
   "cell_type": "markdown",
   "id": "e3d4cfba",
   "metadata": {},
   "source": [
    "## Модель склонности клиента к покупке транспорта"
   ]
  },
  {
   "cell_type": "code",
   "execution_count": 177,
   "id": "1fdbf7df",
   "metadata": {},
   "outputs": [
    {
     "name": "stdout",
     "output_type": "stream",
     "text": [
      "(3304, 18)\n",
      "Logistic Regression Classification Report:\n",
      "              precision    recall  f1-score   support\n",
      "\n",
      "           0       0.99      0.93      0.96     16763\n",
      "           1       0.32      0.86      0.47       675\n",
      "\n",
      "    accuracy                           0.92     17438\n",
      "   macro avg       0.66      0.90      0.71     17438\n",
      "weighted avg       0.97      0.92      0.94     17438\n",
      "\n",
      "\n",
      "ROC-AUC Score: 0.9651924763754387\n"
     ]
    }
   ],
   "source": [
    "target_category = 'транспорт'\n",
    "df_city['target'] = (df_city['product_category'] == target_category).astype(int)\n",
    "\n",
    "print(df_city[df_city['target'] == 1].shape)\n",
    "\n",
    "df_processed = pd.concat([\n",
    "    df_city.drop(columns=['colour', 'normalized_colour', 'product', 'product_category', 'education', 'city']),\n",
    "    colour_encoded,\n",
    "    education_encoded\n",
    "], axis=1)\n",
    "\n",
    "X = df_processed.drop(columns=['target', 'id'])\n",
    "y = df_processed['target']\n",
    "\n",
    "X_train, X_test, y_train, y_test = train_test_split(\n",
    "    X, y, test_size=0.2, random_state=42)\n",
    "\n",
    "logistic_pipeline.fit(X_train, y_train)\n",
    "\n",
    "y_pred_logistic = logistic_pipeline.predict(X_test)\n",
    "y_proba_logistic = logistic_pipeline.predict_proba(X_test)[:, 1]\n",
    "\n",
    "print('Logistic Regression Classification Report:')\n",
    "print(classification_report(y_test, y_pred_logistic))\n",
    "print('\\nROC-AUC Score:', roc_auc_score(y_test, y_proba_logistic))"
   ]
  },
  {
   "cell_type": "code",
   "execution_count": 178,
   "id": "0186f6cf",
   "metadata": {},
   "outputs": [
    {
     "name": "stdout",
     "output_type": "stream",
     "text": [
      "              precision    recall  f1-score   support\n",
      "\n",
      "           0       1.00      0.95      0.97     16763\n",
      "           1       0.44      0.88      0.58       675\n",
      "\n",
      "    accuracy                           0.95     17438\n",
      "   macro avg       0.72      0.92      0.78     17438\n",
      "weighted avg       0.97      0.95      0.96     17438\n",
      "\n",
      "\n",
      "ROC-AUC Score: 0.917743663845197\n"
     ]
    }
   ],
   "source": [
    "model.fit(X_train, y_train)\n",
    "\n",
    "y_pred = model.predict(X_test)\n",
    "print(classification_report(y_test, y_pred))\n",
    "print('\\nROC-AUC Score:', roc_auc_score(y_test, y_pred))"
   ]
  },
  {
   "cell_type": "markdown",
   "id": "d9761094",
   "metadata": {},
   "source": [
    "## Модель склонности клиента к покупке тренировочного инвентаря"
   ]
  },
  {
   "cell_type": "code",
   "execution_count": 179,
   "id": "ab09031c",
   "metadata": {},
   "outputs": [
    {
     "name": "stdout",
     "output_type": "stream",
     "text": [
      "(2143, 18)\n",
      "Logistic Regression Classification Report:\n",
      "              precision    recall  f1-score   support\n",
      "\n",
      "           0       1.00      0.76      0.86     17016\n",
      "           1       0.09      0.98      0.17       422\n",
      "\n",
      "    accuracy                           0.76     17438\n",
      "   macro avg       0.54      0.87      0.51     17438\n",
      "weighted avg       0.98      0.76      0.84     17438\n",
      "\n",
      "\n",
      "ROC-AUC Score: 0.915043020563863\n"
     ]
    }
   ],
   "source": [
    "target_category = 'тренировочный инвентарь'\n",
    "df_city['target'] = (df_city['product_category'] == target_category).astype(int)\n",
    "\n",
    "print(df_city[df_city['target'] == 1].shape)\n",
    "\n",
    "df_processed = pd.concat([\n",
    "    df_city.drop(columns=['colour', 'normalized_colour', 'product', 'product_category', 'education', 'city']),\n",
    "    colour_encoded,\n",
    "    education_encoded\n",
    "], axis=1)\n",
    "\n",
    "X = df_processed.drop(columns=['target', 'id'])\n",
    "y = df_processed['target']\n",
    "\n",
    "X_train, X_test, y_train, y_test = train_test_split(\n",
    "    X, y, test_size=0.2, random_state=42)\n",
    "\n",
    "logistic_pipeline.fit(X_train, y_train)\n",
    "\n",
    "y_pred_logistic = logistic_pipeline.predict(X_test)\n",
    "y_proba_logistic = logistic_pipeline.predict_proba(X_test)[:, 1]\n",
    "\n",
    "print('Logistic Regression Classification Report:')\n",
    "print(classification_report(y_test, y_pred_logistic))\n",
    "print('\\nROC-AUC Score:', roc_auc_score(y_test, y_proba_logistic))"
   ]
  },
  {
   "cell_type": "code",
   "execution_count": 180,
   "id": "dc7ad64b",
   "metadata": {},
   "outputs": [
    {
     "name": "stdout",
     "output_type": "stream",
     "text": [
      "              precision    recall  f1-score   support\n",
      "\n",
      "           0       1.00      0.80      0.89     17016\n",
      "           1       0.10      0.97      0.19       422\n",
      "\n",
      "    accuracy                           0.80     17438\n",
      "   macro avg       0.55      0.88      0.54     17438\n",
      "weighted avg       0.98      0.80      0.87     17438\n",
      "\n",
      "\n",
      "ROC-AUC Score: 0.8811556226980127\n"
     ]
    }
   ],
   "source": [
    "model.fit(X_train, y_train)\n",
    "\n",
    "y_pred = model.predict(X_test)\n",
    "print(classification_report(y_test, y_pred))\n",
    "print('\\nROC-AUC Score:', roc_auc_score(y_test, y_pred))"
   ]
  },
  {
   "cell_type": "markdown",
   "id": "734add54",
   "metadata": {},
   "source": [
    "## Модель склонности клиента к покупке велозапчастей"
   ]
  },
  {
   "cell_type": "code",
   "execution_count": 181,
   "id": "32ca4dd1",
   "metadata": {},
   "outputs": [
    {
     "name": "stdout",
     "output_type": "stream",
     "text": [
      "(1288, 18)\n",
      "Logistic Regression Classification Report:\n",
      "              precision    recall  f1-score   support\n",
      "\n",
      "           0       1.00      0.82      0.90     17181\n",
      "           1       0.07      0.94      0.14       257\n",
      "\n",
      "    accuracy                           0.82     17438\n",
      "   macro avg       0.54      0.88      0.52     17438\n",
      "weighted avg       0.99      0.82      0.89     17438\n",
      "\n",
      "\n",
      "ROC-AUC Score: 0.9386331204250827\n"
     ]
    }
   ],
   "source": [
    "target_category = 'велозапчасти'\n",
    "df_city['target'] = (df_city['product_category'] == target_category).astype(int)\n",
    "\n",
    "print(df_city[df_city['target'] == 1].shape)\n",
    "\n",
    "df_processed = pd.concat([\n",
    "    df_city.drop(columns=['colour', 'normalized_colour', 'product', 'product_category', 'education', 'city']),\n",
    "    colour_encoded,\n",
    "    education_encoded\n",
    "], axis=1)\n",
    "\n",
    "X = df_processed.drop(columns=['target', 'id'])\n",
    "y = df_processed['target']\n",
    "\n",
    "X_train, X_test, y_train, y_test = train_test_split(\n",
    "    X, y, test_size=0.2, random_state=42)\n",
    "\n",
    "logistic_pipeline.fit(X_train, y_train)\n",
    "\n",
    "y_pred_logistic = logistic_pipeline.predict(X_test)\n",
    "y_proba_logistic = logistic_pipeline.predict_proba(X_test)[:, 1]\n",
    "\n",
    "print('Logistic Regression Classification Report:')\n",
    "print(classification_report(y_test, y_pred_logistic))\n",
    "print('\\nROC-AUC Score:', roc_auc_score(y_test, y_proba_logistic))"
   ]
  },
  {
   "cell_type": "code",
   "execution_count": 182,
   "id": "bc39cea6",
   "metadata": {},
   "outputs": [
    {
     "name": "stdout",
     "output_type": "stream",
     "text": [
      "              precision    recall  f1-score   support\n",
      "\n",
      "           0       1.00      0.88      0.94     17181\n",
      "           1       0.10      0.91      0.18       257\n",
      "\n",
      "    accuracy                           0.88     17438\n",
      "   macro avg       0.55      0.90      0.56     17438\n",
      "weighted avg       0.99      0.88      0.92     17438\n",
      "\n",
      "\n",
      "ROC-AUC Score: 0.8971029892988748\n"
     ]
    }
   ],
   "source": [
    "model.fit(X_train, y_train)\n",
    "\n",
    "y_pred = model.predict(X_test)\n",
    "print(classification_report(y_test, y_pred))\n",
    "print('\\nROC-AUC Score:', roc_auc_score(y_test, y_pred))"
   ]
  },
  {
   "cell_type": "markdown",
   "id": "6915b46e",
   "metadata": {},
   "source": [
    "Для более часто встречаемых товаров модель RandomForestClassifier показывает лучше результаты, относительно модели LogisticRegression."
   ]
  },
  {
   "cell_type": "markdown",
   "id": "4247d438",
   "metadata": {},
   "source": [
    "В результате можно сказать, что обе модели имеют достаточно большую долю верно спрогнозированных классов «купит» среди класса «купит», однако ценой большого числа ложных срабатываний, что связано с сильным дисбалансом классов.\\\n",
    "На мой взгляд модели можно использовать, например, для рассылки промокодов на определенные товары или других рекламных акций, однако предварительно следует оценить целесообразность с точки зрения затрат и ожидаемой прибыли."
   ]
  },
  {
   "cell_type": "code",
   "execution_count": null,
   "id": "3c0ed205",
   "metadata": {},
   "outputs": [],
   "source": []
  }
 ],
 "metadata": {
  "kernelspec": {
   "display_name": "Python 3 (ipykernel)",
   "language": "python",
   "name": "python3"
  },
  "language_info": {
   "codemirror_mode": {
    "name": "ipython",
    "version": 3
   },
   "file_extension": ".py",
   "mimetype": "text/x-python",
   "name": "python",
   "nbconvert_exporter": "python",
   "pygments_lexer": "ipython3",
   "version": "3.11.5"
  }
 },
 "nbformat": 4,
 "nbformat_minor": 5
}
